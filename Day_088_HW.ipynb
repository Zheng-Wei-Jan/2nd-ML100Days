{
 "cells": [
  {
   "cell_type": "markdown",
   "metadata": {},
   "source": [
    "## Work\n",
    "1. 請嘗試寫一個 callback 用來記錄各類別在訓練過程中，對驗證集的 True Positive 與 True Negative"
   ]
  },
  {
   "cell_type": "code",
   "execution_count": 1,
   "metadata": {},
   "outputs": [
    {
     "name": "stderr",
     "output_type": "stream",
     "text": [
      "Using TensorFlow backend.\n"
     ]
    }
   ],
   "source": [
    "import os\n",
    "import keras\n",
    "\n",
    "# Disable GPU\n",
    "os.environ[\"CUDA_VISIBLE_DEVICES\"] = \"\""
   ]
  },
  {
   "cell_type": "code",
   "execution_count": 2,
   "metadata": {},
   "outputs": [],
   "source": [
    "train, test = keras.datasets.cifar10.load_data()"
   ]
  },
  {
   "cell_type": "code",
   "execution_count": 3,
   "metadata": {},
   "outputs": [],
   "source": [
    "## 資料前處理\n",
    "def preproc_x(x, flatten=True):\n",
    "    x = x / 255.\n",
    "    if flatten:\n",
    "        x = x.reshape((len(x), -1))\n",
    "    return x\n",
    "\n",
    "def preproc_y(y, num_classes=10):\n",
    "    if y.shape[-1] == 1:\n",
    "        y = keras.utils.to_categorical(y, num_classes)\n",
    "    return y    "
   ]
  },
  {
   "cell_type": "code",
   "execution_count": 4,
   "metadata": {},
   "outputs": [],
   "source": [
    "x_train, y_train = train\n",
    "x_test, y_test = test\n",
    "\n",
    "# Preproc the inputs\n",
    "x_train = preproc_x(x_train)\n",
    "x_test = preproc_x(x_test)\n",
    "\n",
    "# Preprc the outputs\n",
    "y_train = preproc_y(y_train)\n",
    "y_test = preproc_y(y_test)"
   ]
  },
  {
   "cell_type": "code",
   "execution_count": 5,
   "metadata": {},
   "outputs": [],
   "source": [
    "from keras.layers import BatchNormalization\n",
    "def build_mlp(input_shape, output_units=10, num_neurons=[256, 256, 256]):\n",
    "    \"\"\"Code Here\n",
    "    建立你的神經網路\n",
    "    \"\"\"\n",
    "    input_layer = keras.layers.Input(input_shape)\n",
    "    \n",
    "    for i, n_units in enumerate(num_neurons):\n",
    "        if i == 0:\n",
    "            x = keras.layers.Dense(units=n_units, \n",
    "                                   activation=\"relu\", \n",
    "                                   name=\"hidden_layer\"+str(i+1))(input_layer)\n",
    "            x = BatchNormalization()(x)\n",
    "        else:\n",
    "            x = keras.layers.Dense(units=n_units, \n",
    "                                   activation=\"relu\", \n",
    "                                   name=\"hidden_layer\"+str(i+1))(x)\n",
    "            x = BatchNormalization()(x)\n",
    "    \n",
    "    out = keras.layers.Dense(units=output_units, activation=\"softmax\", name=\"output\")(x)\n",
    "    \n",
    "    model = keras.models.Model(inputs=[input_layer], outputs=[out])\n",
    "    return model"
   ]
  },
  {
   "cell_type": "code",
   "execution_count": 6,
   "metadata": {},
   "outputs": [],
   "source": [
    "## 超參數設定\n",
    "LEARNING_RATE = 1e-3\n",
    "EPOCHS = 25\n",
    "BATCH_SIZE = 1024\n",
    "MOMENTUM = 0.95"
   ]
  },
  {
   "cell_type": "markdown",
   "metadata": {},
   "source": [
    "# Callback 在訓練時的呼叫時機\n",
    "- on_train_begin：在訓練最開始時\n",
    "- on_train_end：在訓練結束時\n",
    "- on_batch_begin：在每個 batch 開始時\n",
    "- on_batch_end：在每個 batch 結束時\n",
    "- on_epoch_begin：在每個 epoch 開始時\n",
    "- on_epoch_end：在每個 epoch 結束時 "
   ]
  },
  {
   "cell_type": "code",
   "execution_count": 11,
   "metadata": {},
   "outputs": [],
   "source": [
    "# 載入 Callbacks\n",
    "from keras.callbacks import Callback\n",
    "from sklearn.metrics import confusion_matrix\n",
    "import numpy as np\n",
    "# Record_fp_tp\n",
    "class Record_tp_tn(Callback):\n",
    "    \"\"\"Code Here\n",
    "    撰寫一個紀錄 ture positive 與 true negative 數量的 callbacks    \n",
    "    \"\"\"\n",
    "    def on_train_begin(self, epoch, logs = {}):\n",
    "        logs = logs or {}\n",
    "        record_items = [\"val_tp\", \"val_tn\"]\n",
    "        for i in record_items:\n",
    "            if i not in self.params['metrics']:\n",
    "                self.params['metrics'].append(i)\n",
    "    \n",
    "    def on_epoch_end(self, epoch, logs = {}, thres=0.5):\n",
    "        logs = logs or {}\n",
    "        y_true = self.validation_data[1].argmax(axis = 1)\n",
    "        y_pred = self.model.predict(self.validation_data[0])\n",
    "        y_pred = (y_pred[:, 1] >= thres) * 1\n",
    "        \n",
    "        logs[\"valid_tp\"] = valid_tp = np.sum(np.logical_and(y_pred == 1, y_true == 1))\n",
    "        logs[\"valid_tn\"] = valid_tn = np.sum(np.logical_and(y_pred == 0, y_true == 0))\n",
    "rec_tptn = Record_tp_tn()"
   ]
  },
  {
   "cell_type": "code",
   "execution_count": 12,
   "metadata": {
    "scrolled": true
   },
   "outputs": [
    {
     "name": "stdout",
     "output_type": "stream",
     "text": [
      "_________________________________________________________________\n",
      "Layer (type)                 Output Shape              Param #   \n",
      "=================================================================\n",
      "input_3 (InputLayer)         (None, 3072)              0         \n",
      "_________________________________________________________________\n",
      "hidden_layer1 (Dense)        (None, 256)               786688    \n",
      "_________________________________________________________________\n",
      "batch_normalization_7 (Batch (None, 256)               1024      \n",
      "_________________________________________________________________\n",
      "hidden_layer2 (Dense)        (None, 256)               65792     \n",
      "_________________________________________________________________\n",
      "batch_normalization_8 (Batch (None, 256)               1024      \n",
      "_________________________________________________________________\n",
      "hidden_layer3 (Dense)        (None, 256)               65792     \n",
      "_________________________________________________________________\n",
      "batch_normalization_9 (Batch (None, 256)               1024      \n",
      "_________________________________________________________________\n",
      "output (Dense)               (None, 10)                2570      \n",
      "=================================================================\n",
      "Total params: 923,914\n",
      "Trainable params: 922,378\n",
      "Non-trainable params: 1,536\n",
      "_________________________________________________________________\n",
      "Train on 50000 samples, validate on 10000 samples\n",
      "Epoch 1/25\n",
      "50000/50000 [==============================] - 2s 48us/step - loss: 2.2244 - acc: 0.2688 - val_loss: 2.1021 - val_acc: 0.3177\n",
      "Epoch 2/25\n",
      "50000/50000 [==============================] - 2s 36us/step - loss: 1.7560 - acc: 0.3894 - val_loss: 1.8417 - val_acc: 0.3668\n",
      "Epoch 3/25\n",
      "50000/50000 [==============================] - 2s 31us/step - loss: 1.6281 - acc: 0.4312 - val_loss: 1.7178 - val_acc: 0.4025\n",
      "Epoch 4/25\n",
      "50000/50000 [==============================] - 2s 32us/step - loss: 1.5537 - acc: 0.4538 - val_loss: 1.6505 - val_acc: 0.4248\n",
      "Epoch 5/25\n",
      "50000/50000 [==============================] - 2s 31us/step - loss: 1.4998 - acc: 0.4742 - val_loss: 1.5933 - val_acc: 0.4437\n",
      "Epoch 6/25\n",
      "50000/50000 [==============================] - 2s 32us/step - loss: 1.4554 - acc: 0.4889 - val_loss: 1.5749 - val_acc: 0.4491\n",
      "Epoch 7/25\n",
      "50000/50000 [==============================] - 2s 33us/step - loss: 1.4164 - acc: 0.5030 - val_loss: 1.5471 - val_acc: 0.4573\n",
      "Epoch 8/25\n",
      "50000/50000 [==============================] - 2s 32us/step - loss: 1.3825 - acc: 0.5159 - val_loss: 1.5211 - val_acc: 0.4660\n",
      "Epoch 9/25\n",
      "50000/50000 [==============================] - 2s 32us/step - loss: 1.3527 - acc: 0.5276 - val_loss: 1.5117 - val_acc: 0.4705\n",
      "Epoch 10/25\n",
      "50000/50000 [==============================] - 2s 32us/step - loss: 1.3268 - acc: 0.5386 - val_loss: 1.5065 - val_acc: 0.4703\n",
      "Epoch 11/25\n",
      "50000/50000 [==============================] - 2s 32us/step - loss: 1.3016 - acc: 0.5474 - val_loss: 1.4917 - val_acc: 0.4823\n",
      "Epoch 12/25\n",
      "50000/50000 [==============================] - 2s 33us/step - loss: 1.2766 - acc: 0.5556 - val_loss: 1.4908 - val_acc: 0.4757\n",
      "Epoch 13/25\n",
      "50000/50000 [==============================] - 2s 32us/step - loss: 1.2547 - acc: 0.5644 - val_loss: 1.4834 - val_acc: 0.4790\n",
      "Epoch 14/25\n",
      "50000/50000 [==============================] - 2s 32us/step - loss: 1.2321 - acc: 0.5736 - val_loss: 1.4649 - val_acc: 0.4836\n",
      "Epoch 15/25\n",
      "50000/50000 [==============================] - 2s 33us/step - loss: 1.2123 - acc: 0.5809 - val_loss: 1.4634 - val_acc: 0.4835\n",
      "Epoch 16/25\n",
      "50000/50000 [==============================] - 2s 33us/step - loss: 1.1912 - acc: 0.5903 - val_loss: 1.4658 - val_acc: 0.4830\n",
      "Epoch 17/25\n",
      "50000/50000 [==============================] - 2s 32us/step - loss: 1.1718 - acc: 0.5962 - val_loss: 1.4573 - val_acc: 0.4866\n",
      "Epoch 18/25\n",
      "50000/50000 [==============================] - 2s 32us/step - loss: 1.1525 - acc: 0.6048 - val_loss: 1.4503 - val_acc: 0.4865\n",
      "Epoch 19/25\n",
      "50000/50000 [==============================] - 2s 31us/step - loss: 1.1348 - acc: 0.6103 - val_loss: 1.4600 - val_acc: 0.4828\n",
      "Epoch 20/25\n",
      "50000/50000 [==============================] - 2s 32us/step - loss: 1.1158 - acc: 0.6177 - val_loss: 1.4501 - val_acc: 0.4915\n",
      "Epoch 21/25\n",
      "50000/50000 [==============================] - 2s 32us/step - loss: 1.0980 - acc: 0.6243 - val_loss: 1.4454 - val_acc: 0.4889\n",
      "Epoch 22/25\n",
      "50000/50000 [==============================] - 2s 32us/step - loss: 1.0789 - acc: 0.6319 - val_loss: 1.4498 - val_acc: 0.4892\n",
      "Epoch 23/25\n",
      "50000/50000 [==============================] - 2s 31us/step - loss: 1.0630 - acc: 0.6386 - val_loss: 1.4603 - val_acc: 0.4863\n",
      "Epoch 24/25\n",
      "50000/50000 [==============================] - 2s 32us/step - loss: 1.0455 - acc: 0.6441 - val_loss: 1.4444 - val_acc: 0.4945\n",
      "Epoch 25/25\n",
      "50000/50000 [==============================] - 2s 32us/step - loss: 1.0283 - acc: 0.6505 - val_loss: 1.4513 - val_acc: 0.4878\n"
     ]
    }
   ],
   "source": [
    "model = build_mlp(input_shape=x_train.shape[1:])\n",
    "model.summary()\n",
    "optimizer = keras.optimizers.SGD(lr=LEARNING_RATE, nesterov=True, momentum=MOMENTUM)\n",
    "model.compile(loss=\"categorical_crossentropy\", metrics=[\"accuracy\"], optimizer=optimizer)\n",
    "\n",
    "\"\"\"Code Here\n",
    "將 callbacks 放入模型訓練流程中\n",
    "\"\"\"\n",
    "model.fit(x_train, y_train, \n",
    "          epochs = EPOCHS, \n",
    "          batch_size = BATCH_SIZE, \n",
    "          validation_data = (x_test, y_test), \n",
    "          shuffle = True,\n",
    "          callbacks = [rec_tptn])\n",
    "\n",
    "# Collect results\n",
    "train_loss = model.history.history[\"loss\"]\n",
    "valid_loss = model.history.history[\"val_loss\"]\n",
    "train_acc = model.history.history[\"acc\"]\n",
    "valid_acc = model.history.history[\"val_acc\"]\n",
    "\n",
    "\"\"\"Code Here\n",
    "將 tp/tn 從訓練完的模型中取出\n",
    "\"\"\"\n",
    "valid_tp = model.history.history['valid_tp']\n",
    "valid_tn = model.history.history['valid_tn']"
   ]
  },
  {
   "cell_type": "code",
   "execution_count": 13,
   "metadata": {},
   "outputs": [
    {
     "data": {
      "image/png": "[encoded data removed]",
      "text/plain": [
       "<Figure size 432x288 with 1 Axes>"
      ]
     },
     "metadata": {
      "needs_background": "light"
     },
     "output_type": "display_data"
    },
    {
     "data": {
      "image/png": "[encoded data removed]",
      "text/plain": [
       "<Figure size 432x288 with 1 Axes>"
      ]
     },
     "metadata": {
      "needs_background": "light"
     },
     "output_type": "display_data"
    },
    {
     "data": {
      "image/png": "[encoded data removed]",
      "text/plain": [
       "<Figure size 432x288 with 1 Axes>"
      ]
     },
     "metadata": {
      "needs_background": "light"
     },
     "output_type": "display_data"
    }
   ],
   "source": [
    "import matplotlib.pyplot as plt\n",
    "%matplotlib inline\n",
    "\n",
    "plt.plot(range(len(train_loss)), train_loss, label=\"train loss\")\n",
    "plt.plot(range(len(valid_loss)), valid_loss, label=\"valid loss\")\n",
    "plt.legend()\n",
    "plt.title(\"Loss\")\n",
    "plt.show()\n",
    "\n",
    "plt.plot(range(len(train_acc)), train_acc, label=\"train accuracy\")\n",
    "plt.plot(range(len(valid_acc)), valid_acc, label=\"valid accuracy\")\n",
    "plt.legend()\n",
    "plt.title(\"Accuracy\")\n",
    "plt.show()\n",
    "\n",
    "plt.plot(range(len(valid_tp)), valid_tp, label=\"valid tp\", color=\"navy\")\n",
    "plt.plot(range(len(valid_tn)), valid_tn, label=\"valid tn\", color=\"red\")\n",
    "plt.legend()\n",
    "plt.title(\"True positives and True Negatives\")\n",
    "plt.show()\n"
   ]
  },
  {
   "cell_type": "code",
   "execution_count": null,
   "metadata": {},
   "outputs": [],
   "source": []
  }
 ],
 "metadata": {
  "kernelspec": {
   "display_name": "Python 3",
   "language": "python",
   "name": "python3"
  },
  "language_info": {
   "codemirror_mode": {
    "name": "ipython",
    "version": 3
   },
   "file_extension": ".py",
   "mimetype": "text/x-python",
   "name": "python",
   "nbconvert_exporter": "python",
   "pygments_lexer": "ipython3",
   "version": "3.6.8"
  }
 },
 "nbformat": 4,
 "nbformat_minor": 2
}
