{
 "cells": [
  {
   "cell_type": "markdown",
   "metadata": {},
   "source": [
    "## Work\n",
    "1. 試改變 monitor \"Validation Accuracy\" 並比較結果\n",
    "2. 調整 earlystop 的等待次數至 10, 25 並比較結果"
   ]
  },
  {
   "cell_type": "code",
   "execution_count": 1,
   "metadata": {},
   "outputs": [
    {
     "name": "stderr",
     "output_type": "stream",
     "text": [
      "Using TensorFlow backend.\n"
     ]
    }
   ],
   "source": [
    "import os\n",
    "import keras\n",
    "import matplotlib.pyplot as plt\n",
    "import tensorflow as tf\n",
    "%matplotlib inline\n",
    "\n",
    "\n",
    "# Disable GPU\n",
    "os.environ[\"CUDA_VISIBLE_DEVICES\"] = \"0\"\n",
    "gpu_options = tf.GPUOptions(per_process_gpu_memory_fraction = 0.333)\n",
    "sess = tf.Session(config=tf.ConfigProto(gpu_options = gpu_options))"
   ]
  },
  {
   "cell_type": "code",
   "execution_count": 2,
   "metadata": {},
   "outputs": [],
   "source": [
    "train, test = keras.datasets.cifar10.load_data()"
   ]
  },
  {
   "cell_type": "code",
   "execution_count": 3,
   "metadata": {},
   "outputs": [],
   "source": [
    "## 資料前處理\n",
    "def preproc_x(x, flatten=True):\n",
    "    x = x / 255.\n",
    "    if flatten:\n",
    "        x = x.reshape((len(x), -1))\n",
    "    return x\n",
    "\n",
    "def preproc_y(y, num_classes=10):\n",
    "    if y.shape[-1] == 1:\n",
    "        y = keras.utils.to_categorical(y, num_classes)\n",
    "    return y    "
   ]
  },
  {
   "cell_type": "code",
   "execution_count": 4,
   "metadata": {},
   "outputs": [],
   "source": [
    "x_train, y_train = train\n",
    "x_test, y_test = test\n",
    "\n",
    "# Preproc the inputs\n",
    "x_train = preproc_x(x_train)\n",
    "x_test = preproc_x(x_test)\n",
    "\n",
    "# Preprc the outputs\n",
    "y_train = preproc_y(y_train)\n",
    "y_test = preproc_y(y_test)"
   ]
  },
  {
   "cell_type": "code",
   "execution_count": 5,
   "metadata": {},
   "outputs": [],
   "source": [
    "from keras.layers import BatchNormalization\n",
    "\n",
    "def build_mlp(input_shape, \n",
    "              output_units=10, \n",
    "              num_neurons=[512, 256, 128]):\n",
    "    \"\"\"Code Here\n",
    "    建立你的神經網路\n",
    "    \"\"\"\n",
    "    input_layer = keras.layers.Input(input_shape)\n",
    "    for i, n_units in enumerate(num_neurons):\n",
    "        if i == 0:\n",
    "            x = keras.layers.Dense(units=n_units, \n",
    "                                   activation=\"relu\", \n",
    "                                   name=\"hidden_layer\"+str(i+1))(input_layer)\n",
    "            x = BatchNormalization()(x)\n",
    "        else:\n",
    "            x = keras.layers.Dense(units=n_units, \n",
    "                                   activation=\"relu\", \n",
    "                                   name=\"hidden_layer\"+str(i+1))(x)\n",
    "            x = BatchNormalization()(x)\n",
    "    \n",
    "    out = keras.layers.Dense(units=output_units, activation=\"softmax\", name=\"output\")(x)\n",
    "    \n",
    "    model = keras.models.Model(inputs=[input_layer], outputs=[out])\n",
    "    return model"
   ]
  },
  {
   "cell_type": "code",
   "execution_count": 6,
   "metadata": {},
   "outputs": [],
   "source": [
    "## 超參數設定\n",
    "LEARNING_RATE = 1e-3\n",
    "EPOCHS = 50\n",
    "BATCH_SIZE = 1024\n",
    "MOMENTUM = 0.95"
   ]
  },
  {
   "cell_type": "code",
   "execution_count": 12,
   "metadata": {},
   "outputs": [
    {
     "name": "stdout",
     "output_type": "stream",
     "text": [
      "_________________________________________________________________\n",
      "Layer (type)                 Output Shape              Param #   \n",
      "=================================================================\n",
      "input_3 (InputLayer)         (None, 3072)              0         \n",
      "_________________________________________________________________\n",
      "hidden_layer1 (Dense)        (None, 512)               1573376   \n",
      "_________________________________________________________________\n",
      "batch_normalization_7 (Batch (None, 512)               2048      \n",
      "_________________________________________________________________\n",
      "hidden_layer2 (Dense)        (None, 256)               131328    \n",
      "_________________________________________________________________\n",
      "batch_normalization_8 (Batch (None, 256)               1024      \n",
      "_________________________________________________________________\n",
      "hidden_layer3 (Dense)        (None, 128)               32896     \n",
      "_________________________________________________________________\n",
      "batch_normalization_9 (Batch (None, 128)               512       \n",
      "_________________________________________________________________\n",
      "output (Dense)               (None, 10)                1290      \n",
      "=================================================================\n",
      "Total params: 1,742,474\n",
      "Trainable params: 1,740,682\n",
      "Non-trainable params: 1,792\n",
      "_________________________________________________________________\n",
      "Train on 50000 samples, validate on 10000 samples\n",
      "Epoch 1/50\n",
      "50000/50000 [==============================] - 3s 51us/step - loss: 2.2021 - acc: 0.2721 - val_loss: 2.0820 - val_acc: 0.3307\n",
      "Epoch 2/50\n",
      "50000/50000 [==============================] - 2s 34us/step - loss: 1.7218 - acc: 0.3999 - val_loss: 1.8059 - val_acc: 0.3892\n",
      "Epoch 3/50\n",
      "50000/50000 [==============================] - 2s 33us/step - loss: 1.6011 - acc: 0.4398 - val_loss: 1.6776 - val_acc: 0.4099\n",
      "Epoch 4/50\n",
      "50000/50000 [==============================] - 2s 33us/step - loss: 1.5302 - acc: 0.4653 - val_loss: 1.6389 - val_acc: 0.4282\n",
      "Epoch 5/50\n",
      "50000/50000 [==============================] - 2s 33us/step - loss: 1.4789 - acc: 0.4840 - val_loss: 1.6015 - val_acc: 0.4400\n",
      "Epoch 6/50\n",
      "50000/50000 [==============================] - 2s 34us/step - loss: 1.4319 - acc: 0.5010 - val_loss: 1.5818 - val_acc: 0.4485\n",
      "Epoch 7/50\n",
      "50000/50000 [==============================] - 2s 34us/step - loss: 1.3940 - acc: 0.5144 - val_loss: 1.5585 - val_acc: 0.4526\n",
      "Epoch 8/50\n",
      "50000/50000 [==============================] - 2s 34us/step - loss: 1.3597 - acc: 0.5274 - val_loss: 1.5331 - val_acc: 0.4673\n",
      "Epoch 9/50\n",
      "50000/50000 [==============================] - 2s 33us/step - loss: 1.3293 - acc: 0.5375 - val_loss: 1.5157 - val_acc: 0.4689\n",
      "Epoch 10/50\n",
      "50000/50000 [==============================] - 2s 34us/step - loss: 1.2993 - acc: 0.5492 - val_loss: 1.5225 - val_acc: 0.4646\n",
      "Epoch 11/50\n",
      "50000/50000 [==============================] - 2s 34us/step - loss: 1.2713 - acc: 0.5601 - val_loss: 1.5041 - val_acc: 0.4699\n",
      "Epoch 12/50\n",
      "50000/50000 [==============================] - 2s 34us/step - loss: 1.2444 - acc: 0.5694 - val_loss: 1.4857 - val_acc: 0.4766\n",
      "Epoch 13/50\n",
      "50000/50000 [==============================] - 2s 34us/step - loss: 1.2192 - acc: 0.5788 - val_loss: 1.4798 - val_acc: 0.4822\n",
      "Epoch 14/50\n",
      "50000/50000 [==============================] - 2s 34us/step - loss: 1.1947 - acc: 0.5879 - val_loss: 1.4876 - val_acc: 0.4772\n",
      "Epoch 15/50\n",
      "50000/50000 [==============================] - 2s 34us/step - loss: 1.1725 - acc: 0.5949 - val_loss: 1.4675 - val_acc: 0.4817\n",
      "Epoch 16/50\n",
      "50000/50000 [==============================] - 2s 33us/step - loss: 1.1477 - acc: 0.6065 - val_loss: 1.4660 - val_acc: 0.4838\n",
      "Epoch 17/50\n",
      "50000/50000 [==============================] - 2s 34us/step - loss: 1.1250 - acc: 0.6130 - val_loss: 1.4692 - val_acc: 0.4870\n",
      "Epoch 18/50\n",
      "50000/50000 [==============================] - 2s 34us/step - loss: 1.1027 - acc: 0.6222 - val_loss: 1.4608 - val_acc: 0.4873\n",
      "Epoch 19/50\n",
      "50000/50000 [==============================] - 2s 33us/step - loss: 1.0838 - acc: 0.6301 - val_loss: 1.4655 - val_acc: 0.4897\n",
      "Epoch 20/50\n",
      "50000/50000 [==============================] - 2s 34us/step - loss: 1.0618 - acc: 0.6378 - val_loss: 1.4703 - val_acc: 0.4822\n",
      "Epoch 21/50\n",
      "50000/50000 [==============================] - 2s 34us/step - loss: 1.0387 - acc: 0.6469 - val_loss: 1.4580 - val_acc: 0.4929\n",
      "Epoch 22/50\n",
      "50000/50000 [==============================] - 2s 33us/step - loss: 1.0185 - acc: 0.6539 - val_loss: 1.4645 - val_acc: 0.4887\n",
      "Epoch 23/50\n",
      "50000/50000 [==============================] - 2s 34us/step - loss: 0.9988 - acc: 0.6627 - val_loss: 1.4614 - val_acc: 0.4902\n",
      "Epoch 24/50\n",
      "50000/50000 [==============================] - 2s 33us/step - loss: 0.9781 - acc: 0.6693 - val_loss: 1.4760 - val_acc: 0.4894\n",
      "Epoch 25/50\n",
      "50000/50000 [==============================] - 2s 33us/step - loss: 0.9583 - acc: 0.6778 - val_loss: 1.4643 - val_acc: 0.4935\n",
      "Epoch 26/50\n",
      "50000/50000 [==============================] - 2s 33us/step - loss: 0.9372 - acc: 0.6849 - val_loss: 1.4839 - val_acc: 0.4900\n",
      "Epoch 00026: early stopping\n"
     ]
    }
   ],
   "source": [
    "# 載入 Callbacks\n",
    "\"\"\"Code Here\n",
    "設定 callbacks: Earlystop\n",
    "\"\"\"\n",
    "\n",
    "from keras.callbacks import EarlyStopping\n",
    "earlystop = EarlyStopping(monitor=\"val_loss\", \n",
    "                          patience=5, \n",
    "                          verbose=1\n",
    "                          )\n",
    "\n",
    "results = {}\n",
    "\"\"\"Code Here\n",
    "撰寫你的訓練流程並將結果用 dictionary 紀錄\n",
    "\"\"\"\n",
    "model = build_mlp(input_shape=x_train.shape[1:])\n",
    "model.summary()\n",
    "optimizer = keras.optimizers.SGD(lr=LEARNING_RATE, nesterov=True, momentum=MOMENTUM)\n",
    "model.compile(loss=\"categorical_crossentropy\", metrics=[\"accuracy\"], optimizer=optimizer)\n",
    "\n",
    "model.fit(x_train, y_train, \n",
    "          epochs=EPOCHS, \n",
    "          batch_size=BATCH_SIZE, \n",
    "          validation_data=(x_test, y_test), \n",
    "          shuffle=True,\n",
    "          callbacks=[earlystop]\n",
    "         )\n",
    "\n",
    "# Collect results\n",
    "train_loss = model.history.history[\"loss\"]\n",
    "valid_loss = model.history.history[\"val_loss\"]\n",
    "train_acc = model.history.history[\"acc\"]\n",
    "valid_acc = model.history.history[\"val_acc\"]"
   ]
  },
  {
   "cell_type": "code",
   "execution_count": 13,
   "metadata": {},
   "outputs": [
    {
     "data": {
      "image/png": "[encoded data removed]",
      "text/plain": [
       "<Figure size 432x288 with 1 Axes>"
      ]
     },
     "metadata": {
      "needs_background": "light"
     },
     "output_type": "display_data"
    },
    {
     "data": {
      "image/png": "[encoded data removed]",
      "text/plain": [
       "<Figure size 432x288 with 1 Axes>"
      ]
     },
     "metadata": {
      "needs_background": "light"
     },
     "output_type": "display_data"
    }
   ],
   "source": [
    "import matplotlib.pyplot as plt\n",
    "%matplotlib inline\n",
    "\"\"\"Code Here\n",
    "將結果繪出\n",
    "\"\"\"\n",
    "import matplotlib.pyplot as plt\n",
    "%matplotlib inline\n",
    "\n",
    "plt.plot(range(len(train_loss)), train_loss, label=\"train loss\")\n",
    "plt.plot(range(len(valid_loss)), valid_loss, label=\"valid loss\")\n",
    "plt.legend()\n",
    "plt.title(\"Loss\")\n",
    "plt.show()\n",
    "\n",
    "plt.plot(range(len(train_acc)), train_acc, label=\"train accuracy\")\n",
    "plt.plot(range(len(valid_acc)), valid_acc, label=\"valid accuracy\")\n",
    "plt.legend()\n",
    "plt.title(\"Accuracy\")\n",
    "plt.show()"
   ]
  },
  {
   "cell_type": "markdown",
   "metadata": {},
   "source": [
    "#  patience=10"
   ]
  },
  {
   "cell_type": "code",
   "execution_count": 14,
   "metadata": {},
   "outputs": [
    {
     "name": "stdout",
     "output_type": "stream",
     "text": [
      "_________________________________________________________________\n",
      "Layer (type)                 Output Shape              Param #   \n",
      "=================================================================\n",
      "input_4 (InputLayer)         (None, 3072)              0         \n",
      "_________________________________________________________________\n",
      "hidden_layer1 (Dense)        (None, 512)               1573376   \n",
      "_________________________________________________________________\n",
      "batch_normalization_10 (Batc (None, 512)               2048      \n",
      "_________________________________________________________________\n",
      "hidden_layer2 (Dense)        (None, 256)               131328    \n",
      "_________________________________________________________________\n",
      "batch_normalization_11 (Batc (None, 256)               1024      \n",
      "_________________________________________________________________\n",
      "hidden_layer3 (Dense)        (None, 128)               32896     \n",
      "_________________________________________________________________\n",
      "batch_normalization_12 (Batc (None, 128)               512       \n",
      "_________________________________________________________________\n",
      "output (Dense)               (None, 10)                1290      \n",
      "=================================================================\n",
      "Total params: 1,742,474\n",
      "Trainable params: 1,740,682\n",
      "Non-trainable params: 1,792\n",
      "_________________________________________________________________\n",
      "Train on 50000 samples, validate on 10000 samples\n",
      "Epoch 1/50\n",
      "50000/50000 [==============================] - 3s 52us/step - loss: 2.2444 - acc: 0.2632 - val_loss: 2.1276 - val_acc: 0.3254\n",
      "Epoch 2/50\n",
      "50000/50000 [==============================] - 2s 34us/step - loss: 1.7419 - acc: 0.3927 - val_loss: 1.8375 - val_acc: 0.3811\n",
      "Epoch 3/50\n",
      "50000/50000 [==============================] - 2s 33us/step - loss: 1.6119 - acc: 0.4375 - val_loss: 1.6739 - val_acc: 0.4217\n",
      "Epoch 4/50\n",
      "50000/50000 [==============================] - 2s 32us/step - loss: 1.5385 - acc: 0.4652 - val_loss: 1.6386 - val_acc: 0.4286\n",
      "Epoch 5/50\n",
      "50000/50000 [==============================] - 2s 35us/step - loss: 1.4819 - acc: 0.4848 - val_loss: 1.5880 - val_acc: 0.4369\n",
      "Epoch 6/50\n",
      "50000/50000 [==============================] - 2s 37us/step - loss: 1.4352 - acc: 0.5020 - val_loss: 1.5575 - val_acc: 0.4483\n",
      "Epoch 7/50\n",
      "50000/50000 [==============================] - 2s 34us/step - loss: 1.3961 - acc: 0.5165 - val_loss: 1.5347 - val_acc: 0.4611\n",
      "Epoch 8/50\n",
      "50000/50000 [==============================] - 2s 32us/step - loss: 1.3607 - acc: 0.5278 - val_loss: 1.5238 - val_acc: 0.4616\n",
      "Epoch 9/50\n",
      "50000/50000 [==============================] - 2s 34us/step - loss: 1.3277 - acc: 0.5415 - val_loss: 1.5050 - val_acc: 0.4686\n",
      "Epoch 10/50\n",
      "50000/50000 [==============================] - 2s 33us/step - loss: 1.2976 - acc: 0.5527 - val_loss: 1.5006 - val_acc: 0.4712\n",
      "Epoch 11/50\n",
      "50000/50000 [==============================] - 2s 33us/step - loss: 1.2696 - acc: 0.5612 - val_loss: 1.4788 - val_acc: 0.4801\n",
      "Epoch 12/50\n",
      "50000/50000 [==============================] - 2s 33us/step - loss: 1.2423 - acc: 0.5726 - val_loss: 1.4811 - val_acc: 0.4776\n",
      "Epoch 13/50\n",
      "50000/50000 [==============================] - 2s 32us/step - loss: 1.2163 - acc: 0.5818 - val_loss: 1.4722 - val_acc: 0.4841\n",
      "Epoch 14/50\n",
      "50000/50000 [==============================] - 2s 34us/step - loss: 1.1904 - acc: 0.5927 - val_loss: 1.4765 - val_acc: 0.4819\n",
      "Epoch 15/50\n",
      "50000/50000 [==============================] - 2s 33us/step - loss: 1.1658 - acc: 0.5999 - val_loss: 1.4553 - val_acc: 0.4894\n",
      "Epoch 16/50\n",
      "50000/50000 [==============================] - 2s 33us/step - loss: 1.1424 - acc: 0.6110 - val_loss: 1.4484 - val_acc: 0.4905\n",
      "Epoch 17/50\n",
      "50000/50000 [==============================] - 2s 33us/step - loss: 1.1186 - acc: 0.6202 - val_loss: 1.4597 - val_acc: 0.4919\n",
      "Epoch 18/50\n",
      "50000/50000 [==============================] - 2s 33us/step - loss: 1.0963 - acc: 0.6274 - val_loss: 1.4605 - val_acc: 0.4921\n",
      "Epoch 19/50\n",
      "50000/50000 [==============================] - 2s 33us/step - loss: 1.0752 - acc: 0.6374 - val_loss: 1.4630 - val_acc: 0.4857\n",
      "Epoch 20/50\n",
      "50000/50000 [==============================] - 2s 33us/step - loss: 1.0548 - acc: 0.6431 - val_loss: 1.4504 - val_acc: 0.4936\n",
      "Epoch 21/50\n",
      "50000/50000 [==============================] - 2s 33us/step - loss: 1.0322 - acc: 0.6533 - val_loss: 1.4547 - val_acc: 0.4958\n",
      "Epoch 22/50\n",
      "50000/50000 [==============================] - 2s 33us/step - loss: 1.0121 - acc: 0.6594 - val_loss: 1.4621 - val_acc: 0.4967\n",
      "Epoch 23/50\n",
      "50000/50000 [==============================] - 2s 33us/step - loss: 0.9914 - acc: 0.6676 - val_loss: 1.4527 - val_acc: 0.4966\n",
      "Epoch 24/50\n",
      "50000/50000 [==============================] - 2s 33us/step - loss: 0.9688 - acc: 0.6781 - val_loss: 1.4669 - val_acc: 0.4927\n",
      "Epoch 25/50\n",
      "50000/50000 [==============================] - 2s 33us/step - loss: 0.9503 - acc: 0.6826 - val_loss: 1.4861 - val_acc: 0.4936\n",
      "Epoch 26/50\n",
      "50000/50000 [==============================] - 2s 33us/step - loss: 0.9296 - acc: 0.6921 - val_loss: 1.4565 - val_acc: 0.5013\n",
      "Epoch 00026: early stopping\n"
     ]
    }
   ],
   "source": [
    "# 載入 Callbacks\n",
    "\"\"\"Code Here\n",
    "設定 callbacks: Earlystop\n",
    "\"\"\"\n",
    "\n",
    "from keras.callbacks import EarlyStopping\n",
    "earlystop = EarlyStopping(monitor=\"val_loss\", \n",
    "                          patience=10, \n",
    "                          verbose=1\n",
    "                          )\n",
    "\n",
    "results = {}\n",
    "\"\"\"Code Here\n",
    "撰寫你的訓練流程並將結果用 dictionary 紀錄\n",
    "\"\"\"\n",
    "model = build_mlp(input_shape=x_train.shape[1:])\n",
    "model.summary()\n",
    "optimizer = keras.optimizers.SGD(lr=LEARNING_RATE, nesterov=True, momentum=MOMENTUM)\n",
    "model.compile(loss=\"categorical_crossentropy\", metrics=[\"accuracy\"], optimizer=optimizer)\n",
    "\n",
    "model.fit(x_train, y_train, \n",
    "          epochs=EPOCHS, \n",
    "          batch_size=BATCH_SIZE, \n",
    "          validation_data=(x_test, y_test), \n",
    "          shuffle=True,\n",
    "          callbacks=[earlystop]\n",
    "         )\n",
    "\n",
    "# Collect results\n",
    "train_loss = model.history.history[\"loss\"]\n",
    "valid_loss = model.history.history[\"val_loss\"]\n",
    "train_acc = model.history.history[\"acc\"]\n",
    "valid_acc = model.history.history[\"val_acc\"]"
   ]
  },
  {
   "cell_type": "code",
   "execution_count": 15,
   "metadata": {},
   "outputs": [
    {
     "data": {
      "image/png": "[encoded data removed]",
      "text/plain": [
       "<Figure size 432x288 with 1 Axes>"
      ]
     },
     "metadata": {
      "needs_background": "light"
     },
     "output_type": "display_data"
    },
    {
     "data": {
      "image/png": "[encoded data removed]",
      "text/plain": [
       "<Figure size 432x288 with 1 Axes>"
      ]
     },
     "metadata": {
      "needs_background": "light"
     },
     "output_type": "display_data"
    }
   ],
   "source": [
    "import matplotlib.pyplot as plt\n",
    "%matplotlib inline\n",
    "\"\"\"Code Here\n",
    "將結果繪出\n",
    "\"\"\"\n",
    "import matplotlib.pyplot as plt\n",
    "%matplotlib inline\n",
    "\n",
    "plt.plot(range(len(train_loss)), train_loss, label=\"train loss\")\n",
    "plt.plot(range(len(valid_loss)), valid_loss, label=\"valid loss\")\n",
    "plt.legend()\n",
    "plt.title(\"Loss\")\n",
    "plt.show()\n",
    "\n",
    "plt.plot(range(len(train_acc)), train_acc, label=\"train accuracy\")\n",
    "plt.plot(range(len(valid_acc)), valid_acc, label=\"valid accuracy\")\n",
    "plt.legend()\n",
    "plt.title(\"Accuracy\")\n",
    "plt.show()"
   ]
  },
  {
   "cell_type": "markdown",
   "metadata": {},
   "source": [
    "# patience=25"
   ]
  },
  {
   "cell_type": "code",
   "execution_count": 16,
   "metadata": {},
   "outputs": [
    {
     "name": "stdout",
     "output_type": "stream",
     "text": [
      "_________________________________________________________________\n",
      "Layer (type)                 Output Shape              Param #   \n",
      "=================================================================\n",
      "input_5 (InputLayer)         (None, 3072)              0         \n",
      "_________________________________________________________________\n",
      "hidden_layer1 (Dense)        (None, 512)               1573376   \n",
      "_________________________________________________________________\n",
      "batch_normalization_13 (Batc (None, 512)               2048      \n",
      "_________________________________________________________________\n",
      "hidden_layer2 (Dense)        (None, 256)               131328    \n",
      "_________________________________________________________________\n",
      "batch_normalization_14 (Batc (None, 256)               1024      \n",
      "_________________________________________________________________\n",
      "hidden_layer3 (Dense)        (None, 128)               32896     \n",
      "_________________________________________________________________\n",
      "batch_normalization_15 (Batc (None, 128)               512       \n",
      "_________________________________________________________________\n",
      "output (Dense)               (None, 10)                1290      \n",
      "=================================================================\n",
      "Total params: 1,742,474\n",
      "Trainable params: 1,740,682\n",
      "Non-trainable params: 1,792\n",
      "_________________________________________________________________\n",
      "Train on 50000 samples, validate on 10000 samples\n",
      "Epoch 1/50\n",
      "50000/50000 [==============================] - 3s 60us/step - loss: 2.2224 - acc: 0.2676 - val_loss: 2.0663 - val_acc: 0.3196\n",
      "Epoch 2/50\n",
      "50000/50000 [==============================] - 2s 36us/step - loss: 1.7520 - acc: 0.3933 - val_loss: 1.7956 - val_acc: 0.3798\n",
      "Epoch 3/50\n",
      "50000/50000 [==============================] - 2s 34us/step - loss: 1.6253 - acc: 0.4357 - val_loss: 1.6966 - val_acc: 0.4124\n",
      "Epoch 4/50\n",
      "50000/50000 [==============================] - 2s 38us/step - loss: 1.5483 - acc: 0.4617 - val_loss: 1.6411 - val_acc: 0.4260\n",
      "Epoch 5/50\n",
      "50000/50000 [==============================] - 2s 32us/step - loss: 1.4935 - acc: 0.4818 - val_loss: 1.5926 - val_acc: 0.4459\n",
      "Epoch 6/50\n",
      "50000/50000 [==============================] - 2s 32us/step - loss: 1.4468 - acc: 0.4977 - val_loss: 1.5663 - val_acc: 0.4539\n",
      "Epoch 7/50\n",
      "50000/50000 [==============================] - 2s 32us/step - loss: 1.4066 - acc: 0.5122 - val_loss: 1.5506 - val_acc: 0.4529\n",
      "Epoch 8/50\n",
      "50000/50000 [==============================] - 2s 33us/step - loss: 1.3727 - acc: 0.5250 - val_loss: 1.5246 - val_acc: 0.4674\n",
      "Epoch 9/50\n",
      "50000/50000 [==============================] - 2s 36us/step - loss: 1.3407 - acc: 0.5345 - val_loss: 1.5073 - val_acc: 0.4752\n",
      "Epoch 10/50\n",
      "50000/50000 [==============================] - 2s 32us/step - loss: 1.3104 - acc: 0.5464 - val_loss: 1.5082 - val_acc: 0.4745\n",
      "Epoch 11/50\n",
      "50000/50000 [==============================] - 2s 32us/step - loss: 1.2818 - acc: 0.5587 - val_loss: 1.4863 - val_acc: 0.4811\n",
      "Epoch 12/50\n",
      "50000/50000 [==============================] - 2s 32us/step - loss: 1.2547 - acc: 0.5678 - val_loss: 1.4849 - val_acc: 0.4819\n",
      "Epoch 13/50\n",
      "50000/50000 [==============================] - 2s 32us/step - loss: 1.2297 - acc: 0.5746 - val_loss: 1.4786 - val_acc: 0.4839\n",
      "Epoch 14/50\n",
      "50000/50000 [==============================] - 2s 32us/step - loss: 1.2048 - acc: 0.5861 - val_loss: 1.4734 - val_acc: 0.4880\n",
      "Epoch 15/50\n",
      "50000/50000 [==============================] - 2s 32us/step - loss: 1.1818 - acc: 0.5949 - val_loss: 1.4563 - val_acc: 0.4943\n",
      "Epoch 16/50\n",
      "50000/50000 [==============================] - 2s 32us/step - loss: 1.1568 - acc: 0.6037 - val_loss: 1.4641 - val_acc: 0.4906\n",
      "Epoch 17/50\n",
      "50000/50000 [==============================] - 2s 34us/step - loss: 1.1355 - acc: 0.6126 - val_loss: 1.4590 - val_acc: 0.4939\n",
      "Epoch 18/50\n",
      "50000/50000 [==============================] - 2s 32us/step - loss: 1.1140 - acc: 0.6199 - val_loss: 1.4537 - val_acc: 0.4964\n",
      "Epoch 19/50\n",
      "50000/50000 [==============================] - 2s 34us/step - loss: 1.0908 - acc: 0.6288 - val_loss: 1.4656 - val_acc: 0.4861\n",
      "Epoch 20/50\n",
      "50000/50000 [==============================] - 2s 34us/step - loss: 1.0700 - acc: 0.6358 - val_loss: 1.4577 - val_acc: 0.4946\n",
      "Epoch 21/50\n",
      "50000/50000 [==============================] - 2s 34us/step - loss: 1.0477 - acc: 0.6453 - val_loss: 1.4493 - val_acc: 0.4975\n",
      "Epoch 22/50\n",
      "50000/50000 [==============================] - 2s 33us/step - loss: 1.0268 - acc: 0.6525 - val_loss: 1.4582 - val_acc: 0.4976\n",
      "Epoch 23/50\n",
      "50000/50000 [==============================] - 2s 35us/step - loss: 1.0058 - acc: 0.6618 - val_loss: 1.4483 - val_acc: 0.5040\n",
      "Epoch 24/50\n",
      "50000/50000 [==============================] - 2s 34us/step - loss: 0.9847 - acc: 0.6701 - val_loss: 1.4618 - val_acc: 0.5000\n",
      "Epoch 25/50\n",
      "50000/50000 [==============================] - 2s 33us/step - loss: 0.9640 - acc: 0.6767 - val_loss: 1.4557 - val_acc: 0.4996\n",
      "Epoch 26/50\n",
      "50000/50000 [==============================] - 2s 32us/step - loss: 0.9436 - acc: 0.6858 - val_loss: 1.4715 - val_acc: 0.4999\n",
      "Epoch 27/50\n",
      "50000/50000 [==============================] - 2s 34us/step - loss: 0.9238 - acc: 0.6923 - val_loss: 1.4707 - val_acc: 0.4971\n",
      "Epoch 28/50\n",
      "50000/50000 [==============================] - 2s 33us/step - loss: 0.9048 - acc: 0.7004 - val_loss: 1.4726 - val_acc: 0.4966\n",
      "Epoch 29/50\n",
      "50000/50000 [==============================] - 2s 34us/step - loss: 0.8852 - acc: 0.7072 - val_loss: 1.4770 - val_acc: 0.4960\n",
      "Epoch 30/50\n",
      "50000/50000 [==============================] - 2s 34us/step - loss: 0.8643 - acc: 0.7160 - val_loss: 1.4855 - val_acc: 0.4968\n",
      "Epoch 31/50\n",
      "50000/50000 [==============================] - 2s 36us/step - loss: 0.8451 - acc: 0.7227 - val_loss: 1.4875 - val_acc: 0.4974\n",
      "Epoch 32/50\n",
      "50000/50000 [==============================] - 2s 36us/step - loss: 0.8265 - acc: 0.7316 - val_loss: 1.4998 - val_acc: 0.4930\n",
      "Epoch 33/50\n",
      "50000/50000 [==============================] - 2s 33us/step - loss: 0.8077 - acc: 0.7367 - val_loss: 1.5020 - val_acc: 0.4963\n",
      "Epoch 34/50\n",
      "50000/50000 [==============================] - 2s 35us/step - loss: 0.7874 - acc: 0.7448 - val_loss: 1.5045 - val_acc: 0.4980\n",
      "Epoch 35/50\n",
      "50000/50000 [==============================] - 2s 32us/step - loss: 0.7666 - acc: 0.7542 - val_loss: 1.5309 - val_acc: 0.4894\n",
      "Epoch 36/50\n",
      "50000/50000 [==============================] - 2s 32us/step - loss: 0.7493 - acc: 0.7611 - val_loss: 1.5229 - val_acc: 0.4974\n",
      "Epoch 37/50\n",
      "50000/50000 [==============================] - 2s 32us/step - loss: 0.7326 - acc: 0.7672 - val_loss: 1.5274 - val_acc: 0.4986\n",
      "Epoch 38/50\n",
      "50000/50000 [==============================] - 2s 32us/step - loss: 0.7120 - acc: 0.7762 - val_loss: 1.5243 - val_acc: 0.5004\n",
      "Epoch 39/50\n",
      "50000/50000 [==============================] - 2s 36us/step - loss: 0.6943 - acc: 0.7825 - val_loss: 1.5491 - val_acc: 0.4985\n",
      "Epoch 40/50\n",
      "50000/50000 [==============================] - 2s 32us/step - loss: 0.6774 - acc: 0.7892 - val_loss: 1.5618 - val_acc: 0.4957\n",
      "Epoch 41/50\n",
      "50000/50000 [==============================] - 2s 32us/step - loss: 0.6578 - acc: 0.7966 - val_loss: 1.5740 - val_acc: 0.4963\n",
      "Epoch 42/50\n",
      "50000/50000 [==============================] - 2s 37us/step - loss: 0.6405 - acc: 0.8029 - val_loss: 1.5736 - val_acc: 0.4945\n",
      "Epoch 43/50\n",
      "50000/50000 [==============================] - 2s 33us/step - loss: 0.6233 - acc: 0.8118 - val_loss: 1.5864 - val_acc: 0.4976\n",
      "Epoch 44/50\n",
      "50000/50000 [==============================] - 2s 33us/step - loss: 0.6058 - acc: 0.8175 - val_loss: 1.6212 - val_acc: 0.4883\n",
      "Epoch 45/50\n",
      "50000/50000 [==============================] - 2s 33us/step - loss: 0.5882 - acc: 0.8244 - val_loss: 1.5998 - val_acc: 0.4925\n",
      "Epoch 46/50\n",
      "50000/50000 [==============================] - 2s 32us/step - loss: 0.5712 - acc: 0.8318 - val_loss: 1.6298 - val_acc: 0.4917\n",
      "Epoch 47/50\n",
      "50000/50000 [==============================] - 2s 32us/step - loss: 0.5522 - acc: 0.8391 - val_loss: 1.6270 - val_acc: 0.4948\n",
      "Epoch 48/50\n",
      "50000/50000 [==============================] - 2s 34us/step - loss: 0.5362 - acc: 0.8466 - val_loss: 1.6366 - val_acc: 0.4978\n",
      "Epoch 00048: early stopping\n"
     ]
    }
   ],
   "source": [
    "# 載入 Callbacks\n",
    "\"\"\"Code Here\n",
    "設定 callbacks: Earlystop\n",
    "\"\"\"\n",
    "\n",
    "from keras.callbacks import EarlyStopping\n",
    "earlystop = EarlyStopping(monitor=\"val_loss\", \n",
    "                          patience=25, \n",
    "                          verbose=1\n",
    "                          )\n",
    "\n",
    "results = {}\n",
    "\"\"\"Code Here\n",
    "撰寫你的訓練流程並將結果用 dictionary 紀錄\n",
    "\"\"\"\n",
    "model = build_mlp(input_shape=x_train.shape[1:])\n",
    "model.summary()\n",
    "optimizer = keras.optimizers.SGD(lr=LEARNING_RATE, nesterov=True, momentum=MOMENTUM)\n",
    "model.compile(loss=\"categorical_crossentropy\", metrics=[\"accuracy\"], optimizer=optimizer)\n",
    "\n",
    "model.fit(x_train, y_train, \n",
    "          epochs=EPOCHS, \n",
    "          batch_size=BATCH_SIZE, \n",
    "          validation_data=(x_test, y_test), \n",
    "          shuffle=True,\n",
    "          callbacks=[earlystop]\n",
    "         )\n",
    "\n",
    "# Collect results\n",
    "train_loss = model.history.history[\"loss\"]\n",
    "valid_loss = model.history.history[\"val_loss\"]\n",
    "train_acc = model.history.history[\"acc\"]\n",
    "valid_acc = model.history.history[\"val_acc\"]"
   ]
  },
  {
   "cell_type": "code",
   "execution_count": 17,
   "metadata": {},
   "outputs": [
    {
     "data": {
      "image/png": "[encoded data removed]",
      "text/plain": [
       "<Figure size 432x288 with 1 Axes>"
      ]
     },
     "metadata": {
      "needs_background": "light"
     },
     "output_type": "display_data"
    },
    {
     "data": {
      "image/png": "[encoded data removed]",
      "text/plain": [
       "<Figure size 432x288 with 1 Axes>"
      ]
     },
     "metadata": {
      "needs_background": "light"
     },
     "output_type": "display_data"
    }
   ],
   "source": [
    "import matplotlib.pyplot as plt\n",
    "%matplotlib inline\n",
    "\"\"\"Code Here\n",
    "將結果繪出\n",
    "\"\"\"\n",
    "import matplotlib.pyplot as plt\n",
    "%matplotlib inline\n",
    "\n",
    "plt.plot(range(len(train_loss)), train_loss, label=\"train loss\")\n",
    "plt.plot(range(len(valid_loss)), valid_loss, label=\"valid loss\")\n",
    "plt.legend()\n",
    "plt.title(\"Loss\")\n",
    "plt.show()\n",
    "\n",
    "plt.plot(range(len(train_acc)), train_acc, label=\"train accuracy\")\n",
    "plt.plot(range(len(valid_acc)), valid_acc, label=\"valid accuracy\")\n",
    "plt.legend()\n",
    "plt.title(\"Accuracy\")\n",
    "plt.show()"
   ]
  },
  {
   "cell_type": "code",
   "execution_count": null,
   "metadata": {},
   "outputs": [],
   "source": []
  }
 ],
 "metadata": {
  "kernelspec": {
   "display_name": "Python 3",
   "language": "python",
   "name": "python3"
  },
  "language_info": {
   "codemirror_mode": {
    "name": "ipython",
    "version": 3
   },
   "file_extension": ".py",
   "mimetype": "text/x-python",
   "name": "python",
   "nbconvert_exporter": "python",
   "pygments_lexer": "ipython3",
   "version": "3.6.8"
  }
 },
 "nbformat": 4,
 "nbformat_minor": 2
}
