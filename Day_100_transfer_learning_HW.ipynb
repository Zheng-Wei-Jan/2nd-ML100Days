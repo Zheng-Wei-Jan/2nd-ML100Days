{
 "cells": [
  {
   "cell_type": "markdown",
   "metadata": {},
   "source": [
    "## 作業\n",
    "礙於不是所有同學都有 GPU ，這邊的範例使用的是簡化版本的 ResNet，確保所有同學都能夠順利訓練!\n",
    "\n",
    "\n",
    "最後一天的作業請閱讀這篇非常詳盡的[文章](https://blog.gtwang.org/programming/keras-resnet-50-pre-trained-model-build-dogs-cats-image-classification-system/)，基本上已經涵蓋了所有訓練　CNN 常用的技巧，請使用所有學過的訓練技巧，盡可能地提高 Cifar-10 的 test data 準確率，截圖你最佳的結果並上傳來完成最後一次的作業吧!\n",
    "\n",
    "另外這些技巧在 Kaggle 上也會被許多人使用，更有人會開發一些新的技巧，例如使把預訓練在 ImageNet 上的模型當成 feature extractor 後，再拿擷取出的特徵重新訓練新的模型，這些技巧再進階的課程我們會在提到，有興趣的同學也可以[參考](https://www.kaggle.com/insaff/img-feature-extraction-with-pretrained-resnet)"
   ]
  },
  {
   "cell_type": "code",
   "execution_count": 1,
   "metadata": {},
   "outputs": [
    {
     "name": "stderr",
     "output_type": "stream",
     "text": [
      "Using CNTK backend\n"
     ]
    }
   ],
   "source": [
    "from __future__ import print_function\n",
    "import keras\n",
    "from keras.datasets import cifar10\n",
    "from keras.preprocessing.image import ImageDataGenerator\n",
    "from keras.models import Sequential\n",
    "from keras.layers import Dense, Dropout, Activation, Flatten\n",
    "from keras.layers import Conv2D, MaxPooling2D\n",
    "import os"
   ]
  },
  {
   "cell_type": "code",
   "execution_count": 2,
   "metadata": {},
   "outputs": [],
   "source": [
    "batch_size = 32\n",
    "num_classes = 10\n",
    "epochs = 40\n",
    "data_augmentation = True\n",
    "num_predictions = 20\n",
    "save_dir = os.path.join(os.getcwd(), 'saved_models')\n",
    "model_name = 'keras_cifar10_trained_model.h5'"
   ]
  },
  {
   "cell_type": "code",
   "execution_count": 3,
   "metadata": {},
   "outputs": [
    {
     "name": "stdout",
     "output_type": "stream",
     "text": [
      "x_train shape: (50000, 32, 32, 3)\n",
      "50000 train samples\n",
      "10000 test samples\n"
     ]
    }
   ],
   "source": [
    "# 讀取資料集並作前處理\n",
    "(x_train, y_train), (x_test, y_test) = cifar10.load_data()\n",
    "print('x_train shape:', x_train.shape)\n",
    "print(x_train.shape[0], 'train samples')\n",
    "print(x_test.shape[0], 'test samples')\n",
    "x_train = x_train.astype('float32')\n",
    "x_test = x_test.astype('float32')\n",
    "\n",
    "x_train = x_train / 255.\n",
    "x_test = x_test / 255.\n",
    "y_train = keras.utils.to_categorical(y_train, num_classes)\n",
    "y_test = keras.utils.to_categorical(y_test, num_classes)\n",
    "\n",
    "# y_train = to_categorical(y_train, 10)\n",
    "# y_test = to_categorical(y_test, 10)"
   ]
  },
  {
   "cell_type": "code",
   "execution_count": 4,
   "metadata": {},
   "outputs": [],
   "source": [
    "# # The data, split between train and test sets:\n",
    "# (x_train, y_train), (x_test, y_test) = cifar10.load_data()\n",
    "# print('x_train shape:', x_train.shape)\n",
    "# print(x_train.shape[0], 'train samples')\n",
    "# print(x_test.shape[0], 'test samples')\n",
    "\n",
    "# # Convert class vectors to binary class matrices.\n",
    "# y_train = keras.utils.to_categorical(y_train, num_classes)\n",
    "# y_test = keras.utils.to_categorical(y_test, num_classes)\n"
   ]
  },
  {
   "cell_type": "code",
   "execution_count": 5,
   "metadata": {},
   "outputs": [],
   "source": [
    "model = Sequential()\n",
    "model.add(Conv2D(32, (3, 3), \n",
    "                 padding='same',\n",
    "                 input_shape=x_train.shape[1:]))\n",
    "model.add(Activation('relu'))\n",
    "model.add(Conv2D(32, (3, 3)))\n",
    "model.add(Activation('relu'))\n",
    "model.add(MaxPooling2D(pool_size=(2, 2)))\n",
    "model.add(Dropout(0.25))\n",
    "\n",
    "model.add(Conv2D(64, (3, 3), \n",
    "                 padding='same'))\n",
    "model.add(Activation('relu'))\n",
    "model.add(Conv2D(64, (3, 3)))\n",
    "model.add(Activation('relu'))\n",
    "model.add(MaxPooling2D(pool_size=(2, 2)))\n",
    "model.add(Dropout(0.25))\n",
    "\n",
    "model.add(Flatten())\n",
    "model.add(Dense(512))\n",
    "model.add(Activation('relu'))\n",
    "model.add(Dropout(0.5))\n",
    "model.add(Dense(num_classes))\n",
    "model.add(Activation('softmax'))\n"
   ]
  },
  {
   "cell_type": "code",
   "execution_count": 6,
   "metadata": {},
   "outputs": [
    {
     "name": "stdout",
     "output_type": "stream",
     "text": [
      "_________________________________________________________________\n",
      "Layer (type)                 Output Shape              Param #   \n",
      "=================================================================\n",
      "conv2d_1 (Conv2D)            (None, 32, 32, 32)        896       \n",
      "_________________________________________________________________\n",
      "activation_1 (Activation)    (None, 32, 32, 32)        0         \n",
      "_________________________________________________________________\n",
      "conv2d_2 (Conv2D)            (None, 30, 30, 32)        9248      \n",
      "_________________________________________________________________\n",
      "activation_2 (Activation)    (None, 30, 30, 32)        0         \n",
      "_________________________________________________________________\n",
      "max_pooling2d_1 (MaxPooling2 (None, 15, 15, 32)        0         \n",
      "_________________________________________________________________\n",
      "dropout_1 (Dropout)          (None, 15, 15, 32)        0         \n",
      "_________________________________________________________________\n",
      "conv2d_3 (Conv2D)            (None, 15, 15, 64)        18496     \n",
      "_________________________________________________________________\n",
      "activation_3 (Activation)    (None, 15, 15, 64)        0         \n",
      "_________________________________________________________________\n",
      "conv2d_4 (Conv2D)            (None, 13, 13, 64)        36928     \n",
      "_________________________________________________________________\n",
      "activation_4 (Activation)    (None, 13, 13, 64)        0         \n",
      "_________________________________________________________________\n",
      "max_pooling2d_2 (MaxPooling2 (None, 6, 6, 64)          0         \n",
      "_________________________________________________________________\n",
      "dropout_2 (Dropout)          (None, 6, 6, 64)          0         \n",
      "_________________________________________________________________\n",
      "flatten_1 (Flatten)          (None, 2304)              0         \n",
      "_________________________________________________________________\n",
      "dense_1 (Dense)              (None, 512)               1180160   \n",
      "_________________________________________________________________\n",
      "activation_5 (Activation)    (None, 512)               0         \n",
      "_________________________________________________________________\n",
      "dropout_3 (Dropout)          (None, 512)               0         \n",
      "_________________________________________________________________\n",
      "dense_2 (Dense)              (None, 10)                5130      \n",
      "_________________________________________________________________\n",
      "activation_6 (Activation)    (None, 10)                0         \n",
      "=================================================================\n",
      "Total params: 1,250,858\n",
      "Trainable params: 1,250,858\n",
      "Non-trainable params: 0\n",
      "_________________________________________________________________\n"
     ]
    }
   ],
   "source": [
    "model.summary()"
   ]
  },
  {
   "cell_type": "code",
   "execution_count": 7,
   "metadata": {},
   "outputs": [],
   "source": [
    "# initiate RMSprop optimizer\n",
    "opt = keras.optimizers.rmsprop(lr=0.0001, decay=1e-6)\n",
    "\n",
    "# Let's train the model using RMSprop\n",
    "model.compile(loss='categorical_crossentropy',\n",
    "              optimizer=opt,\n",
    "              metrics=['accuracy'])\n",
    "\n",
    "# x_train = x_train.astype('float32')\n",
    "# x_test = x_test.astype('float32')\n",
    "# x_train /= 255\n",
    "# x_test /= 255"
   ]
  },
  {
   "cell_type": "code",
   "execution_count": 8,
   "metadata": {},
   "outputs": [
    {
     "name": "stdout",
     "output_type": "stream",
     "text": [
      "Using real-time data augmentation.\n",
      "Epoch 1/40\n",
      "1560/1563 [============================>.] - ETA: 0s - loss: 1.9062 - acc: 0.2967"
     ]
    },
    {
     "name": "stderr",
     "output_type": "stream",
     "text": [
      "c:\\python36\\lib\\site-packages\\cntk\\core.py:82: RuntimeWarning: data is not C contiguous; rearrange your data/computation to avoid costly data conversions\n",
      "  RuntimeWarning)\n"
     ]
    },
    {
     "name": "stdout",
     "output_type": "stream",
     "text": [
      "1563/1563 [==============================] - 22s 14ms/step - loss: 1.9056 - acc: 0.2968 - val_loss: 1.6976 - val_acc: 0.3928\n",
      "Epoch 2/40\n",
      "1563/1563 [==============================] - 22s 14ms/step - loss: 1.6344 - acc: 0.4001 - val_loss: 1.4822 - val_acc: 0.4610\n",
      "Epoch 3/40\n",
      "1563/1563 [==============================] - 21s 14ms/step - loss: 1.5031 - acc: 0.4545 - val_loss: 1.3712 - val_acc: 0.5014\n",
      "Epoch 4/40\n",
      "1563/1563 [==============================] - 21s 13ms/step - loss: 1.4157 - acc: 0.4915 - val_loss: 1.3702 - val_acc: 0.5107\n",
      "Epoch 5/40\n",
      "1563/1563 [==============================] - 22s 14ms/step - loss: 1.3503 - acc: 0.5166 - val_loss: 1.2621 - val_acc: 0.5560\n",
      "Epoch 6/40\n",
      "1563/1563 [==============================] - 21s 13ms/step - loss: 1.2927 - acc: 0.5364 - val_loss: 1.1537 - val_acc: 0.5892\n",
      "Epoch 7/40\n",
      "1563/1563 [==============================] - 21s 13ms/step - loss: 1.2465 - acc: 0.5560 - val_loss: 1.1062 - val_acc: 0.6044\n",
      "Epoch 8/40\n",
      "1563/1563 [==============================] - 21s 14ms/step - loss: 1.2060 - acc: 0.5724 - val_loss: 1.0667 - val_acc: 0.6180\n",
      "Epoch 9/40\n",
      "1563/1563 [==============================] - 21s 13ms/step - loss: 1.1679 - acc: 0.5867 - val_loss: 1.0562 - val_acc: 0.6246\n",
      "Epoch 10/40\n",
      "1563/1563 [==============================] - 21s 14ms/step - loss: 1.1353 - acc: 0.5974 - val_loss: 0.9783 - val_acc: 0.6500\n",
      "Epoch 11/40\n",
      "1563/1563 [==============================] - 21s 14ms/step - loss: 1.1064 - acc: 0.6099 - val_loss: 0.9568 - val_acc: 0.6636\n",
      "Epoch 12/40\n",
      "1563/1563 [==============================] - 21s 14ms/step - loss: 1.0800 - acc: 0.6190 - val_loss: 0.9865 - val_acc: 0.6559\n",
      "Epoch 13/40\n",
      "1563/1563 [==============================] - 21s 13ms/step - loss: 1.0576 - acc: 0.6273 - val_loss: 0.9231 - val_acc: 0.6778\n",
      "Epoch 14/40\n",
      "1563/1563 [==============================] - 23s 15ms/step - loss: 1.0351 - acc: 0.6362 - val_loss: 0.9355 - val_acc: 0.6685\n",
      "Epoch 15/40\n",
      "1563/1563 [==============================] - 28s 18ms/step - loss: 1.0159 - acc: 0.6426 - val_loss: 0.8953 - val_acc: 0.6851\n",
      "Epoch 16/40\n",
      "1563/1563 [==============================] - 28s 18ms/step - loss: 0.9972 - acc: 0.6482 - val_loss: 0.8668 - val_acc: 0.6967\n",
      "Epoch 17/40\n",
      "1563/1563 [==============================] - 23s 14ms/step - loss: 0.9812 - acc: 0.6564 - val_loss: 0.8551 - val_acc: 0.6990\n",
      "Epoch 18/40\n",
      "1563/1563 [==============================] - 23s 14ms/step - loss: 0.9696 - acc: 0.6594 - val_loss: 0.8395 - val_acc: 0.7072\n",
      "Epoch 19/40\n",
      "1563/1563 [==============================] - 22s 14ms/step - loss: 0.9522 - acc: 0.6655 - val_loss: 0.8880 - val_acc: 0.6917\n",
      "Epoch 20/40\n",
      "1563/1563 [==============================] - 21s 14ms/step - loss: 0.9409 - acc: 0.6738 - val_loss: 0.8837 - val_acc: 0.6920\n",
      "Epoch 21/40\n",
      "1563/1563 [==============================] - 21s 14ms/step - loss: 0.9255 - acc: 0.6748 - val_loss: 0.8207 - val_acc: 0.7148\n",
      "Epoch 22/40\n",
      "1563/1563 [==============================] - 21s 14ms/step - loss: 0.9206 - acc: 0.6803 - val_loss: 0.8174 - val_acc: 0.7171\n",
      "Epoch 23/40\n",
      "1563/1563 [==============================] - 21s 14ms/step - loss: 0.9080 - acc: 0.6829 - val_loss: 0.7788 - val_acc: 0.7306\n",
      "Epoch 24/40\n",
      "1563/1563 [==============================] - 21s 13ms/step - loss: 0.9043 - acc: 0.6881 - val_loss: 0.7837 - val_acc: 0.7274\n",
      "Epoch 25/40\n",
      "1563/1563 [==============================] - 21s 13ms/step - loss: 0.8926 - acc: 0.6909 - val_loss: 0.8303 - val_acc: 0.7076\n",
      "Epoch 26/40\n",
      "1563/1563 [==============================] - 21s 14ms/step - loss: 0.8832 - acc: 0.6925 - val_loss: 0.7733 - val_acc: 0.7332\n",
      "Epoch 27/40\n",
      "1563/1563 [==============================] - 21s 14ms/step - loss: 0.8760 - acc: 0.6941 - val_loss: 0.7735 - val_acc: 0.7335\n",
      "Epoch 28/40\n",
      "1563/1563 [==============================] - 22s 14ms/step - loss: 0.8700 - acc: 0.6990 - val_loss: 0.8116 - val_acc: 0.7277\n",
      "Epoch 29/40\n",
      "1563/1563 [==============================] - 22s 14ms/step - loss: 0.8597 - acc: 0.7052 - val_loss: 0.7344 - val_acc: 0.7491\n",
      "Epoch 30/40\n",
      "1563/1563 [==============================] - 22s 14ms/step - loss: 0.8621 - acc: 0.7020 - val_loss: 0.7392 - val_acc: 0.7457\n",
      "Epoch 31/40\n",
      "1563/1563 [==============================] - 22s 14ms/step - loss: 0.8552 - acc: 0.7063 - val_loss: 0.7469 - val_acc: 0.7471\n",
      "Epoch 32/40\n",
      "1563/1563 [==============================] - 22s 14ms/step - loss: 0.8442 - acc: 0.7076 - val_loss: 0.7598 - val_acc: 0.7420\n",
      "Epoch 33/40\n",
      "1563/1563 [==============================] - 21s 14ms/step - loss: 0.8430 - acc: 0.7096 - val_loss: 0.7163 - val_acc: 0.7549\n",
      "Epoch 34/40\n",
      "1563/1563 [==============================] - 21s 14ms/step - loss: 0.8401 - acc: 0.7132 - val_loss: 0.7414 - val_acc: 0.7475\n",
      "Epoch 35/40\n",
      "1563/1563 [==============================] - 21s 14ms/step - loss: 0.8323 - acc: 0.7142 - val_loss: 0.7691 - val_acc: 0.7425\n",
      "Epoch 36/40\n",
      "1563/1563 [==============================] - 21s 13ms/step - loss: 0.8306 - acc: 0.7153 - val_loss: 0.8268 - val_acc: 0.7221\n",
      "Epoch 37/40\n",
      "1563/1563 [==============================] - 21s 14ms/step - loss: 0.8311 - acc: 0.7170 - val_loss: 0.7108 - val_acc: 0.7596\n",
      "Epoch 38/40\n",
      "1563/1563 [==============================] - 21s 14ms/step - loss: 0.8307 - acc: 0.7154 - val_loss: 0.7186 - val_acc: 0.7582\n",
      "Epoch 39/40\n",
      "1563/1563 [==============================] - 22s 14ms/step - loss: 0.8252 - acc: 0.7159 - val_loss: 0.7255 - val_acc: 0.7549\n",
      "Epoch 40/40\n",
      "1563/1563 [==============================] - 21s 14ms/step - loss: 0.8243 - acc: 0.7191 - val_loss: 0.7263 - val_acc: 0.7551\n",
      "Saved trained model at C:\\python\\2nd-ML100Days\\2nd-ML100Days\\homework\\Day_100_HW\\saved_models\\keras_cifar10_trained_model.h5 \n"
     ]
    }
   ],
   "source": [
    "if not data_augmentation:\n",
    "    print('Not using data augmentation.')\n",
    "    model.fit(x_train, y_train,\n",
    "              batch_size=batch_size,\n",
    "              epochs=epochs,\n",
    "              validation_data=(x_test, y_test),\n",
    "              shuffle=True)\n",
    "else:\n",
    "    print('Using real-time data augmentation.')\n",
    "    # This will do preprocessing and realtime data augmentation:\n",
    "    datagen = ImageDataGenerator(\n",
    "        featurewise_center=False,  # set input mean to 0 over the dataset\n",
    "        samplewise_center=False,  # set each sample mean to 0\n",
    "        featurewise_std_normalization=False,  # divide inputs by std of the dataset\n",
    "        samplewise_std_normalization=False,  # divide each input by its std\n",
    "        zca_whitening=False,  # apply ZCA whitening\n",
    "        zca_epsilon=1e-06,  # epsilon for ZCA whitening\n",
    "        rotation_range=0,  # randomly rotate images in the range (degrees, 0 to 180)\n",
    "        # randomly shift images horizontally (fraction of total width)\n",
    "        width_shift_range=0.1,\n",
    "        # randomly shift images vertically (fraction of total height)\n",
    "        height_shift_range=0.1,\n",
    "        shear_range=0.,  # set range for random shear\n",
    "        zoom_range=0.,  # set range for random zoom\n",
    "        channel_shift_range=0.,  # set range for random channel shifts\n",
    "        # set mode for filling points outside the input boundaries\n",
    "        fill_mode='nearest',\n",
    "        cval=0.,  # value used for fill_mode = \"constant\"\n",
    "        horizontal_flip=True,  # randomly flip images\n",
    "        vertical_flip=False,  # randomly flip images\n",
    "        # set rescaling factor (applied before any other transformation)\n",
    "        rescale=None,\n",
    "        # set function that will be applied on each input\n",
    "        preprocessing_function=None,\n",
    "        # image data format, either \"channels_first\" or \"channels_last\"\n",
    "        data_format=None,\n",
    "        # fraction of images reserved for validation (strictly between 0 and 1)\n",
    "        validation_split=0.0)\n",
    "\n",
    "    # Compute quantities required for feature-wise normalization\n",
    "    # (std, mean, and principal components if ZCA whitening is applied).\n",
    "    datagen.fit(x_train)\n",
    "\n",
    "    # Fit the model on the batches generated by datagen.flow().\n",
    "    model.fit_generator(datagen.flow(x_train, y_train,\n",
    "                                     batch_size=batch_size),\n",
    "                        epochs=epochs,\n",
    "                        validation_data=(x_test, y_test),\n",
    "                        workers=4)\n",
    "\n",
    "# Save model and weights\n",
    "if not os.path.isdir(save_dir):\n",
    "    os.makedirs(save_dir)\n",
    "model_path = os.path.join(save_dir, model_name)\n",
    "model.save(model_path)\n",
    "print('Saved trained model at %s ' % model_path)\n",
    "\n",
    "# Score trained model."
   ]
  },
  {
   "cell_type": "code",
   "execution_count": 14,
   "metadata": {},
   "outputs": [
    {
     "name": "stdout",
     "output_type": "stream",
     "text": [
      "10000/10000 [==============================] - 1s 91us/step\n",
      "Test loss: 0.7262897311210632\n",
      "Test accuracy: 0.7551\n"
     ]
    }
   ],
   "source": [
    "\n",
    "# Score trained model.\n",
    "scores = model.evaluate(x_test, y_test, verbose=1)\n",
    "print('Test loss:', scores[0])\n",
    "print('Test accuracy:', scores[1])"
   ]
  },
  {
   "cell_type": "code",
   "execution_count": null,
   "metadata": {},
   "outputs": [],
   "source": []
  }
 ],
 "metadata": {
  "kernelspec": {
   "display_name": "Python 3",
   "language": "python",
   "name": "python3"
  },
  "language_info": {
   "codemirror_mode": {
    "name": "ipython",
    "version": 3
   },
   "file_extension": ".py",
   "mimetype": "text/x-python",
   "name": "python",
   "nbconvert_exporter": "python",
   "pygments_lexer": "ipython3",
   "version": "3.6.8"
  }
 },
 "nbformat": 4,
 "nbformat_minor": 2
}
