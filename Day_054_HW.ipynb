{
 "cells": [
  {
   "cell_type": "markdown",
   "metadata": {},
   "source": [
    "# 作業\n",
    "* 試著想想看, 非監督學習是否有可能使用評價函數 (Metric) 來鑑別好壞呢?  \n",
    "(Hint : 可以分為 \"有目標值\" 與 \"無目標值\" 兩個方向思考)"
   ]
  },
  {
   "cell_type": "markdown",
   "metadata": {
    "collapsed": true
   },
   "source": [
    "## 非監督式學習模型自動取出特徵和找出資料裡的模式。\n",
    "\n",
    "## 非監督式學習模型會依據手上的問題，以多種方式來整理資料。"
   ]
  },
  {
   "cell_type": "markdown",
   "metadata": {},
   "source": [
    "- 分群：無需是專業的鳥類學家，也能看著一系列的鳥類照片，根據鳥種的羽色、尺寸或嘴喙形狀等線索大致加以區分，這便是非監督式學習裡最常見應用方式「分群」（clustering）的運作方式，深度學習模型會尋找彼此相似的訓練資料，並且將它們集合在一起。\n",
    "- 異常檢測：銀行會查看客戶異常的購買行為模式來檢測是否出現欺詐交易，像是在同一天裡於加州和丹麥使用同一張信用卡進行消費，可能就會讓銀行覺得懷疑。同樣地，非監督式學習可用於標記資料集中的異常值。\n",
    "- 關聯：將紙尿褲、蘋果醬和嬰孩吸吮學習水杯放入線上購物車，網站可能會建議再多買圍兜和嬰兒監視器，這便是關聯的例子，資料樣本的某些特徵與其它特徵有所關聯。非監督式學習模型觀看資料點的多個關鍵屬性，便能預測有著共同關聯性的其它屬性。\n",
    "- 自動編碼器：自動編碼器取得輸入資料，將其壓縮至程式碼內，再試著從該匯總後的程式碼重新建立輸入的資料。這就像是將小說《白鯨記》（Moby Dick）當成輸入資料，建立 SparkNotes 版本，再試著只將 SparkNotes 版本的內容當成參考資料來改寫原版的故事內容。這雖是一項很好的深度學習技巧，能實際使用簡單自動編碼器的例子並不多，不過加入一層複雜性後，可能性卻是提高了不少：例如在訓練過程中使用畫面有著噪點和乾淨的圖片，自動編碼器可以消除圖片、影片或醫學掃描等視覺資料裡的噪點來提高畫質。"
   ]
  },
  {
   "cell_type": "markdown",
   "metadata": {},
   "source": [
    "## 如果今天是 \"有目標值\""
   ]
  },
  {
   "cell_type": "markdown",
   "metadata": {},
   "source": [
    "因為有目標,　所以可以透過 \"Metric\", 進行比對. "
   ]
  },
  {
   "cell_type": "markdown",
   "metadata": {},
   "source": [
    "## 如果今天是 \"無目標值\""
   ]
  },
  {
   "cell_type": "markdown",
   "metadata": {},
   "source": [
    "相反的; 因為無目標,　所以無法透過 \"Metric\", 進行比對. "
   ]
  }
 ],
 "metadata": {
  "kernelspec": {
   "display_name": "Python 3",
   "language": "python",
   "name": "python3"
  },
  "language_info": {
   "codemirror_mode": {
    "name": "ipython",
    "version": 3
   },
   "file_extension": ".py",
   "mimetype": "text/x-python",
   "name": "python",
   "nbconvert_exporter": "python",
   "pygments_lexer": "ipython3",
   "version": "3.6.8"
  }
 },
 "nbformat": 4,
 "nbformat_minor": 1
}
