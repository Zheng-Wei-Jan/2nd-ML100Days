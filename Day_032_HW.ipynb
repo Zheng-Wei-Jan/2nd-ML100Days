{
 "cells": [
  {
   "cell_type": "markdown",
   "metadata": {},
   "source": [
    "## 練習時間\n",
    "相信大家目前都能夠初步了解機器學習專案的流程及步驟，今天的作業希望大家能夠看看全球機器學習巨頭們在做的機器學習專案。以 google 為例，下圖是 Google 內部專案使用機器學習的數量，隨著時間進展，現在早已超過 2000 個專案在使用 ML。"
   ]
  },
  {
   "cell_type": "markdown",
   "metadata": {},
   "source": [
    "![image](https://cdn-images-1.medium.com/max/800/1*U_L8qI8RmYS-MOBrYvXhSA.png)"
   ]
  },
  {
   "cell_type": "markdown",
   "metadata": {},
   "source": [
    "底下幫同學整理幾間知名企業的 blog 或機器學習網站 (自行搜尋也可)，請挑選一篇文章閱讀並試著回答\n",
    "1. 專案的目標？ (要解決什麼問題）\n",
    "2. 使用的技術是？ (只需知道名稱即可，例如：使用 CNN 卷積神經網路做影像分類)\n",
    "3. 資料來源？ "
   ]
  },
  {
   "cell_type": "markdown",
   "metadata": {},
   "source": [
    "- [Google AI blog](https://ai.googleblog.com/)\n",
    "- [Facebook Research blog](https://research.fb.com/blog/)\n",
    "- [Apple machine learning journal](https://machinelearning.apple.com/)\n",
    "- [機器之心](https://www.jiqizhixin.com/)\n",
    "- [雷鋒網](http://www.leiphone.com/category/ai)"
   ]
  },
  {
   "cell_type": "code",
   "execution_count": null,
   "metadata": {},
   "outputs": [],
   "source": []
  },
  {
   "cell_type": "markdown",
   "metadata": {},
   "source": [
    "### 專案的目標？ (要解決什麼問題）"
   ]
  },
  {
   "cell_type": "markdown",
   "metadata": {},
   "source": [
    "理膚泉艾菲卡痘痘檢測(EFFACLAR SPOTSCAN)\n",
    "艾菲卡可幫助受油痘肌膚困擾但無從求助的消費者，隨時隨地進行專業級肌膚自測，獲得個性化的科學護理方案，從而改善生活質量，擁抱更美好的生活。"
   ]
  },
  {
   "cell_type": "markdown",
   "metadata": {},
   "source": [
    "### 使用的技術是？ (只需知道名稱即可，例如：使用 CNN 卷積神經網路做影像分類)"
   ]
  },
  {
   "cell_type": "markdown",
   "metadata": {},
   "source": [
    "痘痘問題在中國人口中的普遍率呈逐年上升的趨勢，在青少年中更高達80%，對人們的身心健康有著重大的影響。儘管大量消費者亟需肌膚檢測和護理的專業支持，但在中國平均每60,000人只有一名皮膚學專家資源。\n",
    "阿里巴巴集團世界級的人工智能技術團隊也為艾菲卡的問世提供了強有力的演算法支持。人工智能專家根據痘痘檢測圖像和皮膚專家建議，利用解決物體分類和物體檢測等深度學習技術，獲得痤瘡檢測的神經網絡模型，建立痘痘圖像信息和皮損類型的關聯，最後給出綜合的皮膚檢測結果。\n",
    "    使用CNN 卷積神經網路做影像分類, 並擁有強力的演算法及Big Data 在背後支持"
   ]
  },
  {
   "cell_type": "markdown",
   "metadata": {},
   "source": [
    "### 資料來源？"
   ]
  },
  {
   "cell_type": "markdown",
   "metadata": {},
   "source": [
    "https://www.leiphone.com/news/201905/J9DRRbgK8jVwp8jq.html\n",
    "\n",
    "阿里巴巴联合欧莱雅发布移动端 AI 痘痘检测应用"
   ]
  }
 ],
 "metadata": {
  "kernelspec": {
   "display_name": "Python 3",
   "language": "python",
   "name": "python3"
  },
  "language_info": {
   "codemirror_mode": {
    "name": "ipython",
    "version": 3
   },
   "file_extension": ".py",
   "mimetype": "text/x-python",
   "name": "python",
   "nbconvert_exporter": "python",
   "pygments_lexer": "ipython3",
   "version": "3.6.8"
  }
 },
 "nbformat": 4,
 "nbformat_minor": 2
}
