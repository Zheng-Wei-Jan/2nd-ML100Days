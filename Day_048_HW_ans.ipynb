{
 "cells": [
  {
   "cell_type": "code",
   "execution_count": 1,
   "metadata": {},
   "outputs": [],
   "source": [
    "from sklearn import datasets, metrics\n",
    "from sklearn.model_selection import train_test_split, KFold, GridSearchCV\n",
    "from sklearn.ensemble import RandomForestClassifier\n",
    "from sklearn.preprocessing import StandardScaler\n",
    "from sklearn.metrics import confusion_matrix\n",
    "import pandas as pd\n",
    "import numpy as np"
   ]
  },
  {
   "cell_type": "code",
   "execution_count": 2,
   "metadata": {},
   "outputs": [
    {
     "name": "stderr",
     "output_type": "stream",
     "text": [
      "c:\\python36\\lib\\site-packages\\ipykernel_launcher.py:15: DataConversionWarning: A column-vector y was passed when a 1d array was expected. Please change the shape of y to (n_samples,), for example using ravel().\n",
      "  from ipykernel import kernelapp as app\n"
     ]
    },
    {
     "name": "stdout",
     "output_type": "stream",
     "text": [
      "混淆矩陣:\n",
      " [[101  13]\n",
      " [ 18 118]]\n",
      "預測正確率:  0.876\n"
     ]
    }
   ],
   "source": [
    "# 讀取資料集\n",
    "train_data = pd.read_csv(\"./train.csv\", header=None);\n",
    "train_label = pd.read_csv(\"./trainLabels.csv\", header=None)\n",
    "\n",
    "# 切分訓練集/測試集\n",
    "x_train, x_test, y_train, y_test = train_test_split(train_data, train_label, test_size=0.25, random_state=0)\n",
    "\n",
    "# 特徵縮放\n",
    "sc = StandardScaler()\n",
    "x_train = sc.fit_transform(x_train)\n",
    "x_test = sc.transform(x_test)\n",
    "\n",
    "# 以隨機森林訓練\n",
    "classifier = RandomForestClassifier(n_estimators = 50, criterion = 'entropy', random_state = 0 )\n",
    "classifier.fit(x_train, y_train)\n",
    "\n",
    "# 預測結果\n",
    "y_pred = classifier.predict(x_test)\n",
    "\n",
    "# 混淆矩陣\n",
    "cm = confusion_matrix(y_test, y_pred)\n",
    "print(\"混淆矩陣:\\n\", cm)\n",
    "\n",
    "# 預測正確率\n",
    "acc = metrics.accuracy_score(y_test, y_pred)\n",
    "print(\"預測正確率: \", acc)"
   ]
  },
  {
   "cell_type": "code",
   "execution_count": 13,
   "metadata": {},
   "outputs": [],
   "source": [
    "# 預測測試資料(9000筆)\n",
    "    test_data = pd.read_csv(\"./test.csv\", header=None);\n",
    "    ids = np.arange(1, 9001)\n",
    "\n",
    "# 預測結果\n",
    "test_pred = classifier.predict(test_data)\n",
    "\n",
    "# 儲存結果\n",
    "sub = pd.DataFrame({'Id': ids, 'Solution': test_pred})\n",
    "sub.to_csv('results.csv', index=False) "
   ]
  }
 ],
 "metadata": {
  "kernelspec": {
   "display_name": "Python 3",
   "language": "python",
   "name": "python3"
  },
  "language_info": {
   "codemirror_mode": {
    "name": "ipython",
    "version": 3
   },
   "file_extension": ".py",
   "mimetype": "text/x-python",
   "name": "python",
   "nbconvert_exporter": "python",
   "pygments_lexer": "ipython3",
   "version": "3.7.1"
  }
 },
 "nbformat": 4,
 "nbformat_minor": 2
}
