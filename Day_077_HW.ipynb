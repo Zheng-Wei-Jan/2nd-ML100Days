{
 "cells": [
  {
   "cell_type": "markdown",
   "metadata": {},
   "source": [
    "## Work\n",
    "1. 請將 Epoch 加到 500 個，並觀察 learning curve 的走勢\n",
    "2. 請將 Optimizer 換成 SGD，並觀察 learning curve 的走勢"
   ]
  },
  {
   "cell_type": "code",
   "execution_count": 28,
   "metadata": {},
   "outputs": [],
   "source": [
    "import os\n",
    "import keras as K\n",
    "\n",
    "# 本作業可以不需使用 GPU, 將 GPU 設定為 \"無\" (若有 GPU 且想開啟，可設為 \"0\")\n",
    "os.environ[\"CUDA_VISIBLE_DEVICES\"] = \"\""
   ]
  },
  {
   "cell_type": "code",
   "execution_count": 29,
   "metadata": {},
   "outputs": [],
   "source": [
    "# 從 Keras 的內建功能中，取得 train 與 test 資料集\n",
    "train, test = keras.datasets.cifar10.load_data()"
   ]
  },
  {
   "cell_type": "code",
   "execution_count": 30,
   "metadata": {},
   "outputs": [],
   "source": [
    "# 將 X 與 Y 獨立放進變數\n",
    "x_train, y_train = train\n",
    "x_test, y_test = test\n",
    "# 資料前處理 - 標準化\n",
    "x_train = x_train / 255.\n",
    "x_test = x_test / 255.\n",
    "\n",
    "# 將資料從圖形 (RGB) 轉為向量 (Single Vector)\n",
    "x_train = x_train.reshape((len(x_train), -1))\n",
    "x_test = x_test.reshape((len(x_test), -1))\n",
    "\n",
    "# 將目標轉為 one-hot encoding\n",
    "y_train = keras.utils.to_categorical(y_train, num_classes=10)\n",
    "y_test = keras.utils.to_categorical(y_test, num_classes=10)"
   ]
  },
  {
   "cell_type": "markdown",
   "metadata": {},
   "source": [
    "## Code Here\n",
    "## 建立你的神經網路"
   ]
  },
  {
   "cell_type": "code",
   "execution_count": 31,
   "metadata": {},
   "outputs": [],
   "source": [
    "def build_mlp():\n",
    "    input_layer = K.layers.Input([x_train.shape[-1]])\n",
    "    x   = K.layers.Dense(units = 512, activation = 'relu')(input_layer)\n",
    "    x   = K.layers.Dense(units = 256, activation = 'relu')(x)\n",
    "    x   = K.layers.Dense(units = 128, activation = 'relu')(x)\n",
    "    out = K.layers.Dense(units =  10, activation = 'softmax')(x) \n",
    "   \n",
    "    model = K.models.Model(inputs = [input_layer], outputs = [out])\n",
    "    return model\n"
   ]
  },
  {
   "cell_type": "code",
   "execution_count": 32,
   "metadata": {},
   "outputs": [],
   "source": [
    "model = build_mlp()"
   ]
  },
  {
   "cell_type": "markdown",
   "metadata": {},
   "source": [
    "## Compile 模型"
   ]
  },
  {
   "cell_type": "code",
   "execution_count": 39,
   "metadata": {},
   "outputs": [
    {
     "name": "stdout",
     "output_type": "stream",
     "text": [
      "_________________________________________________________________\n",
      "Layer (type)                 Output Shape              Param #   \n",
      "=================================================================\n",
      "input_4 (InputLayer)         (None, 3072)              0         \n",
      "_________________________________________________________________\n",
      "dense_7 (Dense)              (None, 512)               1573376   \n",
      "_________________________________________________________________\n",
      "dense_8 (Dense)              (None, 256)               131328    \n",
      "_________________________________________________________________\n",
      "dense_9 (Dense)              (None, 128)               32896     \n",
      "_________________________________________________________________\n",
      "dense_10 (Dense)             (None, 10)                1290      \n",
      "=================================================================\n",
      "Total params: 1,738,890\n",
      "Trainable params: 1,738,890\n",
      "Non-trainable params: 0\n",
      "_________________________________________________________________\n"
     ]
    }
   ],
   "source": [
    "# 用 Keras as K 內建方法檢視模型各層參數量\n",
    "model.summary()\n",
    "\n",
    "#optimizer = K.optimizers.Adam(lr = 0.001)\n",
    "optimizer = K.optimizers.SGD(lr = 0.001)\n",
    "\n",
    "model.compile(loss = 'categorical_crossentropy', metrics = ['accuracy'], optimizer = optimizer)"
   ]
  },
  {
   "cell_type": "markdown",
   "metadata": {},
   "source": [
    "## 設定要訓練的 Epoch 數\n"
   ]
  },
  {
   "cell_type": "code",
   "execution_count": 40,
   "metadata": {
    "scrolled": true
   },
   "outputs": [
    {
     "name": "stdout",
     "output_type": "stream",
     "text": [
      "Train on 50000 samples, validate on 10000 samples\n",
      "Epoch 1/100\n",
      "50000/50000 [==============================] - 3s 62us/step - loss: 0.1716 - acc: 0.9437 - val_loss: 3.1443 - val_acc: 0.5103\n",
      "Epoch 2/100\n",
      "50000/50000 [==============================] - 2s 47us/step - loss: 0.1341 - acc: 0.9607 - val_loss: 3.1521 - val_acc: 0.5102\n",
      "Epoch 3/100\n",
      "50000/50000 [==============================] - 2s 48us/step - loss: 0.1221 - acc: 0.9658 - val_loss: 3.1567 - val_acc: 0.5104\n",
      "Epoch 4/100\n",
      "50000/50000 [==============================] - 2s 46us/step - loss: 0.1158 - acc: 0.9691 - val_loss: 3.1621 - val_acc: 0.5104\n",
      "Epoch 5/100\n",
      "50000/50000 [==============================] - 2s 45us/step - loss: 0.1118 - acc: 0.9706 - val_loss: 3.1666 - val_acc: 0.5108\n",
      "Epoch 6/100\n",
      "50000/50000 [==============================] - 2s 40us/step - loss: 0.1091 - acc: 0.9720 - val_loss: 3.1690 - val_acc: 0.5118\n",
      "Epoch 7/100\n",
      "50000/50000 [==============================] - 2s 44us/step - loss: 0.1070 - acc: 0.9731 - val_loss: 3.1725 - val_acc: 0.5110\n",
      "Epoch 8/100\n",
      "50000/50000 [==============================] - 2s 45us/step - loss: 0.1054 - acc: 0.9735 - val_loss: 3.1743 - val_acc: 0.5108\n",
      "Epoch 9/100\n",
      "50000/50000 [==============================] - 2s 46us/step - loss: 0.1040 - acc: 0.9739 - val_loss: 3.1776 - val_acc: 0.5106\n",
      "Epoch 10/100\n",
      "50000/50000 [==============================] - 2s 45us/step - loss: 0.1029 - acc: 0.9742 - val_loss: 3.1800 - val_acc: 0.5106\n",
      "Epoch 11/100\n",
      "50000/50000 [==============================] - 2s 45us/step - loss: 0.1019 - acc: 0.9747 - val_loss: 3.1833 - val_acc: 0.5102\n",
      "Epoch 12/100\n",
      "50000/50000 [==============================] - 2s 46us/step - loss: 0.1011 - acc: 0.9751 - val_loss: 3.1847 - val_acc: 0.5104\n",
      "Epoch 13/100\n",
      "50000/50000 [==============================] - 2s 46us/step - loss: 0.1003 - acc: 0.9754 - val_loss: 3.1878 - val_acc: 0.5104\n",
      "Epoch 14/100\n",
      "50000/50000 [==============================] - 2s 45us/step - loss: 0.0996 - acc: 0.9757 - val_loss: 3.1899 - val_acc: 0.5106\n",
      "Epoch 15/100\n",
      "50000/50000 [==============================] - 2s 45us/step - loss: 0.0989 - acc: 0.9760 - val_loss: 3.1914 - val_acc: 0.5104\n",
      "Epoch 16/100\n",
      "50000/50000 [==============================] - 2s 45us/step - loss: 0.0983 - acc: 0.9762 - val_loss: 3.1937 - val_acc: 0.5111\n",
      "Epoch 17/100\n",
      "50000/50000 [==============================] - 2s 46us/step - loss: 0.0977 - acc: 0.9762 - val_loss: 3.1960 - val_acc: 0.5108\n",
      "Epoch 18/100\n",
      "50000/50000 [==============================] - 2s 48us/step - loss: 0.0972 - acc: 0.9764 - val_loss: 3.1979 - val_acc: 0.5117\n",
      "Epoch 19/100\n",
      "50000/50000 [==============================] - 2s 47us/step - loss: 0.0967 - acc: 0.9765 - val_loss: 3.1994 - val_acc: 0.5117\n",
      "Epoch 20/100\n",
      "50000/50000 [==============================] - 2s 46us/step - loss: 0.0962 - acc: 0.9767 - val_loss: 3.2015 - val_acc: 0.5118\n",
      "Epoch 21/100\n",
      "50000/50000 [==============================] - 2s 45us/step - loss: 0.0958 - acc: 0.9767 - val_loss: 3.2045 - val_acc: 0.5121\n",
      "Epoch 22/100\n",
      "50000/50000 [==============================] - 2s 46us/step - loss: 0.0953 - acc: 0.9768 - val_loss: 3.2064 - val_acc: 0.5117\n",
      "Epoch 23/100\n",
      "50000/50000 [==============================] - 2s 46us/step - loss: 0.0949 - acc: 0.9771 - val_loss: 3.2075 - val_acc: 0.5122\n",
      "Epoch 24/100\n",
      "50000/50000 [==============================] - 2s 48us/step - loss: 0.0945 - acc: 0.9771 - val_loss: 3.2093 - val_acc: 0.5124\n",
      "Epoch 25/100\n",
      "50000/50000 [==============================] - 2s 45us/step - loss: 0.0941 - acc: 0.9773 - val_loss: 3.2121 - val_acc: 0.5126\n",
      "Epoch 26/100\n",
      "50000/50000 [==============================] - 2s 44us/step - loss: 0.0937 - acc: 0.9774 - val_loss: 3.2137 - val_acc: 0.5126\n",
      "Epoch 27/100\n",
      "50000/50000 [==============================] - 2s 45us/step - loss: 0.0934 - acc: 0.9775 - val_loss: 3.2153 - val_acc: 0.5127\n",
      "Epoch 28/100\n",
      "50000/50000 [==============================] - 2s 45us/step - loss: 0.0930 - acc: 0.9777 - val_loss: 3.2182 - val_acc: 0.5132\n",
      "Epoch 29/100\n",
      "50000/50000 [==============================] - 2s 44us/step - loss: 0.0927 - acc: 0.9776 - val_loss: 3.2194 - val_acc: 0.5132\n",
      "Epoch 30/100\n",
      "50000/50000 [==============================] - 2s 45us/step - loss: 0.0924 - acc: 0.9777 - val_loss: 3.2214 - val_acc: 0.5129\n",
      "Epoch 31/100\n",
      "50000/50000 [==============================] - 2s 45us/step - loss: 0.0921 - acc: 0.9776 - val_loss: 3.2234 - val_acc: 0.5131\n",
      "Epoch 32/100\n",
      "50000/50000 [==============================] - 2s 45us/step - loss: 0.0918 - acc: 0.9778 - val_loss: 3.2250 - val_acc: 0.5135\n",
      "Epoch 33/100\n",
      "50000/50000 [==============================] - 2s 45us/step - loss: 0.0914 - acc: 0.9780 - val_loss: 3.2270 - val_acc: 0.5135oss: 0.09\n",
      "Epoch 34/100\n",
      "50000/50000 [==============================] - 2s 45us/step - loss: 0.0911 - acc: 0.9780 - val_loss: 3.2287 - val_acc: 0.5137\n",
      "Epoch 35/100\n",
      "50000/50000 [==============================] - 2s 45us/step - loss: 0.0908 - acc: 0.9781 - val_loss: 3.2305 - val_acc: 0.5138\n",
      "Epoch 36/100\n",
      "50000/50000 [==============================] - 2s 45us/step - loss: 0.0906 - acc: 0.9781 - val_loss: 3.2324 - val_acc: 0.5138\n",
      "Epoch 37/100\n",
      "50000/50000 [==============================] - 2s 45us/step - loss: 0.0903 - acc: 0.9782 - val_loss: 3.2346 - val_acc: 0.5136\n",
      "Epoch 38/100\n",
      "50000/50000 [==============================] - 2s 44us/step - loss: 0.0900 - acc: 0.9785 - val_loss: 3.2353 - val_acc: 0.5141\n",
      "Epoch 39/100\n",
      "50000/50000 [==============================] - 2s 44us/step - loss: 0.0898 - acc: 0.9786 - val_loss: 3.2372 - val_acc: 0.5141\n",
      "Epoch 40/100\n",
      "50000/50000 [==============================] - 2s 45us/step - loss: 0.0895 - acc: 0.9786 - val_loss: 3.2386 - val_acc: 0.5138\n",
      "Epoch 41/100\n",
      "50000/50000 [==============================] - 2s 45us/step - loss: 0.0892 - acc: 0.9788 - val_loss: 3.2406 - val_acc: 0.5138\n",
      "Epoch 42/100\n",
      "50000/50000 [==============================] - 2s 46us/step - loss: 0.0890 - acc: 0.9787 - val_loss: 3.2411 - val_acc: 0.5137\n",
      "Epoch 43/100\n",
      "50000/50000 [==============================] - 2s 46us/step - loss: 0.0888 - acc: 0.9787 - val_loss: 3.2430 - val_acc: 0.5140\n",
      "Epoch 44/100\n",
      "50000/50000 [==============================] - 2s 45us/step - loss: 0.0885 - acc: 0.9789 - val_loss: 3.2448 - val_acc: 0.5132\n",
      "Epoch 45/100\n",
      "50000/50000 [==============================] - 2s 45us/step - loss: 0.0883 - acc: 0.9790 - val_loss: 3.2457 - val_acc: 0.5133\n",
      "Epoch 46/100\n",
      "50000/50000 [==============================] - 2s 45us/step - loss: 0.0881 - acc: 0.9791 - val_loss: 3.2476 - val_acc: 0.5142\n",
      "Epoch 47/100\n",
      "50000/50000 [==============================] - 2s 45us/step - loss: 0.0878 - acc: 0.9791 - val_loss: 3.2504 - val_acc: 0.5130\n",
      "Epoch 48/100\n",
      "50000/50000 [==============================] - 2s 45us/step - loss: 0.0876 - acc: 0.9791 - val_loss: 3.2514 - val_acc: 0.5139\n",
      "Epoch 49/100\n",
      "50000/50000 [==============================] - 2s 45us/step - loss: 0.0874 - acc: 0.9792 - val_loss: 3.2524 - val_acc: 0.5139\n",
      "Epoch 50/100\n",
      "50000/50000 [==============================] - 2s 48us/step - loss: 0.0872 - acc: 0.9794 - val_loss: 3.2541 - val_acc: 0.5141\n",
      "Epoch 51/100\n",
      "50000/50000 [==============================] - 2s 45us/step - loss: 0.0870 - acc: 0.9794 - val_loss: 3.2543 - val_acc: 0.5140\n",
      "Epoch 52/100\n",
      "50000/50000 [==============================] - 2s 45us/step - loss: 0.0868 - acc: 0.9796 - val_loss: 3.2561 - val_acc: 0.5143\n",
      "Epoch 53/100\n",
      "50000/50000 [==============================] - 2s 44us/step - loss: 0.0866 - acc: 0.9796 - val_loss: 3.2578 - val_acc: 0.5140\n",
      "Epoch 54/100\n",
      "50000/50000 [==============================] - 2s 41us/step - loss: 0.0863 - acc: 0.9797 - val_loss: 3.2593 - val_acc: 0.5142\n",
      "Epoch 55/100\n",
      "50000/50000 [==============================] - 2s 38us/step - loss: 0.0862 - acc: 0.9797 - val_loss: 3.2603 - val_acc: 0.5143\n",
      "Epoch 56/100\n",
      "50000/50000 [==============================] - 2s 43us/step - loss: 0.0860 - acc: 0.9798 - val_loss: 3.2615 - val_acc: 0.5144\n",
      "Epoch 57/100\n",
      "50000/50000 [==============================] - 2s 45us/step - loss: 0.0858 - acc: 0.9800 - val_loss: 3.2629 - val_acc: 0.5138\n",
      "Epoch 58/100\n",
      "50000/50000 [==============================] - 2s 45us/step - loss: 0.0856 - acc: 0.9799 - val_loss: 3.2644 - val_acc: 0.5139\n",
      "Epoch 59/100\n"
     ]
    },
    {
     "name": "stdout",
     "output_type": "stream",
     "text": [
      "50000/50000 [==============================] - 2s 45us/step - loss: 0.0854 - acc: 0.9800 - val_loss: 3.2660 - val_acc: 0.5140\n",
      "Epoch 60/100\n",
      "50000/50000 [==============================] - 2s 46us/step - loss: 0.0852 - acc: 0.9801 - val_loss: 3.2665 - val_acc: 0.5140\n",
      "Epoch 61/100\n",
      "50000/50000 [==============================] - 2s 46us/step - loss: 0.0850 - acc: 0.9801 - val_loss: 3.2691 - val_acc: 0.5139\n",
      "Epoch 62/100\n",
      "50000/50000 [==============================] - 2s 45us/step - loss: 0.0849 - acc: 0.9802 - val_loss: 3.2701 - val_acc: 0.5137\n",
      "Epoch 63/100\n",
      "50000/50000 [==============================] - 2s 45us/step - loss: 0.0847 - acc: 0.9803 - val_loss: 3.2724 - val_acc: 0.5139\n",
      "Epoch 64/100\n",
      "50000/50000 [==============================] - 2s 45us/step - loss: 0.0845 - acc: 0.9804 - val_loss: 3.2724 - val_acc: 0.5146\n",
      "Epoch 65/100\n",
      "50000/50000 [==============================] - 2s 45us/step - loss: 0.0843 - acc: 0.9805 - val_loss: 3.2741 - val_acc: 0.5139\n",
      "Epoch 66/100\n",
      "50000/50000 [==============================] - 2s 45us/step - loss: 0.0841 - acc: 0.9803 - val_loss: 3.2754 - val_acc: 0.5144\n",
      "Epoch 67/100\n",
      "50000/50000 [==============================] - 2s 45us/step - loss: 0.0840 - acc: 0.9805 - val_loss: 3.2778 - val_acc: 0.5137\n",
      "Epoch 68/100\n",
      "50000/50000 [==============================] - 2s 45us/step - loss: 0.0838 - acc: 0.9804 - val_loss: 3.2778 - val_acc: 0.5138\n",
      "Epoch 69/100\n",
      "50000/50000 [==============================] - 2s 45us/step - loss: 0.0837 - acc: 0.9806 - val_loss: 3.2793 - val_acc: 0.5135\n",
      "Epoch 70/100\n",
      "50000/50000 [==============================] - 2s 44us/step - loss: 0.0835 - acc: 0.9805 - val_loss: 3.2807 - val_acc: 0.5138\n",
      "Epoch 71/100\n",
      "50000/50000 [==============================] - 2s 45us/step - loss: 0.0833 - acc: 0.9808 - val_loss: 3.2817 - val_acc: 0.5134\n",
      "Epoch 72/100\n",
      "50000/50000 [==============================] - 2s 44us/step - loss: 0.0832 - acc: 0.9807 - val_loss: 3.2832 - val_acc: 0.5139\n",
      "Epoch 73/100\n",
      "50000/50000 [==============================] - 2s 44us/step - loss: 0.0830 - acc: 0.9806 - val_loss: 3.2850 - val_acc: 0.5139\n",
      "Epoch 74/100\n",
      "50000/50000 [==============================] - 2s 44us/step - loss: 0.0828 - acc: 0.9808 - val_loss: 3.2863 - val_acc: 0.5141\n",
      "Epoch 75/100\n",
      "50000/50000 [==============================] - 2s 45us/step - loss: 0.0827 - acc: 0.9809 - val_loss: 3.2870 - val_acc: 0.5141\n",
      "Epoch 76/100\n",
      "50000/50000 [==============================] - 2s 47us/step - loss: 0.0825 - acc: 0.9807 - val_loss: 3.2880 - val_acc: 0.5140\n",
      "Epoch 77/100\n",
      "50000/50000 [==============================] - 2s 46us/step - loss: 0.0824 - acc: 0.9807 - val_loss: 3.2890 - val_acc: 0.5140\n",
      "Epoch 78/100\n",
      "50000/50000 [==============================] - 2s 46us/step - loss: 0.0822 - acc: 0.9808 - val_loss: 3.2900 - val_acc: 0.5139\n",
      "Epoch 79/100\n",
      "50000/50000 [==============================] - 2s 46us/step - loss: 0.0821 - acc: 0.9810 - val_loss: 3.2919 - val_acc: 0.5143\n",
      "Epoch 80/100\n",
      "50000/50000 [==============================] - 2s 46us/step - loss: 0.0819 - acc: 0.9812 - val_loss: 3.2930 - val_acc: 0.5140\n",
      "Epoch 81/100\n",
      "50000/50000 [==============================] - 2s 46us/step - loss: 0.0818 - acc: 0.9810 - val_loss: 3.2942 - val_acc: 0.5140\n",
      "Epoch 82/100\n",
      "50000/50000 [==============================] - 2s 45us/step - loss: 0.0816 - acc: 0.9811 - val_loss: 3.2951 - val_acc: 0.5142\n",
      "Epoch 83/100\n",
      "50000/50000 [==============================] - 2s 46us/step - loss: 0.0815 - acc: 0.9811 - val_loss: 3.2956 - val_acc: 0.5143\n",
      "Epoch 84/100\n",
      "50000/50000 [==============================] - 2s 46us/step - loss: 0.0813 - acc: 0.9812 - val_loss: 3.2976 - val_acc: 0.5136\n",
      "Epoch 85/100\n",
      "50000/50000 [==============================] - 2s 46us/step - loss: 0.0812 - acc: 0.9811 - val_loss: 3.2996 - val_acc: 0.5142\n",
      "Epoch 86/100\n",
      "50000/50000 [==============================] - 2s 46us/step - loss: 0.0811 - acc: 0.9812 - val_loss: 3.3001 - val_acc: 0.5142\n",
      "Epoch 87/100\n",
      "50000/50000 [==============================] - 2s 45us/step - loss: 0.0809 - acc: 0.9813 - val_loss: 3.3012 - val_acc: 0.5141\n",
      "Epoch 88/100\n",
      "50000/50000 [==============================] - 2s 46us/step - loss: 0.0808 - acc: 0.9813 - val_loss: 3.3035 - val_acc: 0.5142\n",
      "Epoch 89/100\n",
      "50000/50000 [==============================] - 2s 45us/step - loss: 0.0806 - acc: 0.9814 - val_loss: 3.3041 - val_acc: 0.5142\n",
      "Epoch 90/100\n",
      "50000/50000 [==============================] - 2s 46us/step - loss: 0.0805 - acc: 0.9816 - val_loss: 3.3053 - val_acc: 0.5147\n",
      "Epoch 91/100\n",
      "50000/50000 [==============================] - 2s 45us/step - loss: 0.0803 - acc: 0.9815 - val_loss: 3.3061 - val_acc: 0.5142\n",
      "Epoch 92/100\n",
      "50000/50000 [==============================] - 2s 45us/step - loss: 0.0802 - acc: 0.9815 - val_loss: 3.3065 - val_acc: 0.5139\n",
      "Epoch 93/100\n",
      "50000/50000 [==============================] - 2s 45us/step - loss: 0.0801 - acc: 0.9814 - val_loss: 3.3096 - val_acc: 0.5134\n",
      "Epoch 94/100\n",
      "50000/50000 [==============================] - 2s 45us/step - loss: 0.0800 - acc: 0.9814 - val_loss: 3.3101 - val_acc: 0.5139\n",
      "Epoch 95/100\n",
      "50000/50000 [==============================] - 2s 45us/step - loss: 0.0798 - acc: 0.9816 - val_loss: 3.3107 - val_acc: 0.5143\n",
      "Epoch 96/100\n",
      "50000/50000 [==============================] - 2s 45us/step - loss: 0.0797 - acc: 0.9817 - val_loss: 3.3113 - val_acc: 0.5146\n",
      "Epoch 97/100\n",
      "50000/50000 [==============================] - 2s 45us/step - loss: 0.0796 - acc: 0.9817 - val_loss: 3.3129 - val_acc: 0.5148\n",
      "Epoch 98/100\n",
      "50000/50000 [==============================] - 2s 46us/step - loss: 0.0794 - acc: 0.9818 - val_loss: 3.3141 - val_acc: 0.5139\n",
      "Epoch 99/100\n",
      "50000/50000 [==============================] - 2s 45us/step - loss: 0.0793 - acc: 0.9818 - val_loss: 3.3153 - val_acc: 0.5142\n",
      "Epoch 100/100\n",
      "50000/50000 [==============================] - 2s 45us/step - loss: 0.0792 - acc: 0.9818 - val_loss: 3.3163 - val_acc: 0.5144\n"
     ]
    },
    {
     "data": {
      "text/plain": [
       "<keras.callbacks.History at 0x134e7305da0>"
      ]
     },
     "execution_count": 40,
     "metadata": {},
     "output_type": "execute_result"
    }
   ],
   "source": [
    "model.fit(x_train, y_train, \n",
    "          epochs=100, \n",
    "          batch_size=256, \n",
    "          validation_data=(x_test, y_test), \n",
    "          shuffle=True)"
   ]
  },
  {
   "cell_type": "code",
   "execution_count": 41,
   "metadata": {},
   "outputs": [
    {
     "data": {
      "image/png": "[encoded data removed]",
      "text/plain": [
       "<Figure size 432x288 with 1 Axes>"
      ]
     },
     "metadata": {
      "needs_background": "light"
     },
     "output_type": "display_data"
    },
    {
     "data": {
      "image/png": "[encoded data removed]",
      "text/plain": [
       "<Figure size 432x288 with 1 Axes>"
      ]
     },
     "metadata": {
      "needs_background": "light"
     },
     "output_type": "display_data"
    }
   ],
   "source": [
    "import matplotlib.pyplot as plt\n",
    "%matplotlib inline\n",
    "# 以視覺畫方式檢視訓練過程\n",
    "\n",
    "train_loss = model.history.history[\"loss\"]\n",
    "valid_loss = model.history.history[\"val_loss\"]\n",
    "\n",
    "train_acc = model.history.history[\"acc\"]\n",
    "valid_acc = model.history.history[\"val_acc\"]\n",
    "\n",
    "plt.plot(range(len(train_loss)), train_loss, label=\"train loss\")\n",
    "plt.plot(range(len(valid_loss)), valid_loss, label=\"valid loss\")\n",
    "plt.legend()\n",
    "plt.title(\"Loss\")\n",
    "plt.show()\n",
    "\n",
    "plt.plot(range(len(train_acc)), train_acc, label=\"train accuracy\")\n",
    "plt.plot(range(len(valid_acc)), valid_acc, label=\"valid accuracy\")\n",
    "plt.legend()\n",
    "plt.title(\"Accuracy\")\n",
    "plt.show()"
   ]
  },
  {
   "cell_type": "code",
   "execution_count": null,
   "metadata": {},
   "outputs": [],
   "source": []
  }
 ],
 "metadata": {
  "kernelspec": {
   "display_name": "Python 3",
   "language": "python",
   "name": "python3"
  },
  "language_info": {
   "codemirror_mode": {
    "name": "ipython",
    "version": 3
   },
   "file_extension": ".py",
   "mimetype": "text/x-python",
   "name": "python",
   "nbconvert_exporter": "python",
   "pygments_lexer": "ipython3",
   "version": "3.6.8"
  }
 },
 "nbformat": 4,
 "nbformat_minor": 2
}
