{
 "cells": [
  {
   "cell_type": "markdown",
   "metadata": {},
   "source": [
    "## [作業重點]\n",
    "確保你了解隨機森林模型中每個超參數的意義，並觀察調整超參數對結果的影響"
   ]
  },
  {
   "cell_type": "markdown",
   "metadata": {},
   "source": [
    "## 作業\n",
    "\n",
    "1. 試著調整 RandomForestClassifier(...) 中的參數，並觀察是否會改變結果？\n",
    "2. 改用其他資料集 (boston, wine)，並與回歸模型與決策樹的結果進行比較"
   ]
  },
  {
   "cell_type": "markdown",
   "metadata": {},
   "source": [
    "## 載入所需模組"
   ]
  },
  {
   "cell_type": "code",
   "execution_count": 2,
   "metadata": {},
   "outputs": [],
   "source": [
    "from sklearn import datasets, metrics\n",
    "from sklearn.ensemble import RandomForestClassifier\n",
    "from sklearn.model_selection import train_test_split"
   ]
  },
  {
   "cell_type": "code",
   "execution_count": 4,
   "metadata": {},
   "outputs": [],
   "source": [
    "### 印出可使用 Dataset \n",
    "#dir(datasets)"
   ]
  },
  {
   "cell_type": "markdown",
   "metadata": {},
   "source": [
    "### 'load_boston',\n",
    "### 'load_breast_cancer',\n",
    "### 'load_diabetes',\n",
    "### 'load_digits',\n",
    "### 'load_files',\n",
    "### 'load_iris',\n",
    "### 'load_linnerud',\n",
    "### 'load_mlcomp',\n",
    "### 'load_sample_image',\n",
    "### 'load_sample_images',\n",
    "### 'load_svmlight_file',\n",
    "### 'load_svmlight_files',\n",
    "### 'load_wine',"
   ]
  },
  {
   "cell_type": "code",
   "execution_count": 39,
   "metadata": {},
   "outputs": [],
   "source": [
    "# 讀取digits資料集\n",
    "digits = datasets.load_digits()\n",
    "\n",
    "# 切分訓練集/測試集\n",
    "x_train, x_test, y_train, y_test = train_test_split(digits.data, digits.target, test_size=0.3, random_state=4)\n",
    "\n",
    "# 建立模型 (使用 20 顆樹，每棵樹的最大深度為 4)\n",
    "#clf = RandomForestClassifier(n_estimators = 20, max_depth = 4)\n",
    "#clf = RandomForestClassifier(n_estimators = 30, max_depth = 5)\n",
    "#clf = RandomForestClassifier(n_estimators = 50, max_depth = 7)\n",
    "clf = RandomForestClassifier(n_estimators = 100, max_depth = 50)\n",
    "\n",
    "\n",
    "# 訓練模型\n",
    "clf.fit(x_train, y_train)\n",
    "\n",
    "# 預測測試集\n",
    "y_pred = clf.predict(x_test)"
   ]
  },
  {
   "cell_type": "code",
   "execution_count": 40,
   "metadata": {},
   "outputs": [
    {
     "name": "stdout",
     "output_type": "stream",
     "text": [
      "[8 7 0 5 3 5 1 3 1 8 2 7 8 4 7 7 8 3 0 6 1 7 8 0 8 6 8 1 0 0 0 2 7 1 1 7 6\n",
      " 3 1 3 4 2 9 5 2 0 0 7 3 3 2 9 7 6 1 8 5 8 6 7 5 6 9 3 1 4 1 9 7 8 4 4 2 4\n",
      " 1 6 6 7 8 1 2 6 9 1 7 4 2 6 7 3 7 5 4 8 5 1 5 6 7 1 2 5 5 2 0 8 5 2 2 3 0\n",
      " 4 5 6 9 3 9 5 7 4 7 8 9 4 9 7 9 7 9 4 3 0 5 4 9 2 3 2 9 6 2 6 0 5 5 8 9 2\n",
      " 4 3 4 4 2 0 9 8 4 3 6 6 2 9 7 1 5 7 6 0 5 3 2 3 1 3 2 6 6 0 8 2 5 7 6 8 4\n",
      " 6 2 2 0 4 0 3 0 4 0 1 5 6 4 7 1 5 4 5 5 3 4 4 6 3 7 1 1 3 5 7 5 0 1 9 5 0\n",
      " 8 7 4 0 1 6 5 0 2 4 2 9 4 0 6 2 9 1 9 6 3 9 0 8 3 1 2 1 3 2 0 9 0 7 5 9 1\n",
      " 8 6 9 6 8 8 6 2 4 5 9 9 1 5 2 8 4 7 9 8 8 0 1 7 3 2 2 1 0 3 2 3 9 7 2 0 0\n",
      " 1 2 6 0 9 9 7 8 5 4 0 0 1 5 7 1 0 3 9 8 5 4 7 0 4 9 5 6 0 8 2 0 5 2 3 2 2\n",
      " 4 2 8 7 5 8 8 6 9 2 6 4 5 9 5 4 1 7 1 7 3 4 8 5 4 3 7 7 5 6 3 7 3 6 0 3 5\n",
      " 2 3 8 0 0 7 8 3 1 0 0 2 2 9 7 4 3 9 3 1 7 9 1 0 1 3 9 8 9 9 5 5 0 1 5 4 4\n",
      " 9 2 8 1 6 5 4 6 3 8 3 9 1 2 0 9 1 7 5 7 9 8 9 3 8 0 2 5 7 7 9 8 8 2 5 9 0\n",
      " 4 7 9 8 7 5 8 6 6 1 6 6 7 1 6 4 0 8 2 1 3 8 7 2 3 5 3 3 4 0 3 4 7 5 7 1 3\n",
      " 3 6 8 5 5 6 4 3 8 5 9 4 8 3 6 4 2 2 8 1 6 6 8 0 4 1 0 7 6 4 1 2 3 6 7 1 2\n",
      " 5 4 5 1 4 2 0 8 1 3 4 4 5 9 3 1 8 9 1 6 8 5]\n"
     ]
    }
   ],
   "source": [
    "print(y_pred)"
   ]
  },
  {
   "cell_type": "code",
   "execution_count": 41,
   "metadata": {},
   "outputs": [
    {
     "name": "stdout",
     "output_type": "stream",
     "text": [
      "Accuracy:  0.9833333333333333\n"
     ]
    }
   ],
   "source": [
    "acc = metrics.accuracy_score(y_test, y_pred)\n",
    "print(\"Accuracy: \", acc)\n",
    "## Accuracy:  0.9259259259259259, 使用 30  顆樹，每棵樹的最大深度為  5\n",
    "## Accuracy:  0.8944444444444445, 使用 20  顆樹，每棵樹的最大深度為  4\n",
    "## Accuracy:  0.9703703703703703, 使用 50  顆樹，每棵樹的最大深度為  7\n",
    "## Accuracy:  0.9833333333333333, 使用 100 顆樹，每棵樹的最大深度為 50"
   ]
  },
  {
   "cell_type": "code",
   "execution_count": 42,
   "metadata": {},
   "outputs": [],
   "source": [
    "#print(digits.feature_names)"
   ]
  },
  {
   "cell_type": "code",
   "execution_count": 43,
   "metadata": {},
   "outputs": [
    {
     "name": "stdout",
     "output_type": "stream",
     "text": [
      "Feature importance:  [0.00000000e+00 1.82171236e-03 2.11950912e-02 9.55286210e-03\n",
      " 8.92652363e-03 2.15193436e-02 8.80008937e-03 5.49616641e-04\n",
      " 0.00000000e+00 1.08868111e-02 2.70380782e-02 7.84719723e-03\n",
      " 1.52989503e-02 2.91911103e-02 5.63667778e-03 5.96562470e-04\n",
      " 1.69526612e-05 8.28855560e-03 2.00914583e-02 2.40961851e-02\n",
      " 3.31549551e-02 5.24704266e-02 1.02274694e-02 2.57730562e-04\n",
      " 0.00000000e+00 1.62497867e-02 3.45205449e-02 2.69954757e-02\n",
      " 2.99972887e-02 2.47001915e-02 2.97302330e-02 1.23862587e-05\n",
      " 0.00000000e+00 2.62588501e-02 3.15535143e-02 1.69937900e-02\n",
      " 4.11592391e-02 2.00750201e-02 2.78219627e-02 0.00000000e+00\n",
      " 2.74171830e-05 9.16987516e-03 3.88276012e-02 3.84267563e-02\n",
      " 2.00505445e-02 1.72440905e-02 1.93946966e-02 1.18045294e-05\n",
      " 8.85119016e-06 1.96354716e-03 1.74747127e-02 2.20364850e-02\n",
      " 1.32999684e-02 2.07506190e-02 2.71887957e-02 1.19871354e-03\n",
      " 0.00000000e+00 2.22236053e-03 2.40844459e-02 9.70657255e-03\n",
      " 2.60275104e-02 2.97258993e-02 1.42382239e-02 3.38786619e-03]\n"
     ]
    }
   ],
   "source": [
    "print(\"Feature importance: \", clf.feature_importances_)"
   ]
  },
  {
   "cell_type": "code",
   "execution_count": null,
   "metadata": {},
   "outputs": [],
   "source": []
  },
  {
   "cell_type": "markdown",
   "metadata": {},
   "source": [
    "## load_diabetes"
   ]
  },
  {
   "cell_type": "code",
   "execution_count": 47,
   "metadata": {},
   "outputs": [],
   "source": [
    "# 讀取diabetes資料集\n",
    "diabetes = datasets.load_diabetes()\n",
    "\n",
    "# 切分訓練集/測試集\n",
    "x_train, x_test, y_train, y_test = train_test_split(diabetes.data, diabetes.target, test_size=0.3, random_state=4)\n",
    "\n",
    "# 建立模型 (使用 20 顆樹，每棵樹的最大深度為 4)\n",
    "#clf = RandomForestClassifier(n_estimators=20, max_depth=4)\n",
    "clf = RandomForestClassifier(n_estimators=100, max_depth=50)\n",
    "\n",
    "\n",
    "# 訓練模型\n",
    "clf.fit(x_train, y_train)\n",
    "\n",
    "# 預測測試集\n",
    "y_pred = clf.predict(x_test)"
   ]
  },
  {
   "cell_type": "code",
   "execution_count": 48,
   "metadata": {},
   "outputs": [
    {
     "data": {
      "text/plain": [
       "array([ 72., 144., 151., 158., 111.,  97.,  83., 129.,  90.,  69.,  84.,\n",
       "        68., 109., 150.,  83., 102., 217.,  55.,  60., 237., 220., 111.,\n",
       "        72., 272.,  71.,  55., 111., 154.,  71.,  47., 200., 182., 242.,\n",
       "       151., 153., 126., 129.,  91., 124., 109., 259., 237., 217., 158.,\n",
       "       248.,  72., 124., 104.,  85.,  55., 219.,  59., 111., 281.,  51.,\n",
       "       178.,  97.,  55.,  85., 261.,  71.,  64., 265., 263.,  60., 144.,\n",
       "       104.,  91., 230., 191.,  67., 142., 275., 116., 185., 220.,  42.,\n",
       "       121., 126.,  67.,  60., 281., 102., 283.,  47., 141., 272., 185.,\n",
       "       214., 100., 100.,  31., 275., 111.,  42.,  72., 214., 135.,  72.,\n",
       "       178.,  25.,  81., 111.,  37.,  71., 127., 182., 185., 281.,  79.,\n",
       "       283.,  58.,  83.,  63.,  43.,  42.,  59., 129.,  91., 214., 131.,\n",
       "       237., 273., 129.,  39., 129.,  63., 275., 116.,  96.,  89., 310.,\n",
       "        37.])"
      ]
     },
     "execution_count": 48,
     "metadata": {},
     "output_type": "execute_result"
    }
   ],
   "source": [
    "y_pred"
   ]
  },
  {
   "cell_type": "code",
   "execution_count": 50,
   "metadata": {},
   "outputs": [],
   "source": [
    "#acc = metrics.accuracy_score(y_test, y_pred)\n",
    "#print(\"Accuracy: \", acc)"
   ]
  },
  {
   "cell_type": "code",
   "execution_count": 51,
   "metadata": {},
   "outputs": [
    {
     "name": "stdout",
     "output_type": "stream",
     "text": [
      "['age', 'sex', 'bmi', 'bp', 's1', 's2', 's3', 's4', 's5', 's6']\n"
     ]
    }
   ],
   "source": [
    "print(diabetes.feature_names)"
   ]
  },
  {
   "cell_type": "code",
   "execution_count": 52,
   "metadata": {},
   "outputs": [
    {
     "name": "stdout",
     "output_type": "stream",
     "text": [
      "Feature importance:  [0.1105183  0.02951776 0.12033624 0.10664676 0.11140951 0.11276742\n",
      " 0.11137654 0.06401059 0.11790973 0.11550714]\n"
     ]
    }
   ],
   "source": [
    "print(\"Feature importance: \", clf.feature_importances_)"
   ]
  },
  {
   "cell_type": "code",
   "execution_count": null,
   "metadata": {},
   "outputs": [],
   "source": []
  }
 ],
 "metadata": {
  "kernelspec": {
   "display_name": "Python 3",
   "language": "python",
   "name": "python3"
  },
  "language_info": {
   "codemirror_mode": {
    "name": "ipython",
    "version": 3
   },
   "file_extension": ".py",
   "mimetype": "text/x-python",
   "name": "python",
   "nbconvert_exporter": "python",
   "pygments_lexer": "ipython3",
   "version": "3.7.1"
  }
 },
 "nbformat": 4,
 "nbformat_minor": 2
}
