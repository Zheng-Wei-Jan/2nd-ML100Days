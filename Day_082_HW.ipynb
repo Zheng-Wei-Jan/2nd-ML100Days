{
 "cells": [
  {
   "cell_type": "markdown",
   "metadata": {},
   "source": [
    "## Work\n",
    "1. 請比較使用不同層數以及不同 Dropout rate 對訓練的效果\n",
    "2. 將 optimizer 改成使用 Adam 並加上適當的 dropout rate 檢視結果"
   ]
  },
  {
   "cell_type": "code",
   "execution_count": 1,
   "metadata": {},
   "outputs": [
    {
     "name": "stderr",
     "output_type": "stream",
     "text": [
      "Using TensorFlow backend.\n"
     ]
    }
   ],
   "source": [
    "import os\n",
    "import keras\n",
    "import itertools\n",
    "import tensorflow as tf\n",
    "\n",
    "# Disable GPU\n",
    "os.environ[\"CUDA_VISIBLE_DEVICES\"] = \"0\"\n",
    "gpu_options = tf.GPUOptions(per_process_gpu_memory_fraction = 0.333)\n",
    "sess = tf.Session(config=tf.ConfigProto(gpu_options = gpu_options))"
   ]
  },
  {
   "cell_type": "code",
   "execution_count": 2,
   "metadata": {},
   "outputs": [],
   "source": [
    "train, test = keras.datasets.cifar10.load_data()"
   ]
  },
  {
   "cell_type": "code",
   "execution_count": 3,
   "metadata": {},
   "outputs": [],
   "source": [
    "## 資料前處理\n",
    "def preproc_x(x, flatten=True):\n",
    "    x = x / 255.\n",
    "    if flatten:\n",
    "        x = x.reshape((len(x), -1))\n",
    "    return x\n",
    "\n",
    "def preproc_y(y, num_classes=10):\n",
    "    if y.shape[-1] == 1:\n",
    "        y = keras.utils.to_categorical(y, num_classes)\n",
    "    return y    "
   ]
  },
  {
   "cell_type": "code",
   "execution_count": 4,
   "metadata": {},
   "outputs": [],
   "source": [
    "x_train, y_train = train\n",
    "x_test, y_test = test\n",
    "\n",
    "# Preproc the inputs\n",
    "x_train = preproc_x(x_train)\n",
    "x_test = preproc_x(x_test)\n",
    "\n",
    "# Preprc the outputs\n",
    "y_train = preproc_y(y_train)\n",
    "y_test = preproc_y(y_test)"
   ]
  },
  {
   "cell_type": "code",
   "execution_count": 5,
   "metadata": {},
   "outputs": [],
   "source": [
    "from keras.layers import Dropout\n",
    "\n",
    "def build_mlp(input_shape, output_units=10, num_neurons=[512, 256, 128], drp_ratio=0.2):\n",
    "    input_layer = keras.layers.Input(input_shape)\n",
    "    \n",
    "    for i, n_units in enumerate(num_neurons):\n",
    "        if i == 0:\n",
    "            x = keras.layers.Dense(units=n_units, \n",
    "                                   activation=\"relu\", \n",
    "                                   name=\"hidden_layer\"+str(i+1))(input_layer)\n",
    "            x = Dropout(drp_ratio)(x)\n",
    "        else:\n",
    "            x = keras.layers.Dense(units=n_units, \n",
    "                                   activation=\"relu\", \n",
    "                                   name=\"hidden_layer\"+str(i+1))(x)\n",
    "            x = Dropout(drp_ratio)(x)\n",
    "    \n",
    "    out = keras.layers.Dense(units=output_units, activation=\"softmax\", name=\"output\")(x)\n",
    "    \n",
    "    model = keras.models.Model(inputs=[input_layer], outputs=[out])\n",
    "    return model"
   ]
  },
  {
   "cell_type": "code",
   "execution_count": 6,
   "metadata": {},
   "outputs": [],
   "source": [
    "\"\"\"Code Here\n",
    "設定超參數\n",
    "\"\"\"\n",
    "LEARNING_RATE = 1e-3\n",
    "EPOCHS = 50\n",
    "BATCH_SIZE = 256\n",
    "MOMENTUM = 0.95\n",
    "Dropout_EXP = 0.25"
   ]
  },
  {
   "cell_type": "code",
   "execution_count": 9,
   "metadata": {},
   "outputs": [
    {
     "name": "stdout",
     "output_type": "stream",
     "text": [
      "_________________________________________________________________\n",
      "Layer (type)                 Output Shape              Param #   \n",
      "=================================================================\n",
      "input_3 (InputLayer)         (None, 3072)              0         \n",
      "_________________________________________________________________\n",
      "hidden_layer1 (Dense)        (None, 512)               1573376   \n",
      "_________________________________________________________________\n",
      "dropout_7 (Dropout)          (None, 512)               0         \n",
      "_________________________________________________________________\n",
      "hidden_layer2 (Dense)        (None, 256)               131328    \n",
      "_________________________________________________________________\n",
      "dropout_8 (Dropout)          (None, 256)               0         \n",
      "_________________________________________________________________\n",
      "hidden_layer3 (Dense)        (None, 128)               32896     \n",
      "_________________________________________________________________\n",
      "dropout_9 (Dropout)          (None, 128)               0         \n",
      "_________________________________________________________________\n",
      "output (Dense)               (None, 10)                1290      \n",
      "=================================================================\n",
      "Total params: 1,738,890\n",
      "Trainable params: 1,738,890\n",
      "Non-trainable params: 0\n",
      "_________________________________________________________________\n",
      "Train on 50000 samples, validate on 10000 samples\n",
      "Epoch 1/50\n",
      "50000/50000 [==============================] - 3s 58us/step - loss: 2.1913 - acc: 0.1802 - val_loss: 2.0002 - val_acc: 0.3112\n",
      "Epoch 2/50\n",
      "50000/50000 [==============================] - 2s 43us/step - loss: 2.0071 - acc: 0.2660 - val_loss: 1.8848 - val_acc: 0.3421\n",
      "Epoch 3/50\n",
      "50000/50000 [==============================] - 2s 42us/step - loss: 1.9252 - acc: 0.3047 - val_loss: 1.8230 - val_acc: 0.3620\n",
      "Epoch 4/50\n",
      "50000/50000 [==============================] - 2s 46us/step - loss: 1.8688 - acc: 0.3315 - val_loss: 1.7655 - val_acc: 0.3754\n",
      "Epoch 5/50\n",
      "50000/50000 [==============================] - 2s 42us/step - loss: 1.8293 - acc: 0.3439 - val_loss: 1.7198 - val_acc: 0.3977\n",
      "Epoch 6/50\n",
      "50000/50000 [==============================] - 2s 42us/step - loss: 1.7874 - acc: 0.3584 - val_loss: 1.6874 - val_acc: 0.4072\n",
      "Epoch 7/50\n",
      "50000/50000 [==============================] - 2s 42us/step - loss: 1.7552 - acc: 0.3717 - val_loss: 1.6548 - val_acc: 0.4193\n",
      "Epoch 8/50\n",
      "50000/50000 [==============================] - 2s 42us/step - loss: 1.7294 - acc: 0.3808 - val_loss: 1.6261 - val_acc: 0.4266\n",
      "Epoch 9/50\n",
      "50000/50000 [==============================] - 2s 44us/step - loss: 1.7090 - acc: 0.3901 - val_loss: 1.6058 - val_acc: 0.4321\n",
      "Epoch 10/50\n",
      "50000/50000 [==============================] - 2s 44us/step - loss: 1.6831 - acc: 0.4018 - val_loss: 1.5894 - val_acc: 0.4412\n",
      "Epoch 11/50\n",
      "50000/50000 [==============================] - 2s 42us/step - loss: 1.6687 - acc: 0.4052 - val_loss: 1.5719 - val_acc: 0.4452\n",
      "Epoch 12/50\n",
      "50000/50000 [==============================] - 2s 43us/step - loss: 1.6451 - acc: 0.4116 - val_loss: 1.5604 - val_acc: 0.4510\n",
      "Epoch 13/50\n",
      "50000/50000 [==============================] - 2s 43us/step - loss: 1.6282 - acc: 0.4198 - val_loss: 1.5383 - val_acc: 0.4538\n",
      "Epoch 14/50\n",
      "50000/50000 [==============================] - 2s 43us/step - loss: 1.6183 - acc: 0.4250 - val_loss: 1.5248 - val_acc: 0.4625\n",
      "Epoch 15/50\n",
      "50000/50000 [==============================] - 2s 42us/step - loss: 1.5986 - acc: 0.4308 - val_loss: 1.5115 - val_acc: 0.4641\n",
      "Epoch 16/50\n",
      "50000/50000 [==============================] - 2s 43us/step - loss: 1.5867 - acc: 0.4376 - val_loss: 1.4939 - val_acc: 0.4723\n",
      "Epoch 17/50\n",
      "50000/50000 [==============================] - 2s 44us/step - loss: 1.5761 - acc: 0.4387 - val_loss: 1.4905 - val_acc: 0.4700\n",
      "Epoch 18/50\n",
      "50000/50000 [==============================] - 2s 44us/step - loss: 1.5601 - acc: 0.4451 - val_loss: 1.4732 - val_acc: 0.4761\n",
      "Epoch 19/50\n",
      "50000/50000 [==============================] - 2s 43us/step - loss: 1.5495 - acc: 0.4496 - val_loss: 1.4724 - val_acc: 0.4758\n",
      "Epoch 20/50\n",
      "50000/50000 [==============================] - 2s 43us/step - loss: 1.5386 - acc: 0.4520 - val_loss: 1.4556 - val_acc: 0.4840\n",
      "Epoch 21/50\n",
      "50000/50000 [==============================] - 2s 45us/step - loss: 1.5270 - acc: 0.4553 - val_loss: 1.4577 - val_acc: 0.4851\n",
      "Epoch 22/50\n",
      "50000/50000 [==============================] - 2s 43us/step - loss: 1.5167 - acc: 0.4603 - val_loss: 1.4406 - val_acc: 0.4931\n",
      "Epoch 23/50\n",
      "50000/50000 [==============================] - 2s 44us/step - loss: 1.5037 - acc: 0.4642 - val_loss: 1.4296 - val_acc: 0.4924\n",
      "Epoch 24/50\n",
      "50000/50000 [==============================] - 2s 45us/step - loss: 1.4933 - acc: 0.4669 - val_loss: 1.4230 - val_acc: 0.4910\n",
      "Epoch 25/50\n",
      "50000/50000 [==============================] - 2s 45us/step - loss: 1.4859 - acc: 0.4719 - val_loss: 1.4262 - val_acc: 0.4977\n",
      "Epoch 26/50\n",
      "50000/50000 [==============================] - 2s 44us/step - loss: 1.4742 - acc: 0.4733 - val_loss: 1.4143 - val_acc: 0.4936\n",
      "Epoch 27/50\n",
      "50000/50000 [==============================] - 2s 43us/step - loss: 1.4672 - acc: 0.4760 - val_loss: 1.4074 - val_acc: 0.5014\n",
      "Epoch 28/50\n",
      "50000/50000 [==============================] - 2s 43us/step - loss: 1.4561 - acc: 0.4807 - val_loss: 1.3970 - val_acc: 0.5019\n",
      "Epoch 29/50\n",
      "50000/50000 [==============================] - 2s 43us/step - loss: 1.4461 - acc: 0.4845 - val_loss: 1.3922 - val_acc: 0.5050\n",
      "Epoch 30/50\n",
      "50000/50000 [==============================] - 2s 43us/step - loss: 1.4407 - acc: 0.4860 - val_loss: 1.3849 - val_acc: 0.5078\n",
      "Epoch 31/50\n",
      "50000/50000 [==============================] - 2s 48us/step - loss: 1.4318 - acc: 0.4878 - val_loss: 1.3862 - val_acc: 0.5078\n",
      "Epoch 32/50\n",
      "50000/50000 [==============================] - 2s 44us/step - loss: 1.4222 - acc: 0.4944 - val_loss: 1.3839 - val_acc: 0.5057\n",
      "Epoch 33/50\n",
      "50000/50000 [==============================] - 2s 46us/step - loss: 1.4091 - acc: 0.4980 - val_loss: 1.3718 - val_acc: 0.5082\n",
      "Epoch 34/50\n",
      "50000/50000 [==============================] - 2s 47us/step - loss: 1.4037 - acc: 0.4983 - val_loss: 1.3626 - val_acc: 0.5141\n",
      "Epoch 35/50\n",
      "50000/50000 [==============================] - 2s 50us/step - loss: 1.3976 - acc: 0.5017 - val_loss: 1.3654 - val_acc: 0.5145\n",
      "Epoch 36/50\n",
      "50000/50000 [==============================] - 2s 48us/step - loss: 1.3868 - acc: 0.5049 - val_loss: 1.3738 - val_acc: 0.5147\n",
      "Epoch 37/50\n",
      "50000/50000 [==============================] - 2s 42us/step - loss: 1.3835 - acc: 0.5064 - val_loss: 1.3526 - val_acc: 0.5175\n",
      "Epoch 38/50\n",
      "50000/50000 [==============================] - 2s 45us/step - loss: 1.3745 - acc: 0.5081 - val_loss: 1.3539 - val_acc: 0.5196\n",
      "Epoch 39/50\n",
      "50000/50000 [==============================] - 2s 44us/step - loss: 1.3670 - acc: 0.5136 - val_loss: 1.3492 - val_acc: 0.5197\n",
      "Epoch 40/50\n",
      "50000/50000 [==============================] - 2s 45us/step - loss: 1.3619 - acc: 0.5137 - val_loss: 1.3406 - val_acc: 0.5253\n",
      "Epoch 41/50\n",
      "50000/50000 [==============================] - 2s 43us/step - loss: 1.3563 - acc: 0.5167 - val_loss: 1.3487 - val_acc: 0.5156\n",
      "Epoch 42/50\n",
      "50000/50000 [==============================] - 2s 42us/step - loss: 1.3516 - acc: 0.5187 - val_loss: 1.3327 - val_acc: 0.5234\n",
      "Epoch 43/50\n",
      "50000/50000 [==============================] - 2s 43us/step - loss: 1.3364 - acc: 0.5241 - val_loss: 1.3317 - val_acc: 0.5264\n",
      "Epoch 44/50\n",
      "50000/50000 [==============================] - 2s 47us/step - loss: 1.3297 - acc: 0.5253 - val_loss: 1.3317 - val_acc: 0.5220\n",
      "Epoch 45/50\n",
      "50000/50000 [==============================] - 2s 45us/step - loss: 1.3283 - acc: 0.5259 - val_loss: 1.3263 - val_acc: 0.5235\n",
      "Epoch 46/50\n",
      "50000/50000 [==============================] - 2s 45us/step - loss: 1.3200 - acc: 0.5308 - val_loss: 1.3233 - val_acc: 0.5248\n",
      "Epoch 47/50\n",
      "50000/50000 [==============================] - 2s 43us/step - loss: 1.3188 - acc: 0.5298 - val_loss: 1.3297 - val_acc: 0.5269\n",
      "Epoch 48/50\n",
      "50000/50000 [==============================] - 2s 42us/step - loss: 1.3115 - acc: 0.5326 - val_loss: 1.3132 - val_acc: 0.5285\n",
      "Epoch 49/50\n",
      "50000/50000 [==============================] - 2s 44us/step - loss: 1.3053 - acc: 0.5356 - val_loss: 1.3126 - val_acc: 0.5344\n"
     ]
    },
    {
     "name": "stdout",
     "output_type": "stream",
     "text": [
      "Epoch 50/50\n",
      "50000/50000 [==============================] - 2s 49us/step - loss: 1.2989 - acc: 0.5373 - val_loss: 1.3101 - val_acc: 0.5362\n"
     ]
    }
   ],
   "source": [
    "model = build_mlp(input_shape = x_train.shape[1:], drp_ratio = Dropout_EXP)\n",
    "model.summary()\n",
    "optimizer = keras.optimizers.SGD(lr=LEARNING_RATE, nesterov=True, momentum=MOMENTUM)\n",
    "model.compile(loss=\"categorical_crossentropy\", metrics=[\"accuracy\"], optimizer=optimizer)\n",
    "\n",
    "model.fit(x_train, y_train, \n",
    "          epochs=EPOCHS, \n",
    "          batch_size=BATCH_SIZE, \n",
    "          validation_data=(x_test, y_test), \n",
    "          shuffle=True)\n",
    "\n",
    "# Collect results\n",
    "train_loss = model.history.history[\"loss\"]\n",
    "valid_loss = model.history.history[\"val_loss\"]\n",
    "train_acc = model.history.history[\"acc\"]\n",
    "valid_acc = model.history.history[\"val_acc\"]"
   ]
  },
  {
   "cell_type": "code",
   "execution_count": 10,
   "metadata": {},
   "outputs": [
    {
     "data": {
      "image/png": "[encoded data removed]",
      "text/plain": [
       "<Figure size 432x288 with 1 Axes>"
      ]
     },
     "metadata": {
      "needs_background": "light"
     },
     "output_type": "display_data"
    },
    {
     "data": {
      "image/png": "[encoded data removed]",
      "text/plain": [
       "<Figure size 432x288 with 1 Axes>"
      ]
     },
     "metadata": {
      "needs_background": "light"
     },
     "output_type": "display_data"
    }
   ],
   "source": [
    "import matplotlib.pyplot as plt\n",
    "%matplotlib inline\n",
    "\"\"\"Code Here\n",
    "將結果繪出\n",
    "\"\"\"\n",
    "plt.plot(range(len(train_loss)), train_loss, label=\"train loss\")\n",
    "plt.plot(range(len(valid_loss)), valid_loss, label=\"valid loss\")\n",
    "plt.legend()\n",
    "plt.title(\"Loss\")\n",
    "plt.show()\n",
    "\n",
    "plt.plot(range(len(train_acc)), train_acc, label=\"train accuracy\")\n",
    "plt.plot(range(len(valid_acc)), valid_acc, label=\"valid accuracy\")\n",
    "plt.legend()\n",
    "plt.title(\"Accuracy\")\n",
    "plt.show()"
   ]
  },
  {
   "cell_type": "code",
   "execution_count": null,
   "metadata": {},
   "outputs": [],
   "source": []
  }
 ],
 "metadata": {
  "kernelspec": {
   "display_name": "Python 3",
   "language": "python",
   "name": "python3"
  },
  "language_info": {
   "codemirror_mode": {
    "name": "ipython",
    "version": 3
   },
   "file_extension": ".py",
   "mimetype": "text/x-python",
   "name": "python",
   "nbconvert_exporter": "python",
   "pygments_lexer": "ipython3",
   "version": "3.6.8"
  }
 },
 "nbformat": 4,
 "nbformat_minor": 2
}
