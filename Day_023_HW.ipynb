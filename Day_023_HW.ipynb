{
 "cells": [
  {
   "cell_type": "markdown",
   "metadata": {
    "collapsed": true
   },
   "source": [
    "# 作業 : (Kaggle)鐵達尼生存預測\n",
    "https://www.kaggle.com/c/titanic"
   ]
  },
  {
   "cell_type": "markdown",
   "metadata": {},
   "source": [
    "# [作業目標]\n",
    "- 試著模仿範例寫法, 在鐵達尼生存預測中, 觀察均值編碼的效果"
   ]
  },
  {
   "cell_type": "markdown",
   "metadata": {},
   "source": [
    "# [作業重點]\n",
    "- 仿造範例, 完成標籤編碼與均值編碼搭配邏輯斯迴歸的預測\n",
    "- 觀察標籤編碼與均值編碼在特徵數量 / 邏輯斯迴歸分數 / 邏輯斯迴歸時間上, 分別有什麼影響 (In[3], Out[3], In[4], Out[4]) "
   ]
  },
  {
   "cell_type": "code",
   "execution_count": 6,
   "metadata": {},
   "outputs": [
    {
     "data": {
      "text/html": [
       "<div>\n",
       "<style scoped>\n",
       "    .dataframe tbody tr th:only-of-type {\n",
       "        vertical-align: middle;\n",
       "    }\n",
       "\n",
       "    .dataframe tbody tr th {\n",
       "        vertical-align: top;\n",
       "    }\n",
       "\n",
       "    .dataframe thead th {\n",
       "        text-align: right;\n",
       "    }\n",
       "</style>\n",
       "<table border=\"1\" class=\"dataframe\">\n",
       "  <thead>\n",
       "    <tr style=\"text-align: right;\">\n",
       "      <th></th>\n",
       "      <th>Pclass</th>\n",
       "      <th>Name</th>\n",
       "      <th>Sex</th>\n",
       "      <th>Age</th>\n",
       "      <th>SibSp</th>\n",
       "      <th>Parch</th>\n",
       "      <th>Ticket</th>\n",
       "      <th>Fare</th>\n",
       "      <th>Cabin</th>\n",
       "      <th>Embarked</th>\n",
       "    </tr>\n",
       "  </thead>\n",
       "  <tbody>\n",
       "    <tr>\n",
       "      <th>0</th>\n",
       "      <td>3</td>\n",
       "      <td>Braund, Mr. Owen Harris</td>\n",
       "      <td>male</td>\n",
       "      <td>22.0</td>\n",
       "      <td>1</td>\n",
       "      <td>0</td>\n",
       "      <td>A/5 21171</td>\n",
       "      <td>7.2500</td>\n",
       "      <td>NaN</td>\n",
       "      <td>S</td>\n",
       "    </tr>\n",
       "    <tr>\n",
       "      <th>1</th>\n",
       "      <td>1</td>\n",
       "      <td>Cumings, Mrs. John Bradley (Florence Briggs Th...</td>\n",
       "      <td>female</td>\n",
       "      <td>38.0</td>\n",
       "      <td>1</td>\n",
       "      <td>0</td>\n",
       "      <td>PC 17599</td>\n",
       "      <td>71.2833</td>\n",
       "      <td>C85</td>\n",
       "      <td>C</td>\n",
       "    </tr>\n",
       "    <tr>\n",
       "      <th>2</th>\n",
       "      <td>3</td>\n",
       "      <td>Heikkinen, Miss. Laina</td>\n",
       "      <td>female</td>\n",
       "      <td>26.0</td>\n",
       "      <td>0</td>\n",
       "      <td>0</td>\n",
       "      <td>STON/O2. 3101282</td>\n",
       "      <td>7.9250</td>\n",
       "      <td>NaN</td>\n",
       "      <td>S</td>\n",
       "    </tr>\n",
       "    <tr>\n",
       "      <th>3</th>\n",
       "      <td>1</td>\n",
       "      <td>Futrelle, Mrs. Jacques Heath (Lily May Peel)</td>\n",
       "      <td>female</td>\n",
       "      <td>35.0</td>\n",
       "      <td>1</td>\n",
       "      <td>0</td>\n",
       "      <td>113803</td>\n",
       "      <td>53.1000</td>\n",
       "      <td>C123</td>\n",
       "      <td>S</td>\n",
       "    </tr>\n",
       "    <tr>\n",
       "      <th>4</th>\n",
       "      <td>3</td>\n",
       "      <td>Allen, Mr. William Henry</td>\n",
       "      <td>male</td>\n",
       "      <td>35.0</td>\n",
       "      <td>0</td>\n",
       "      <td>0</td>\n",
       "      <td>373450</td>\n",
       "      <td>8.0500</td>\n",
       "      <td>NaN</td>\n",
       "      <td>S</td>\n",
       "    </tr>\n",
       "  </tbody>\n",
       "</table>\n",
       "</div>"
      ],
      "text/plain": [
       "   Pclass                                               Name     Sex   Age  \\\n",
       "0       3                            Braund, Mr. Owen Harris    male  22.0   \n",
       "1       1  Cumings, Mrs. John Bradley (Florence Briggs Th...  female  38.0   \n",
       "2       3                             Heikkinen, Miss. Laina  female  26.0   \n",
       "3       1       Futrelle, Mrs. Jacques Heath (Lily May Peel)  female  35.0   \n",
       "4       3                           Allen, Mr. William Henry    male  35.0   \n",
       "\n",
       "   SibSp  Parch            Ticket     Fare Cabin Embarked  \n",
       "0      1      0         A/5 21171   7.2500   NaN        S  \n",
       "1      1      0          PC 17599  71.2833   C85        C  \n",
       "2      0      0  STON/O2. 3101282   7.9250   NaN        S  \n",
       "3      1      0            113803  53.1000  C123        S  \n",
       "4      0      0            373450   8.0500   NaN        S  "
      ]
     },
     "execution_count": 6,
     "metadata": {},
     "output_type": "execute_result"
    }
   ],
   "source": [
    "# 做完特徵工程前的所有準備 (與前範例相同)\n",
    "import pandas as pd\n",
    "import numpy as np\n",
    "import copy, time\n",
    "import warnings\n",
    "warnings.filterwarnings('ignore')\n",
    "from sklearn.preprocessing import MinMaxScaler\n",
    "from sklearn.model_selection import cross_val_score\n",
    "from sklearn.linear_model import LogisticRegression\n",
    "from sklearn.preprocessing import LabelEncoder\n",
    "\n",
    "data_path = 'C:/Users/Ding-Ding/github/2nd-ML100Days/homework/data/'\n",
    "df_train = pd.read_csv(data_path + 'titanic_train.csv')\n",
    "df_test = pd.read_csv(data_path + 'titanic_test.csv')\n",
    "\n",
    "train_Y = df_train['Survived']\n",
    "ids = df_test['PassengerId']\n",
    "df_train = df_train.drop(['PassengerId', 'Survived'] , axis=1)\n",
    "df_test = df_test.drop(['PassengerId'] , axis=1)\n",
    "df = pd.concat([df_train,df_test])\n",
    "df.head()"
   ]
  },
  {
   "cell_type": "code",
   "execution_count": 7,
   "metadata": {},
   "outputs": [
    {
     "name": "stdout",
     "output_type": "stream",
     "text": [
      "5 Numeric Features : ['Name', 'Sex', 'Ticket', 'Cabin', 'Embarked']\n",
      "\n"
     ]
    },
    {
     "data": {
      "text/html": [
       "<div>\n",
       "<style scoped>\n",
       "    .dataframe tbody tr th:only-of-type {\n",
       "        vertical-align: middle;\n",
       "    }\n",
       "\n",
       "    .dataframe tbody tr th {\n",
       "        vertical-align: top;\n",
       "    }\n",
       "\n",
       "    .dataframe thead th {\n",
       "        text-align: right;\n",
       "    }\n",
       "</style>\n",
       "<table border=\"1\" class=\"dataframe\">\n",
       "  <thead>\n",
       "    <tr style=\"text-align: right;\">\n",
       "      <th></th>\n",
       "      <th>Name</th>\n",
       "      <th>Sex</th>\n",
       "      <th>Ticket</th>\n",
       "      <th>Cabin</th>\n",
       "      <th>Embarked</th>\n",
       "    </tr>\n",
       "  </thead>\n",
       "  <tbody>\n",
       "    <tr>\n",
       "      <th>0</th>\n",
       "      <td>Braund, Mr. Owen Harris</td>\n",
       "      <td>male</td>\n",
       "      <td>A/5 21171</td>\n",
       "      <td>None</td>\n",
       "      <td>S</td>\n",
       "    </tr>\n",
       "    <tr>\n",
       "      <th>1</th>\n",
       "      <td>Cumings, Mrs. John Bradley (Florence Briggs Th...</td>\n",
       "      <td>female</td>\n",
       "      <td>PC 17599</td>\n",
       "      <td>C85</td>\n",
       "      <td>C</td>\n",
       "    </tr>\n",
       "    <tr>\n",
       "      <th>2</th>\n",
       "      <td>Heikkinen, Miss. Laina</td>\n",
       "      <td>female</td>\n",
       "      <td>STON/O2. 3101282</td>\n",
       "      <td>None</td>\n",
       "      <td>S</td>\n",
       "    </tr>\n",
       "    <tr>\n",
       "      <th>3</th>\n",
       "      <td>Futrelle, Mrs. Jacques Heath (Lily May Peel)</td>\n",
       "      <td>female</td>\n",
       "      <td>113803</td>\n",
       "      <td>C123</td>\n",
       "      <td>S</td>\n",
       "    </tr>\n",
       "    <tr>\n",
       "      <th>4</th>\n",
       "      <td>Allen, Mr. William Henry</td>\n",
       "      <td>male</td>\n",
       "      <td>373450</td>\n",
       "      <td>None</td>\n",
       "      <td>S</td>\n",
       "    </tr>\n",
       "  </tbody>\n",
       "</table>\n",
       "</div>"
      ],
      "text/plain": [
       "                                                Name     Sex  \\\n",
       "0                            Braund, Mr. Owen Harris    male   \n",
       "1  Cumings, Mrs. John Bradley (Florence Briggs Th...  female   \n",
       "2                             Heikkinen, Miss. Laina  female   \n",
       "3       Futrelle, Mrs. Jacques Heath (Lily May Peel)  female   \n",
       "4                           Allen, Mr. William Henry    male   \n",
       "\n",
       "             Ticket Cabin Embarked  \n",
       "0         A/5 21171  None        S  \n",
       "1          PC 17599   C85        C  \n",
       "2  STON/O2. 3101282  None        S  \n",
       "3            113803  C123        S  \n",
       "4            373450  None        S  "
      ]
     },
     "execution_count": 7,
     "metadata": {},
     "output_type": "execute_result"
    }
   ],
   "source": [
    "#只取類別值 (object) 型欄位, 存於 object_features 中\n",
    "object_features = []\n",
    "for dtype, feature in zip(df.dtypes, df.columns):\n",
    "    if dtype == 'object':\n",
    "        object_features.append(feature)\n",
    "print(f'{len(object_features)} Numeric Features : {object_features}\\n')\n",
    "\n",
    "# 只留類別型欄位\n",
    "df = df[object_features]\n",
    "df = df.fillna('None')\n",
    "train_num = train_Y.shape[0]\n",
    "df.head()"
   ]
  },
  {
   "cell_type": "markdown",
   "metadata": {},
   "source": [
    "### 新類別均值 = (原類別均值 * 類別樣本數) + (全部總平均 * 調整因子) / 類別樣本數 + 調整因子\n",
    "\n",
    "P.S. 容易Overfitting"
   ]
  },
  {
   "cell_type": "markdown",
   "metadata": {
    "collapsed": true
   },
   "source": [
    "# 作業1\n",
    "[請仿照範例，將鐵達尼範例中的類別型特徵改用均值編碼實作一次]"
   ]
  },
  {
   "cell_type": "code",
   "execution_count": 17,
   "metadata": {},
   "outputs": [
    {
     "name": "stdout",
     "output_type": "stream",
     "text": [
      "     Pclass                                               Name     Sex   Age  \\\n",
      "0         3                            Braund, Mr. Owen Harris    male  22.0   \n",
      "1         1  Cumings, Mrs. John Bradley (Florence Briggs Th...  female  38.0   \n",
      "2         3                             Heikkinen, Miss. Laina  female  26.0   \n",
      "3         1       Futrelle, Mrs. Jacques Heath (Lily May Peel)  female  35.0   \n",
      "4         3                           Allen, Mr. William Henry    male  35.0   \n",
      "5         3                                   Moran, Mr. James    male   NaN   \n",
      "6         1                            McCarthy, Mr. Timothy J    male  54.0   \n",
      "7         3                     Palsson, Master. Gosta Leonard    male   2.0   \n",
      "8         3  Johnson, Mrs. Oscar W (Elisabeth Vilhelmina Berg)  female  27.0   \n",
      "9         2                Nasser, Mrs. Nicholas (Adele Achem)  female  14.0   \n",
      "10        3                    Sandstrom, Miss. Marguerite Rut  female   4.0   \n",
      "11        1                           Bonnell, Miss. Elizabeth  female  58.0   \n",
      "12        3                     Saundercock, Mr. William Henry    male  20.0   \n",
      "13        3                        Andersson, Mr. Anders Johan    male  39.0   \n",
      "14        3               Vestrom, Miss. Hulda Amanda Adolfina  female  14.0   \n",
      "15        2                   Hewlett, Mrs. (Mary D Kingcome)   female  55.0   \n",
      "16        3                               Rice, Master. Eugene    male   2.0   \n",
      "17        2                       Williams, Mr. Charles Eugene    male   NaN   \n",
      "18        3  Vander Planke, Mrs. Julius (Emelia Maria Vande...  female  31.0   \n",
      "19        3                            Masselmani, Mrs. Fatima  female   NaN   \n",
      "20        2                               Fynney, Mr. Joseph J    male  35.0   \n",
      "21        2                              Beesley, Mr. Lawrence    male  34.0   \n",
      "22        3                        McGowan, Miss. Anna \"Annie\"  female  15.0   \n",
      "23        1                       Sloper, Mr. William Thompson    male  28.0   \n",
      "24        3                      Palsson, Miss. Torborg Danira  female   8.0   \n",
      "25        3  Asplund, Mrs. Carl Oscar (Selma Augusta Emilia...  female  38.0   \n",
      "26        3                            Emir, Mr. Farred Chehab    male   NaN   \n",
      "27        1                     Fortune, Mr. Charles Alexander    male  19.0   \n",
      "28        3                      O'Dwyer, Miss. Ellen \"Nellie\"  female   NaN   \n",
      "29        3                                Todoroff, Mr. Lalio    male   NaN   \n",
      "..      ...                                                ...     ...   ...   \n",
      "861       2                        Giles, Mr. Frederick Edward    male  21.0   \n",
      "862       1  Swift, Mrs. Frederick Joel (Margaret Welles Ba...  female  48.0   \n",
      "863       3                  Sage, Miss. Dorothy Edith \"Dolly\"  female   NaN   \n",
      "864       2                             Gill, Mr. John William    male  24.0   \n",
      "865       2                           Bystrom, Mrs. (Karolina)  female  42.0   \n",
      "866       2                       Duran y More, Miss. Asuncion  female  27.0   \n",
      "867       1               Roebling, Mr. Washington Augustus II    male  31.0   \n",
      "868       3                        van Melkebeke, Mr. Philemon    male   NaN   \n",
      "869       3                    Johnson, Master. Harold Theodor    male   4.0   \n",
      "870       3                                  Balkic, Mr. Cerin    male  26.0   \n",
      "871       1   Beckwith, Mrs. Richard Leonard (Sallie Monypeny)  female  47.0   \n",
      "872       1                           Carlsson, Mr. Frans Olof    male  33.0   \n",
      "873       3                        Vander Cruyssen, Mr. Victor    male  47.0   \n",
      "874       2              Abelson, Mrs. Samuel (Hannah Wizosky)  female  28.0   \n",
      "875       3                   Najib, Miss. Adele Kiamie \"Jane\"  female  15.0   \n",
      "876       3                      Gustafsson, Mr. Alfred Ossian    male  20.0   \n",
      "877       3                               Petroff, Mr. Nedelio    male  19.0   \n",
      "878       3                                 Laleff, Mr. Kristo    male   NaN   \n",
      "879       1      Potter, Mrs. Thomas Jr (Lily Alexenia Wilson)  female  56.0   \n",
      "880       2       Shelley, Mrs. William (Imanita Parrish Hall)  female  25.0   \n",
      "881       3                                 Markun, Mr. Johann    male  33.0   \n",
      "882       3                       Dahlberg, Miss. Gerda Ulrika  female  22.0   \n",
      "883       2                      Banfield, Mr. Frederick James    male  28.0   \n",
      "884       3                             Sutehall, Mr. Henry Jr    male  25.0   \n",
      "885       3               Rice, Mrs. William (Margaret Norton)  female  39.0   \n",
      "886       2                              Montvila, Rev. Juozas    male  27.0   \n",
      "887       1                       Graham, Miss. Margaret Edith  female  19.0   \n",
      "888       3           Johnston, Miss. Catherine Helen \"Carrie\"  female   NaN   \n",
      "889       1                              Behr, Mr. Karl Howell    male  26.0   \n",
      "890       3                                Dooley, Mr. Patrick    male  32.0   \n",
      "\n",
      "     SibSp  Parch            Ticket      Fare        Cabin Embarked  \n",
      "0        1      0         A/5 21171    7.2500          NaN        S  \n",
      "1        1      0          PC 17599   71.2833          C85        C  \n",
      "2        0      0  STON/O2. 3101282    7.9250          NaN        S  \n",
      "3        1      0            113803   53.1000         C123        S  \n",
      "4        0      0            373450    8.0500          NaN        S  \n",
      "5        0      0            330877    8.4583          NaN        Q  \n",
      "6        0      0             17463   51.8625          E46        S  \n",
      "7        3      1            349909   21.0750          NaN        S  \n",
      "8        0      2            347742   11.1333          NaN        S  \n",
      "9        1      0            237736   30.0708          NaN        C  \n",
      "10       1      1           PP 9549   16.7000           G6        S  \n",
      "11       0      0            113783   26.5500         C103        S  \n",
      "12       0      0         A/5. 2151    8.0500          NaN        S  \n",
      "13       1      5            347082   31.2750          NaN        S  \n",
      "14       0      0            350406    7.8542          NaN        S  \n",
      "15       0      0            248706   16.0000          NaN        S  \n",
      "16       4      1            382652   29.1250          NaN        Q  \n",
      "17       0      0            244373   13.0000          NaN        S  \n",
      "18       1      0            345763   18.0000          NaN        S  \n",
      "19       0      0              2649    7.2250          NaN        C  \n",
      "20       0      0            239865   26.0000          NaN        S  \n",
      "21       0      0            248698   13.0000          D56        S  \n",
      "22       0      0            330923    8.0292          NaN        Q  \n",
      "23       0      0            113788   35.5000           A6        S  \n",
      "24       3      1            349909   21.0750          NaN        S  \n",
      "25       1      5            347077   31.3875          NaN        S  \n",
      "26       0      0              2631    7.2250          NaN        C  \n",
      "27       3      2             19950  263.0000  C23 C25 C27        S  \n",
      "28       0      0            330959    7.8792          NaN        Q  \n",
      "29       0      0            349216    7.8958          NaN        S  \n",
      "..     ...    ...               ...       ...          ...      ...  \n",
      "861      1      0             28134   11.5000          NaN        S  \n",
      "862      0      0             17466   25.9292          D17        S  \n",
      "863      8      2          CA. 2343   69.5500          NaN        S  \n",
      "864      0      0            233866   13.0000          NaN        S  \n",
      "865      0      0            236852   13.0000          NaN        S  \n",
      "866      1      0     SC/PARIS 2149   13.8583          NaN        C  \n",
      "867      0      0          PC 17590   50.4958          A24        S  \n",
      "868      0      0            345777    9.5000          NaN        S  \n",
      "869      1      1            347742   11.1333          NaN        S  \n",
      "870      0      0            349248    7.8958          NaN        S  \n",
      "871      1      1             11751   52.5542          D35        S  \n",
      "872      0      0               695    5.0000  B51 B53 B55        S  \n",
      "873      0      0            345765    9.0000          NaN        S  \n",
      "874      1      0         P/PP 3381   24.0000          NaN        C  \n",
      "875      0      0              2667    7.2250          NaN        C  \n",
      "876      0      0              7534    9.8458          NaN        S  \n",
      "877      0      0            349212    7.8958          NaN        S  \n",
      "878      0      0            349217    7.8958          NaN        S  \n",
      "879      0      1             11767   83.1583          C50        C  \n",
      "880      0      1            230433   26.0000          NaN        S  \n",
      "881      0      0            349257    7.8958          NaN        S  \n",
      "882      0      0              7552   10.5167          NaN        S  \n",
      "883      0      0  C.A./SOTON 34068   10.5000          NaN        S  \n",
      "884      0      0   SOTON/OQ 392076    7.0500          NaN        S  \n",
      "885      0      5            382652   29.1250          NaN        Q  \n",
      "886      0      0            211536   13.0000          NaN        S  \n",
      "887      0      0            112053   30.0000          B42        S  \n",
      "888      1      2        W./C. 6607   23.4500          NaN        S  \n",
      "889      0      0            111369   30.0000         C148        C  \n",
      "890      0      0            370376    7.7500          NaN        Q  \n",
      "\n",
      "[891 rows x 10 columns]\n"
     ]
    }
   ],
   "source": [
    "print(df_train)"
   ]
  },
  {
   "cell_type": "markdown",
   "metadata": {
    "collapsed": true
   },
   "source": [
    "# 作業2\n",
    "[觀察鐵達尼生存預測中，均值編碼與標籤編碼兩者比較，哪一個效果比較好? 可能的原因是什麼?]"
   ]
  },
  {
   "cell_type": "markdown",
   "metadata": {},
   "source": [
    "#### 哪一個效果比較好? \n",
    "[ 均值編碼 + 邏輯斯迴歸 ]\n",
    "#### 可能的原因是什麼?\n",
    "[ 將值平均分配 ]"
   ]
  },
  {
   "cell_type": "markdown",
   "metadata": {
    "collapsed": true
   },
   "source": [
    "#### 對照組 : 標籤編碼 + 邏輯斯迴歸"
   ]
  },
  {
   "cell_type": "code",
   "execution_count": 8,
   "metadata": {},
   "outputs": [
    {
     "name": "stdout",
     "output_type": "stream",
     "text": [
      "shape : (891, 5)\n",
      "score : 0.780004837244799\n",
      "time : 0.020977497100830078 sec\n"
     ]
    }
   ],
   "source": [
    "df_temp = pd.DataFrame()\n",
    "for c in df.columns:\n",
    "    df_temp[c] = LabelEncoder().fit_transform(df[c])\n",
    "\n",
    "train_X = df_temp[:train_num]\n",
    "estimator = LogisticRegression()\n",
    "start = time.time()\n",
    "print(f'shape : {train_X.shape}')\n",
    "print(f'score : {cross_val_score(estimator, train_X, train_Y, cv=5).mean()}')\n",
    "print(f'time : {time.time() - start} sec')"
   ]
  },
  {
   "cell_type": "markdown",
   "metadata": {
    "collapsed": true
   },
   "source": [
    "#### 均值編碼 + 邏輯斯迴歸"
   ]
  },
  {
   "cell_type": "code",
   "execution_count": 11,
   "metadata": {},
   "outputs": [
    {
     "name": "stdout",
     "output_type": "stream",
     "text": [
      "shape : (891, 5)\n",
      "score : 1.0\n",
      "time : 0.016953468322753906 sec\n"
     ]
    }
   ],
   "source": [
    "data = pd.concat([df[:train_num], train_Y], axis = 1 )\n",
    "for c in df.columns:\n",
    "    mean_df = data.groupby([c])['Survived'].mean().reset_index()\n",
    "    mean_df.columns = [c, f'{c}_mean']\n",
    "    data = pd.merge(data, mean_df, on=c, how='left')\n",
    "    data = data.drop([c] , axis=1)\n",
    "data = data.drop(['Survived'] , axis=1)\n",
    "estimator = LogisticRegression()\n",
    "start = time.time()\n",
    "print(f'shape : {train_X.shape}')\n",
    "print(f'score : {cross_val_score(estimator, data, train_Y, cv=5).mean()}')\n",
    "print(f'time : {time.time() - start} sec')"
   ]
  },
  {
   "cell_type": "code",
   "execution_count": null,
   "metadata": {},
   "outputs": [],
   "source": []
  }
 ],
 "metadata": {
  "kernelspec": {
   "display_name": "Python 3",
   "language": "python",
   "name": "python3"
  },
  "language_info": {
   "codemirror_mode": {
    "name": "ipython",
    "version": 3
   },
   "file_extension": ".py",
   "mimetype": "text/x-python",
   "name": "python",
   "nbconvert_exporter": "python",
   "pygments_lexer": "ipython3",
   "version": "3.6.8"
  }
 },
 "nbformat": 4,
 "nbformat_minor": 2
}
