{
 "cells": [
  {
   "cell_type": "markdown",
   "metadata": {},
   "source": [
    "## Work\n",
    "1. 試比較 save_best_only 與否的差異\n",
    "2. 請僅存入將 save_weights_only 設定為 True, 並嘗試 reset ipynb 並將模型與權重重新建回並預測 x_test"
   ]
  },
  {
   "cell_type": "code",
   "execution_count": 1,
   "metadata": {},
   "outputs": [
    {
     "name": "stderr",
     "output_type": "stream",
     "text": [
      "Using TensorFlow backend.\n"
     ]
    }
   ],
   "source": [
    "import os\n",
    "import keras\n",
    "\n",
    "# Disable GPU\n",
    "os.environ[\"CUDA_VISIBLE_DEVICES\"] = \"\""
   ]
  },
  {
   "cell_type": "code",
   "execution_count": 2,
   "metadata": {},
   "outputs": [],
   "source": [
    "train, test = keras.datasets.cifar10.load_data()"
   ]
  },
  {
   "cell_type": "code",
   "execution_count": 3,
   "metadata": {},
   "outputs": [],
   "source": [
    "## 資料前處理\n",
    "def preproc_x(x, flatten=True):\n",
    "    x = x / 255.\n",
    "    if flatten:\n",
    "        x = x.reshape((len(x), -1))\n",
    "    return x\n",
    "\n",
    "def preproc_y(y, num_classes=10):\n",
    "    if y.shape[-1] == 1:\n",
    "        y = keras.utils.to_categorical(y, num_classes)\n",
    "    return y    "
   ]
  },
  {
   "cell_type": "code",
   "execution_count": 4,
   "metadata": {},
   "outputs": [],
   "source": [
    "x_train, y_train = train\n",
    "x_test, y_test = test\n",
    "\n",
    "# Preproc the inputs\n",
    "x_train = preproc_x(x_train)\n",
    "x_test = preproc_x(x_test)\n",
    "\n",
    "# Preprc the outputs\n",
    "y_train = preproc_y(y_train)\n",
    "y_test = preproc_y(y_test)"
   ]
  },
  {
   "cell_type": "code",
   "execution_count": 6,
   "metadata": {},
   "outputs": [],
   "source": [
    "from keras.layers import BatchNormalization\n",
    "\n",
    "\"\"\"\n",
    "建立神經網路，並加入 BN layer\n",
    "\"\"\"\n",
    "def build_mlp(input_shape, output_units=10, num_neurons=[512, 256, 128]):\n",
    "    input_layer = keras.layers.Input(input_shape)\n",
    "    \n",
    "    for i, n_units in enumerate(num_neurons):\n",
    "        if i == 0:\n",
    "            x = keras.layers.Dense(units=n_units, \n",
    "                                   activation=\"relu\", \n",
    "                                   name=\"hidden_layer\"+str(i+1))(input_layer)\n",
    "            x = BatchNormalization()(x)\n",
    "        else:\n",
    "            x = keras.layers.Dense(units=n_units, \n",
    "                                   activation=\"relu\", \n",
    "                                   name=\"hidden_layer\"+str(i+1))(x)\n",
    "            x = BatchNormalization()(x)\n",
    "    \n",
    "    out = keras.layers.Dense(units=output_units, activation=\"softmax\", name=\"output\")(x)\n",
    "    \n",
    "    model = keras.models.Model(inputs=[input_layer], outputs=[out])\n",
    "    return model"
   ]
  },
  {
   "cell_type": "code",
   "execution_count": 7,
   "metadata": {},
   "outputs": [],
   "source": [
    "## 超參數設定\n",
    "LEARNING_RATE = 1e-3\n",
    "EPOCHS = 50\n",
    "BATCH_SIZE = 1024\n",
    "MOMENTUM = 0.95"
   ]
  },
  {
   "cell_type": "markdown",
   "metadata": {},
   "source": [
    "# save_best_only=True"
   ]
  },
  {
   "cell_type": "code",
   "execution_count": 8,
   "metadata": {},
   "outputs": [
    {
     "name": "stderr",
     "output_type": "stream",
     "text": [
      "WARNING: Logging before flag parsing goes to stderr.\n",
      "W0723 16:28:40.665632  7752 deprecation_wrapper.py:119] From c:\\python36\\lib\\site-packages\\keras\\backend\\tensorflow_backend.py:74: The name tf.get_default_graph is deprecated. Please use tf.compat.v1.get_default_graph instead.\n",
      "\n",
      "W0723 16:28:40.680623  7752 deprecation_wrapper.py:119] From c:\\python36\\lib\\site-packages\\keras\\backend\\tensorflow_backend.py:517: The name tf.placeholder is deprecated. Please use tf.compat.v1.placeholder instead.\n",
      "\n",
      "W0723 16:28:40.683584  7752 deprecation_wrapper.py:119] From c:\\python36\\lib\\site-packages\\keras\\backend\\tensorflow_backend.py:4138: The name tf.random_uniform is deprecated. Please use tf.random.uniform instead.\n",
      "\n",
      "W0723 16:28:40.748439  7752 deprecation_wrapper.py:119] From c:\\python36\\lib\\site-packages\\keras\\backend\\tensorflow_backend.py:133: The name tf.placeholder_with_default is deprecated. Please use tf.compat.v1.placeholder_with_default instead.\n",
      "\n",
      "W0723 16:28:40.953860  7752 deprecation_wrapper.py:119] From c:\\python36\\lib\\site-packages\\keras\\optimizers.py:790: The name tf.train.Optimizer is deprecated. Please use tf.compat.v1.train.Optimizer instead.\n",
      "\n",
      "W0723 16:28:40.958847  7752 deprecation_wrapper.py:119] From c:\\python36\\lib\\site-packages\\keras\\backend\\tensorflow_backend.py:3295: The name tf.log is deprecated. Please use tf.math.log instead.\n",
      "\n",
      "W0723 16:28:41.032166  7752 deprecation.py:323] From c:\\python36\\lib\\site-packages\\tensorflow\\python\\ops\\math_grad.py:1250: add_dispatch_support.<locals>.wrapper (from tensorflow.python.ops.array_ops) is deprecated and will be removed in a future version.\n",
      "Instructions for updating:\n",
      "Use tf.where in 2.0, which has the same broadcast rule as np.where\n"
     ]
    },
    {
     "name": "stdout",
     "output_type": "stream",
     "text": [
      "_________________________________________________________________\n",
      "Layer (type)                 Output Shape              Param #   \n",
      "=================================================================\n",
      "input_1 (InputLayer)         (None, 3072)              0         \n",
      "_________________________________________________________________\n",
      "hidden_layer1 (Dense)        (None, 512)               1573376   \n",
      "_________________________________________________________________\n",
      "batch_normalization_1 (Batch (None, 512)               2048      \n",
      "_________________________________________________________________\n",
      "hidden_layer2 (Dense)        (None, 256)               131328    \n",
      "_________________________________________________________________\n",
      "batch_normalization_2 (Batch (None, 256)               1024      \n",
      "_________________________________________________________________\n",
      "hidden_layer3 (Dense)        (None, 128)               32896     \n",
      "_________________________________________________________________\n",
      "batch_normalization_3 (Batch (None, 128)               512       \n",
      "_________________________________________________________________\n",
      "output (Dense)               (None, 10)                1290      \n",
      "=================================================================\n",
      "Total params: 1,742,474\n",
      "Trainable params: 1,740,682\n",
      "Non-trainable params: 1,792\n",
      "_________________________________________________________________\n",
      "Train on 50000 samples, validate on 10000 samples\n",
      "Epoch 1/50\n",
      "50000/50000 [==============================] - 5s 92us/step - loss: 2.1973 - acc: 0.2726 - val_loss: 2.1118 - val_acc: 0.3094\n",
      "Epoch 2/50\n",
      "50000/50000 [==============================] - 2s 34us/step - loss: 1.7465 - acc: 0.3912 - val_loss: 1.8710 - val_acc: 0.3695\n",
      "Epoch 3/50\n",
      "50000/50000 [==============================] - 2s 34us/step - loss: 1.6217 - acc: 0.4333 - val_loss: 1.6940 - val_acc: 0.4141\n",
      "Epoch 4/50\n",
      "50000/50000 [==============================] - 2s 35us/step - loss: 1.5453 - acc: 0.4587 - val_loss: 1.6319 - val_acc: 0.4304\n",
      "Epoch 5/50\n",
      "50000/50000 [==============================] - 2s 34us/step - loss: 1.4904 - acc: 0.4768 - val_loss: 1.5849 - val_acc: 0.4411\n",
      "Epoch 6/50\n",
      "50000/50000 [==============================] - 2s 33us/step - loss: 1.4444 - acc: 0.4942 - val_loss: 1.5650 - val_acc: 0.4477\n",
      "Epoch 7/50\n",
      "50000/50000 [==============================] - 2s 35us/step - loss: 1.4039 - acc: 0.5095 - val_loss: 1.5461 - val_acc: 0.4592\n",
      "Epoch 8/50\n",
      "50000/50000 [==============================] - 2s 33us/step - loss: 1.3682 - acc: 0.5227 - val_loss: 1.5227 - val_acc: 0.4661\n",
      "Epoch 9/50\n",
      "50000/50000 [==============================] - 2s 34us/step - loss: 1.3370 - acc: 0.5336 - val_loss: 1.5363 - val_acc: 0.4644\n",
      "Epoch 10/50\n",
      "50000/50000 [==============================] - 2s 37us/step - loss: 1.3078 - acc: 0.5452 - val_loss: 1.5157 - val_acc: 0.4689\n",
      "Epoch 11/50\n",
      "50000/50000 [==============================] - 2s 33us/step - loss: 1.2795 - acc: 0.5554 - val_loss: 1.4891 - val_acc: 0.4796\n",
      "Epoch 12/50\n",
      "50000/50000 [==============================] - 2s 33us/step - loss: 1.2521 - acc: 0.5662 - val_loss: 1.4764 - val_acc: 0.4841\n",
      "Epoch 13/50\n",
      "50000/50000 [==============================] - 2s 34us/step - loss: 1.2275 - acc: 0.5750 - val_loss: 1.4822 - val_acc: 0.4759\n",
      "Epoch 14/50\n",
      "50000/50000 [==============================] - 2s 34us/step - loss: 1.2026 - acc: 0.5839 - val_loss: 1.4683 - val_acc: 0.4897\n",
      "Epoch 15/50\n",
      "50000/50000 [==============================] - 2s 33us/step - loss: 1.1771 - acc: 0.5948 - val_loss: 1.4762 - val_acc: 0.4885\n",
      "Epoch 16/50\n",
      "50000/50000 [==============================] - 2s 35us/step - loss: 1.1560 - acc: 0.6032 - val_loss: 1.4653 - val_acc: 0.4852\n",
      "Epoch 17/50\n",
      "50000/50000 [==============================] - 2s 32us/step - loss: 1.1320 - acc: 0.6115 - val_loss: 1.4633 - val_acc: 0.4814\n",
      "Epoch 18/50\n",
      "50000/50000 [==============================] - 2s 32us/step - loss: 1.1101 - acc: 0.6210 - val_loss: 1.4469 - val_acc: 0.4932\n",
      "Epoch 19/50\n",
      "50000/50000 [==============================] - 2s 34us/step - loss: 1.0866 - acc: 0.6279 - val_loss: 1.4495 - val_acc: 0.4911\n",
      "Epoch 20/50\n",
      "50000/50000 [==============================] - 2s 32us/step - loss: 1.0637 - acc: 0.6375 - val_loss: 1.4601 - val_acc: 0.4911\n",
      "Epoch 21/50\n",
      "50000/50000 [==============================] - 2s 32us/step - loss: 1.0454 - acc: 0.6452 - val_loss: 1.4519 - val_acc: 0.4940\n",
      "Epoch 22/50\n",
      "50000/50000 [==============================] - 2s 34us/step - loss: 1.0239 - acc: 0.6529 - val_loss: 1.4636 - val_acc: 0.4873\n",
      "Epoch 23/50\n",
      "50000/50000 [==============================] - 2s 33us/step - loss: 1.0021 - acc: 0.6610 - val_loss: 1.4509 - val_acc: 0.4957\n",
      "Epoch 24/50\n",
      "50000/50000 [==============================] - 2s 32us/step - loss: 0.9829 - acc: 0.6672 - val_loss: 1.4627 - val_acc: 0.4923\n",
      "Epoch 25/50\n",
      "50000/50000 [==============================] - 2s 33us/step - loss: 0.9629 - acc: 0.6767 - val_loss: 1.4818 - val_acc: 0.4880\n",
      "Epoch 26/50\n",
      "50000/50000 [==============================] - 2s 33us/step - loss: 0.9408 - acc: 0.6849 - val_loss: 1.4631 - val_acc: 0.4966\n",
      "Epoch 27/50\n",
      "50000/50000 [==============================] - 2s 32us/step - loss: 0.9208 - acc: 0.6918 - val_loss: 1.4759 - val_acc: 0.4955\n",
      "Epoch 28/50\n",
      "50000/50000 [==============================] - 2s 34us/step - loss: 0.8996 - acc: 0.6993 - val_loss: 1.4732 - val_acc: 0.4915\n",
      "Epoch 29/50\n",
      "50000/50000 [==============================] - 2s 33us/step - loss: 0.8795 - acc: 0.7084 - val_loss: 1.4742 - val_acc: 0.4982\n",
      "Epoch 30/50\n",
      "50000/50000 [==============================] - 2s 32us/step - loss: 0.8608 - acc: 0.7172 - val_loss: 1.4908 - val_acc: 0.4935\n",
      "Epoch 31/50\n",
      "50000/50000 [==============================] - 2s 33us/step - loss: 0.8409 - acc: 0.7240 - val_loss: 1.5113 - val_acc: 0.4888\n",
      "Epoch 32/50\n",
      "50000/50000 [==============================] - 2s 33us/step - loss: 0.8220 - acc: 0.7321 - val_loss: 1.4945 - val_acc: 0.4929\n",
      "Epoch 33/50\n",
      "50000/50000 [==============================] - 2s 33us/step - loss: 0.8033 - acc: 0.7393 - val_loss: 1.5124 - val_acc: 0.4906\n",
      "Epoch 34/50\n",
      "50000/50000 [==============================] - 2s 33us/step - loss: 0.7817 - acc: 0.7496 - val_loss: 1.5173 - val_acc: 0.4904\n",
      "Epoch 35/50\n",
      "50000/50000 [==============================] - 2s 33us/step - loss: 0.7612 - acc: 0.7553 - val_loss: 1.5198 - val_acc: 0.4944\n",
      "Epoch 36/50\n",
      "50000/50000 [==============================] - 2s 33us/step - loss: 0.7425 - acc: 0.7634 - val_loss: 1.5308 - val_acc: 0.4944\n",
      "Epoch 37/50\n",
      "50000/50000 [==============================] - 2s 33us/step - loss: 0.7257 - acc: 0.7678 - val_loss: 1.5457 - val_acc: 0.4912\n",
      "Epoch 38/50\n",
      "50000/50000 [==============================] - 2s 34us/step - loss: 0.7066 - acc: 0.7768 - val_loss: 1.5449 - val_acc: 0.4903\n",
      "Epoch 39/50\n",
      "50000/50000 [==============================] - 2s 32us/step - loss: 0.6886 - acc: 0.7837 - val_loss: 1.5599 - val_acc: 0.4916\n",
      "Epoch 40/50\n",
      "50000/50000 [==============================] - 2s 33us/step - loss: 0.6696 - acc: 0.7905 - val_loss: 1.5779 - val_acc: 0.4889\n",
      "Epoch 41/50\n",
      "50000/50000 [==============================] - 2s 34us/step - loss: 0.6512 - acc: 0.8002 - val_loss: 1.5863 - val_acc: 0.4939\n",
      "Epoch 42/50\n",
      "50000/50000 [==============================] - 2s 32us/step - loss: 0.6343 - acc: 0.8064 - val_loss: 1.5832 - val_acc: 0.4909\n",
      "Epoch 43/50\n",
      "50000/50000 [==============================] - 2s 34us/step - loss: 0.6145 - acc: 0.8151 - val_loss: 1.6115 - val_acc: 0.4820\n",
      "Epoch 44/50\n",
      "50000/50000 [==============================] - 2s 33us/step - loss: 0.5984 - acc: 0.8221 - val_loss: 1.5987 - val_acc: 0.4893\n",
      "Epoch 45/50\n",
      "50000/50000 [==============================] - 2s 32us/step - loss: 0.5792 - acc: 0.8291 - val_loss: 1.6241 - val_acc: 0.4873\n",
      "Epoch 46/50\n",
      "50000/50000 [==============================] - 2s 36us/step - loss: 0.5634 - acc: 0.8348 - val_loss: 1.6485 - val_acc: 0.4892\n",
      "Epoch 47/50\n",
      "50000/50000 [==============================] - 2s 34us/step - loss: 0.5453 - acc: 0.8410 - val_loss: 1.6824 - val_acc: 0.4827\n",
      "Epoch 48/50\n",
      "50000/50000 [==============================] - 2s 33us/step - loss: 0.5294 - acc: 0.8470 - val_loss: 1.6797 - val_acc: 0.4828\n",
      "Epoch 49/50\n",
      "50000/50000 [==============================] - 2s 33us/step - loss: 0.5099 - acc: 0.8566 - val_loss: 1.6764 - val_acc: 0.4854\n"
     ]
    },
    {
     "name": "stdout",
     "output_type": "stream",
     "text": [
      "Epoch 50/50\n",
      "50000/50000 [==============================] - 2s 33us/step - loss: 0.4947 - acc: 0.8636 - val_loss: 1.7060 - val_acc: 0.4847\n",
      "10000/10000 [==============================] - 1s 56us/step\n"
     ]
    }
   ],
   "source": [
    "\"\"\"\n",
    "# 載入 Callbacks, 並將監控目標設為 validation loss, 且只存最佳參數時的模型\n",
    "\"\"\"\n",
    "from keras.callbacks import ModelCheckpoint\n",
    "\n",
    "model_ckpt = ModelCheckpoint(filepath=\"./tmp.h5\", \n",
    "                             monitor=\"val_loss\", \n",
    "                             save_best_only=True)\n",
    "\n",
    "model = build_mlp(input_shape=x_train.shape[1:])\n",
    "model.summary()\n",
    "optimizer = keras.optimizers.SGD(lr=LEARNING_RATE, nesterov=True, momentum=MOMENTUM)\n",
    "model.compile(loss=\"categorical_crossentropy\", metrics=[\"accuracy\"], optimizer=optimizer)\n",
    "\n",
    "model.fit(x_train, y_train, \n",
    "          epochs=EPOCHS, \n",
    "          batch_size=BATCH_SIZE, \n",
    "          validation_data=(x_test, y_test), \n",
    "          shuffle=True,\n",
    "          callbacks=[model_ckpt]\n",
    "         )\n",
    "\n",
    "# Collect results\n",
    "train_loss = model.history.history[\"loss\"]\n",
    "valid_loss = model.history.history[\"val_loss\"]\n",
    "train_acc = model.history.history[\"acc\"]\n",
    "valid_acc = model.history.history[\"val_acc\"]\n",
    "\n",
    "# Load back\n",
    "model = keras.models.load_model(\"./tmp.h5\")\n",
    "loss_loadback, acc_loadback = model.evaluate(x_test, y_test)"
   ]
  },
  {
   "cell_type": "code",
   "execution_count": 9,
   "metadata": {
    "scrolled": true
   },
   "outputs": [
    {
     "data": {
      "image/png": "[encoded data removed]",
      "text/plain": [
       "<Figure size 432x288 with 1 Axes>"
      ]
     },
     "metadata": {
      "needs_background": "light"
     },
     "output_type": "display_data"
    },
    {
     "data": {
      "image/png": "[encoded data removed]",
      "text/plain": [
       "<Figure size 432x288 with 1 Axes>"
      ]
     },
     "metadata": {
      "needs_background": "light"
     },
     "output_type": "display_data"
    }
   ],
   "source": [
    "import matplotlib.pyplot as plt\n",
    "%matplotlib inline\n",
    "\n",
    "plt.plot(range(len(train_loss)), train_loss, label=\"train loss\")\n",
    "plt.plot(range(len(valid_loss)), valid_loss, label=\"valid loss\")\n",
    "plt.hlines(y=loss_loadback, xmin=0, xmax=len(train_loss), colors='r', linestyles='--')\n",
    "plt.legend()\n",
    "plt.title(\"Loss\")\n",
    "plt.show()\n",
    "\n",
    "plt.plot(range(len(train_acc)), train_acc, label=\"train accuracy\")\n",
    "plt.plot(range(len(valid_acc)), valid_acc, label=\"valid accuracy\")\n",
    "plt.hlines(y=acc_loadback, xmin=0, xmax=len(train_loss), colors='r', linestyles='--')\n",
    "plt.legend()\n",
    "plt.title(\"Accuracy\")\n",
    "plt.show()"
   ]
  },
  {
   "cell_type": "markdown",
   "metadata": {},
   "source": [
    "# save_weights_only=True"
   ]
  },
  {
   "cell_type": "code",
   "execution_count": 11,
   "metadata": {},
   "outputs": [
    {
     "name": "stdout",
     "output_type": "stream",
     "text": [
      "_________________________________________________________________\n",
      "Layer (type)                 Output Shape              Param #   \n",
      "=================================================================\n",
      "input_3 (InputLayer)         (None, 3072)              0         \n",
      "_________________________________________________________________\n",
      "hidden_layer1 (Dense)        (None, 512)               1573376   \n",
      "_________________________________________________________________\n",
      "batch_normalization_7 (Batch (None, 512)               2048      \n",
      "_________________________________________________________________\n",
      "hidden_layer2 (Dense)        (None, 256)               131328    \n",
      "_________________________________________________________________\n",
      "batch_normalization_8 (Batch (None, 256)               1024      \n",
      "_________________________________________________________________\n",
      "hidden_layer3 (Dense)        (None, 128)               32896     \n",
      "_________________________________________________________________\n",
      "batch_normalization_9 (Batch (None, 128)               512       \n",
      "_________________________________________________________________\n",
      "output (Dense)               (None, 10)                1290      \n",
      "=================================================================\n",
      "Total params: 1,742,474\n",
      "Trainable params: 1,740,682\n",
      "Non-trainable params: 1,792\n",
      "_________________________________________________________________\n",
      "Train on 50000 samples, validate on 10000 samples\n",
      "Epoch 1/50\n",
      "50000/50000 [==============================] - 3s 68us/step - loss: 2.1978 - acc: 0.2695 - val_loss: 2.1576 - val_acc: 0.3129\n",
      "Epoch 2/50\n",
      "50000/50000 [==============================] - 2s 34us/step - loss: 1.7281 - acc: 0.3951 - val_loss: 1.7985 - val_acc: 0.3786\n",
      "Epoch 3/50\n",
      "50000/50000 [==============================] - 2s 33us/step - loss: 1.6097 - acc: 0.4335 - val_loss: 1.6777 - val_acc: 0.4068\n",
      "Epoch 4/50\n",
      "50000/50000 [==============================] - 2s 34us/step - loss: 1.5399 - acc: 0.4595 - val_loss: 1.6173 - val_acc: 0.4279\n",
      "Epoch 5/50\n",
      "50000/50000 [==============================] - 2s 34us/step - loss: 1.4868 - acc: 0.4791 - val_loss: 1.5817 - val_acc: 0.4437\n",
      "Epoch 6/50\n",
      "50000/50000 [==============================] - 2s 34us/step - loss: 1.4425 - acc: 0.4949 - val_loss: 1.5580 - val_acc: 0.4492\n",
      "Epoch 7/50\n",
      "50000/50000 [==============================] - 2s 34us/step - loss: 1.4036 - acc: 0.5096 - val_loss: 1.5385 - val_acc: 0.4564\n",
      "Epoch 8/50\n",
      "50000/50000 [==============================] - 2s 34us/step - loss: 1.3697 - acc: 0.5227 - val_loss: 1.5328 - val_acc: 0.4557\n",
      "Epoch 9/50\n",
      "50000/50000 [==============================] - 2s 34us/step - loss: 1.3390 - acc: 0.5343 - val_loss: 1.5104 - val_acc: 0.4647\n",
      "Epoch 10/50\n",
      "50000/50000 [==============================] - 2s 33us/step - loss: 1.3074 - acc: 0.5462 - val_loss: 1.4961 - val_acc: 0.4687\n",
      "Epoch 11/50\n",
      "50000/50000 [==============================] - 2s 33us/step - loss: 1.2813 - acc: 0.5553 - val_loss: 1.4824 - val_acc: 0.4779\n",
      "Epoch 12/50\n",
      "50000/50000 [==============================] - 2s 33us/step - loss: 1.2541 - acc: 0.5661 - val_loss: 1.4955 - val_acc: 0.4682\n",
      "Epoch 13/50\n",
      "50000/50000 [==============================] - 2s 33us/step - loss: 1.2292 - acc: 0.5754 - val_loss: 1.4702 - val_acc: 0.4819\n",
      "Epoch 14/50\n",
      "50000/50000 [==============================] - 2s 33us/step - loss: 1.2034 - acc: 0.5846 - val_loss: 1.4634 - val_acc: 0.4846\n",
      "Epoch 15/50\n",
      "50000/50000 [==============================] - 2s 33us/step - loss: 1.1802 - acc: 0.5929 - val_loss: 1.4578 - val_acc: 0.4895\n",
      "Epoch 16/50\n",
      "50000/50000 [==============================] - 2s 33us/step - loss: 1.1579 - acc: 0.6009 - val_loss: 1.4681 - val_acc: 0.4861\n",
      "Epoch 17/50\n",
      "50000/50000 [==============================] - 2s 33us/step - loss: 1.1347 - acc: 0.6110 - val_loss: 1.4482 - val_acc: 0.4909\n",
      "Epoch 18/50\n",
      "50000/50000 [==============================] - 2s 33us/step - loss: 1.1119 - acc: 0.6186 - val_loss: 1.4618 - val_acc: 0.4933\n",
      "Epoch 19/50\n",
      "50000/50000 [==============================] - 2s 33us/step - loss: 1.0908 - acc: 0.6287 - val_loss: 1.4535 - val_acc: 0.4936\n",
      "Epoch 20/50\n",
      "50000/50000 [==============================] - 2s 33us/step - loss: 1.0689 - acc: 0.6363 - val_loss: 1.4494 - val_acc: 0.4925\n",
      "Epoch 21/50\n",
      "50000/50000 [==============================] - 2s 33us/step - loss: 1.0518 - acc: 0.6416 - val_loss: 1.4562 - val_acc: 0.4908\n",
      "Epoch 22/50\n",
      "50000/50000 [==============================] - 2s 33us/step - loss: 1.0290 - acc: 0.6501 - val_loss: 1.4561 - val_acc: 0.4921\n",
      "Epoch 23/50\n",
      "50000/50000 [==============================] - 2s 37us/step - loss: 1.0068 - acc: 0.6603 - val_loss: 1.4519 - val_acc: 0.4984\n",
      "Epoch 24/50\n",
      "50000/50000 [==============================] - 2s 34us/step - loss: 0.9854 - acc: 0.6684 - val_loss: 1.4524 - val_acc: 0.4947\n",
      "Epoch 25/50\n",
      "50000/50000 [==============================] - 2s 33us/step - loss: 0.9643 - acc: 0.6760 - val_loss: 1.4537 - val_acc: 0.4933\n",
      "Epoch 26/50\n",
      "50000/50000 [==============================] - 2s 33us/step - loss: 0.9440 - acc: 0.6847 - val_loss: 1.4669 - val_acc: 0.4943\n",
      "Epoch 27/50\n",
      "50000/50000 [==============================] - 2s 33us/step - loss: 0.9254 - acc: 0.6897 - val_loss: 1.4943 - val_acc: 0.4911\n",
      "Epoch 28/50\n",
      "50000/50000 [==============================] - 2s 34us/step - loss: 0.9062 - acc: 0.6988 - val_loss: 1.4784 - val_acc: 0.4890\n",
      "Epoch 29/50\n",
      "50000/50000 [==============================] - 2s 33us/step - loss: 0.8857 - acc: 0.7063 - val_loss: 1.4726 - val_acc: 0.4970\n",
      "Epoch 30/50\n",
      "50000/50000 [==============================] - 2s 33us/step - loss: 0.8668 - acc: 0.7128 - val_loss: 1.4831 - val_acc: 0.4969\n",
      "Epoch 31/50\n",
      "50000/50000 [==============================] - 2s 33us/step - loss: 0.8475 - acc: 0.7207 - val_loss: 1.4845 - val_acc: 0.4910\n",
      "Epoch 32/50\n",
      "50000/50000 [==============================] - 2s 33us/step - loss: 0.8258 - acc: 0.7295 - val_loss: 1.4896 - val_acc: 0.4940\n",
      "Epoch 33/50\n",
      "50000/50000 [==============================] - 2s 33us/step - loss: 0.8069 - acc: 0.7368 - val_loss: 1.5004 - val_acc: 0.4946\n",
      "Epoch 34/50\n",
      "50000/50000 [==============================] - 2s 33us/step - loss: 0.7879 - acc: 0.7447 - val_loss: 1.5057 - val_acc: 0.4932\n",
      "Epoch 35/50\n",
      "50000/50000 [==============================] - 2s 33us/step - loss: 0.7711 - acc: 0.7499 - val_loss: 1.5126 - val_acc: 0.4963\n",
      "Epoch 36/50\n",
      "50000/50000 [==============================] - 2s 33us/step - loss: 0.7522 - acc: 0.7583 - val_loss: 1.5257 - val_acc: 0.4954\n",
      "Epoch 37/50\n",
      "50000/50000 [==============================] - 2s 33us/step - loss: 0.7328 - acc: 0.7666 - val_loss: 1.5411 - val_acc: 0.4912\n",
      "Epoch 38/50\n",
      "50000/50000 [==============================] - 2s 33us/step - loss: 0.7147 - acc: 0.7732 - val_loss: 1.5535 - val_acc: 0.4948\n",
      "Epoch 39/50\n",
      "50000/50000 [==============================] - 2s 33us/step - loss: 0.6965 - acc: 0.7794 - val_loss: 1.5369 - val_acc: 0.4947\n",
      "Epoch 40/50\n",
      "50000/50000 [==============================] - 2s 33us/step - loss: 0.6764 - acc: 0.7882 - val_loss: 1.5791 - val_acc: 0.4906\n",
      "Epoch 41/50\n",
      "50000/50000 [==============================] - 2s 33us/step - loss: 0.6608 - acc: 0.7942 - val_loss: 1.5724 - val_acc: 0.4872\n",
      "Epoch 42/50\n",
      "50000/50000 [==============================] - 2s 33us/step - loss: 0.6425 - acc: 0.8013 - val_loss: 1.5858 - val_acc: 0.4909\n",
      "Epoch 43/50\n",
      "50000/50000 [==============================] - 2s 33us/step - loss: 0.6240 - acc: 0.8088 - val_loss: 1.5806 - val_acc: 0.4919\n",
      "Epoch 44/50\n",
      "50000/50000 [==============================] - 2s 33us/step - loss: 0.6049 - acc: 0.8171 - val_loss: 1.5968 - val_acc: 0.4893\n",
      "Epoch 45/50\n",
      "50000/50000 [==============================] - 2s 33us/step - loss: 0.5898 - acc: 0.8221 - val_loss: 1.6099 - val_acc: 0.4915\n",
      "Epoch 46/50\n",
      "50000/50000 [==============================] - 2s 33us/step - loss: 0.5724 - acc: 0.8295 - val_loss: 1.6309 - val_acc: 0.4924\n",
      "Epoch 47/50\n",
      "50000/50000 [==============================] - 2s 33us/step - loss: 0.5547 - acc: 0.8374 - val_loss: 1.6499 - val_acc: 0.4854\n",
      "Epoch 48/50\n",
      "50000/50000 [==============================] - 2s 33us/step - loss: 0.5383 - acc: 0.8440 - val_loss: 1.6424 - val_acc: 0.4869\n",
      "Epoch 49/50\n",
      "50000/50000 [==============================] - 2s 33us/step - loss: 0.5234 - acc: 0.8485 - val_loss: 1.6696 - val_acc: 0.4865\n"
     ]
    },
    {
     "name": "stdout",
     "output_type": "stream",
     "text": [
      "Epoch 50/50\n",
      "50000/50000 [==============================] - 2s 32us/step - loss: 0.5060 - acc: 0.8549 - val_loss: 1.6738 - val_acc: 0.4883\n",
      "10000/10000 [==============================] - 1s 66us/step\n"
     ]
    }
   ],
   "source": [
    "\"\"\"\n",
    "# 載入 Callbacks, 並將監控目標設為 validation loss, 且只存最佳參數時的模型\n",
    "\"\"\"\n",
    "from keras.callbacks import ModelCheckpoint\n",
    "\n",
    "model_ckpt = ModelCheckpoint(filepath=\"./tmp.h5\", \n",
    "                             monitor=\"val_loss\", \n",
    "                             save_best_only=False)\n",
    "\n",
    "model = build_mlp(input_shape=x_train.shape[1:])\n",
    "model.summary()\n",
    "optimizer = keras.optimizers.SGD(lr=LEARNING_RATE, nesterov=True, momentum=MOMENTUM)\n",
    "model.compile(loss=\"categorical_crossentropy\", metrics=[\"accuracy\"], optimizer=optimizer)\n",
    "\n",
    "model.fit(x_train, y_train, \n",
    "          epochs=EPOCHS, \n",
    "          batch_size=BATCH_SIZE, \n",
    "          validation_data=(x_test, y_test), \n",
    "          shuffle=True,\n",
    "          callbacks=[model_ckpt]\n",
    "         )\n",
    "\n",
    "# Collect results\n",
    "train_loss = model.history.history[\"loss\"]\n",
    "valid_loss = model.history.history[\"val_loss\"]\n",
    "train_acc = model.history.history[\"acc\"]\n",
    "valid_acc = model.history.history[\"val_acc\"]\n",
    "\n",
    "# Load back\n",
    "model = keras.models.load_model(\"./tmp.h5\")\n",
    "loss_loadback, acc_loadback = model.evaluate(x_test, y_test)"
   ]
  },
  {
   "cell_type": "code",
   "execution_count": 12,
   "metadata": {},
   "outputs": [
    {
     "data": {
      "image/png": "[encoded data removed]",
      "text/plain": [
       "<Figure size 432x288 with 1 Axes>"
      ]
     },
     "metadata": {
      "needs_background": "light"
     },
     "output_type": "display_data"
    },
    {
     "data": {
      "image/png": "[encoded data removed]",
      "text/plain": [
       "<Figure size 432x288 with 1 Axes>"
      ]
     },
     "metadata": {
      "needs_background": "light"
     },
     "output_type": "display_data"
    }
   ],
   "source": [
    "import matplotlib.pyplot as plt\n",
    "%matplotlib inline\n",
    "\n",
    "plt.plot(range(len(train_loss)), train_loss, label=\"train loss\")\n",
    "plt.plot(range(len(valid_loss)), valid_loss, label=\"valid loss\")\n",
    "plt.hlines(y=loss_loadback, xmin=0, xmax=len(train_loss), colors='r', linestyles='--')\n",
    "plt.legend()\n",
    "plt.title(\"Loss\")\n",
    "plt.show()\n",
    "\n",
    "plt.plot(range(len(train_acc)), train_acc, label=\"train accuracy\")\n",
    "plt.plot(range(len(valid_acc)), valid_acc, label=\"valid accuracy\")\n",
    "plt.hlines(y=acc_loadback, xmin=0, xmax=len(train_loss), colors='r', linestyles='--')\n",
    "plt.legend()\n",
    "plt.title(\"Accuracy\")\n",
    "plt.show()"
   ]
  },
  {
   "cell_type": "code",
   "execution_count": null,
   "metadata": {},
   "outputs": [],
   "source": []
  }
 ],
 "metadata": {
  "kernelspec": {
   "display_name": "Python 3",
   "language": "python",
   "name": "python3"
  },
  "language_info": {
   "codemirror_mode": {
    "name": "ipython",
    "version": 3
   },
   "file_extension": ".py",
   "mimetype": "text/x-python",
   "name": "python",
   "nbconvert_exporter": "python",
   "pygments_lexer": "ipython3",
   "version": "3.6.8"
  }
 },
 "nbformat": 4,
 "nbformat_minor": 2
}
