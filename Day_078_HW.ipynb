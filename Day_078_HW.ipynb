{
 "cells": [
  {
   "cell_type": "code",
   "execution_count": 2,
   "metadata": {},
   "outputs": [
    {
     "data": {
      "text/plain": [
       "'\\nYour code here (optional)\\n確認硬體資源\\n'"
      ]
     },
     "execution_count": 2,
     "metadata": {},
     "output_type": "execute_result"
    }
   ],
   "source": [
    "## \n",
    "\"\"\"\n",
    "Your code here (optional)\n",
    "確認硬體資源\n",
    "\"\"\"\n",
    "## 確認硬體資源 (如果你是在 Linux, 若是在 Windows, 請參考 https://blog.csdn.net/idwtwt/article/details/78017565)\n",
    "#!nvidia-smi"
   ]
  },
  {
   "cell_type": "code",
   "execution_count": 1,
   "metadata": {},
   "outputs": [
    {
     "name": "stderr",
     "output_type": "stream",
     "text": [
      "Using TensorFlow backend.\n"
     ]
    }
   ],
   "source": [
    "import os\n",
    "import keras\n",
    "import tensorflow as tf\n",
    "# 請嘗試設定 GPU：os.environ\n",
    "# 本作業可以不需使用 GPU, 將 GPU 設定為 \"無\" (若有 GPU 且想開啟，可設為 \"0\")\n",
    "os.environ[\"CUDA_VISIBLE_DEVICES\"] = \"0\"\n",
    "gpu_options = tf.GPUOptions(per_process_gpu_memory_fraction=0.333)  \n",
    "sess = tf.Session(config=tf.ConfigProto(gpu_options=gpu_options))"
   ]
  },
  {
   "cell_type": "code",
   "execution_count": 2,
   "metadata": {},
   "outputs": [],
   "source": [
    "train, test = keras.datasets.cifar10.load_data()"
   ]
  },
  {
   "cell_type": "code",
   "execution_count": 3,
   "metadata": {},
   "outputs": [],
   "source": [
    "## 資料前處理\n",
    "\"\"\"\n",
    "Your code here\n",
    "\"\"\"\n",
    "def preproc_x(x, flatten = True):\n",
    "    x = x / 255\n",
    "    if flatten:\n",
    "        x = x.reshape((len(x), -1))\n",
    "    return x\n",
    "\n",
    "def preproc_y(y, num_classes = 10):\n",
    "    if y.shape[-1] == 1:\n",
    "        y = keras.utils.to_categorical(y, num_classes)\n",
    "    return y"
   ]
  },
  {
   "cell_type": "code",
   "execution_count": 4,
   "metadata": {},
   "outputs": [],
   "source": [
    "x_train, y_train = train\n",
    "x_test, y_test = test\n",
    "\n",
    "# Preproc the inputs\n",
    "x_train = preproc_x(x_train)\n",
    "x_test = preproc_x(x_test)\n",
    "\n",
    "# Preprc the outputs\n",
    "y_train = preproc_y(y_train)\n",
    "y_test = preproc_y(y_test)"
   ]
  },
  {
   "cell_type": "code",
   "execution_count": 5,
   "metadata": {},
   "outputs": [],
   "source": [
    "\"\"\"Code Here\n",
    "建立你的神經網路\n",
    "\"\"\"\n",
    "def build_mlp(\n",
    "    input_shape, \n",
    "    output_units = 10, \n",
    "    num_neurons = [512, 256, 128]):\n",
    "    input_layer = keras.layers.Input(input_shape)\n",
    "    \n",
    "    for i, n_units in enumerate(num_neurons):\n",
    "        if i == 0:\n",
    "            x = keras.layers.Dense(units=n_units, activation=\"relu\", name=\"hidden_layer\"+str(i+1))(input_layer)\n",
    "        else:\n",
    "            x = keras.layers.Dense(units=n_units, activation=\"relu\", name=\"hidden_layer\"+str(i+1))(x)\n",
    "    \n",
    "    out = keras.layers.Dense(units=10, activation='softmax', name = 'output')(x)\n",
    "    model = keras.models.Model(inputs=[input_layer], outputs=[out])\n",
    "    return model\n"
   ]
  },
  {
   "cell_type": "code",
   "execution_count": 6,
   "metadata": {},
   "outputs": [
    {
     "name": "stderr",
     "output_type": "stream",
     "text": [
      "WARNING: Logging before flag parsing goes to stderr.\n",
      "W0718 14:49:30.393081 12712 deprecation_wrapper.py:119] From c:\\python36\\lib\\site-packages\\keras\\backend\\tensorflow_backend.py:74: The name tf.get_default_graph is deprecated. Please use tf.compat.v1.get_default_graph instead.\n",
      "\n",
      "W0718 14:49:30.394078 12712 deprecation_wrapper.py:119] From c:\\python36\\lib\\site-packages\\keras\\backend\\tensorflow_backend.py:517: The name tf.placeholder is deprecated. Please use tf.compat.v1.placeholder instead.\n",
      "\n",
      "W0718 14:49:30.396075 12712 deprecation_wrapper.py:119] From c:\\python36\\lib\\site-packages\\keras\\backend\\tensorflow_backend.py:4138: The name tf.random_uniform is deprecated. Please use tf.random.uniform instead.\n",
      "\n"
     ]
    },
    {
     "name": "stdout",
     "output_type": "stream",
     "text": [
      "_________________________________________________________________\n",
      "Layer (type)                 Output Shape              Param #   \n",
      "=================================================================\n",
      "input_1 (InputLayer)         (None, 3072)              0         \n",
      "_________________________________________________________________\n",
      "hidden_layer1 (Dense)        (None, 512)               1573376   \n",
      "_________________________________________________________________\n",
      "hidden_layer2 (Dense)        (None, 256)               131328    \n",
      "_________________________________________________________________\n",
      "hidden_layer3 (Dense)        (None, 128)               32896     \n",
      "_________________________________________________________________\n",
      "output (Dense)               (None, 10)                1290      \n",
      "=================================================================\n",
      "Total params: 1,738,890\n",
      "Trainable params: 1,738,890\n",
      "Non-trainable params: 0\n",
      "_________________________________________________________________\n"
     ]
    }
   ],
   "source": [
    "model = build_mlp(input_shape = x_train.shape[1:])\n",
    "model.summary()"
   ]
  },
  {
   "cell_type": "code",
   "execution_count": 7,
   "metadata": {},
   "outputs": [],
   "source": [
    "## 超參數設定\n",
    "LEARNING_RATE = 0.001\n",
    "EPOCHS = 100\n",
    "BATCH_SIZE = 256"
   ]
  },
  {
   "cell_type": "code",
   "execution_count": 8,
   "metadata": {},
   "outputs": [
    {
     "name": "stderr",
     "output_type": "stream",
     "text": [
      "W0718 14:49:33.724873 12712 deprecation_wrapper.py:119] From c:\\python36\\lib\\site-packages\\keras\\optimizers.py:790: The name tf.train.Optimizer is deprecated. Please use tf.compat.v1.train.Optimizer instead.\n",
      "\n",
      "W0718 14:49:33.730890 12712 deprecation_wrapper.py:119] From c:\\python36\\lib\\site-packages\\keras\\backend\\tensorflow_backend.py:3295: The name tf.log is deprecated. Please use tf.math.log instead.\n",
      "\n"
     ]
    }
   ],
   "source": [
    "optimizer = keras.optimizers.Adam(lr=LEARNING_RATE)\n",
    "model.compile(loss=\"categorical_crossentropy\", metrics=[\"accuracy\"], optimizer=optimizer)"
   ]
  },
  {
   "cell_type": "code",
   "execution_count": 9,
   "metadata": {},
   "outputs": [
    {
     "name": "stderr",
     "output_type": "stream",
     "text": [
      "W0718 14:49:34.908027 12712 deprecation.py:323] From c:\\python36\\lib\\site-packages\\tensorflow\\python\\ops\\math_grad.py:1250: add_dispatch_support.<locals>.wrapper (from tensorflow.python.ops.array_ops) is deprecated and will be removed in a future version.\n",
      "Instructions for updating:\n",
      "Use tf.where in 2.0, which has the same broadcast rule as np.where\n",
      "W0718 14:49:34.951911 12712 deprecation_wrapper.py:119] From c:\\python36\\lib\\site-packages\\keras\\backend\\tensorflow_backend.py:986: The name tf.assign_add is deprecated. Please use tf.compat.v1.assign_add instead.\n",
      "\n"
     ]
    },
    {
     "name": "stdout",
     "output_type": "stream",
     "text": [
      "Train on 50000 samples, validate on 10000 samples\n",
      "Epoch 1/100\n",
      "50000/50000 [==============================] - 3s 64us/step - loss: 1.9438 - acc: 0.2990 - val_loss: 1.7837 - val_acc: 0.3660\n",
      "Epoch 2/100\n",
      "50000/50000 [==============================] - 2s 47us/step - loss: 1.7066 - acc: 0.3895 - val_loss: 1.6412 - val_acc: 0.4172\n",
      "Epoch 3/100\n",
      "50000/50000 [==============================] - 2s 47us/step - loss: 1.6202 - acc: 0.4204 - val_loss: 1.5735 - val_acc: 0.4407\n",
      "Epoch 4/100\n",
      "50000/50000 [==============================] - 2s 47us/step - loss: 1.5508 - acc: 0.4477 - val_loss: 1.5771 - val_acc: 0.4406\n",
      "Epoch 5/100\n",
      "50000/50000 [==============================] - 2s 48us/step - loss: 1.4972 - acc: 0.4661 - val_loss: 1.5044 - val_acc: 0.4595\n",
      "Epoch 6/100\n",
      "50000/50000 [==============================] - 2s 48us/step - loss: 1.4688 - acc: 0.4759 - val_loss: 1.4923 - val_acc: 0.4686\n",
      "Epoch 7/100\n",
      "50000/50000 [==============================] - 2s 47us/step - loss: 1.4351 - acc: 0.4862 - val_loss: 1.4989 - val_acc: 0.4649\n",
      "Epoch 8/100\n",
      "50000/50000 [==============================] - 2s 47us/step - loss: 1.4128 - acc: 0.4965 - val_loss: 1.4508 - val_acc: 0.4762\n",
      "Epoch 9/100\n",
      "50000/50000 [==============================] - 2s 47us/step - loss: 1.3749 - acc: 0.5084 - val_loss: 1.4470 - val_acc: 0.4875\n",
      "Epoch 10/100\n",
      "50000/50000 [==============================] - 2s 47us/step - loss: 1.3472 - acc: 0.5192 - val_loss: 1.3979 - val_acc: 0.4985\n",
      "Epoch 11/100\n",
      "50000/50000 [==============================] - 3s 52us/step - loss: 1.3182 - acc: 0.5290 - val_loss: 1.3874 - val_acc: 0.5065\n",
      "Epoch 12/100\n",
      "50000/50000 [==============================] - 2s 47us/step - loss: 1.3013 - acc: 0.5351 - val_loss: 1.4056 - val_acc: 0.5032\n",
      "Epoch 13/100\n",
      "50000/50000 [==============================] - 2s 47us/step - loss: 1.2821 - acc: 0.5436 - val_loss: 1.4368 - val_acc: 0.4880\n",
      "Epoch 14/100\n",
      "50000/50000 [==============================] - 2s 48us/step - loss: 1.2547 - acc: 0.5530 - val_loss: 1.3808 - val_acc: 0.5118\n",
      "Epoch 15/100\n",
      "50000/50000 [==============================] - 2s 47us/step - loss: 1.2393 - acc: 0.5580 - val_loss: 1.4070 - val_acc: 0.5069\n",
      "Epoch 16/100\n",
      "50000/50000 [==============================] - 2s 48us/step - loss: 1.2187 - acc: 0.5648 - val_loss: 1.3490 - val_acc: 0.5241\n",
      "Epoch 17/100\n",
      "50000/50000 [==============================] - 2s 47us/step - loss: 1.1896 - acc: 0.5784 - val_loss: 1.3745 - val_acc: 0.5142\n",
      "Epoch 18/100\n",
      "50000/50000 [==============================] - 2s 47us/step - loss: 1.1766 - acc: 0.5810 - val_loss: 1.3674 - val_acc: 0.5173\n",
      "Epoch 19/100\n",
      "50000/50000 [==============================] - 2s 46us/step - loss: 1.1539 - acc: 0.5883 - val_loss: 1.3358 - val_acc: 0.5264\n",
      "Epoch 20/100\n",
      "50000/50000 [==============================] - 2s 46us/step - loss: 1.1329 - acc: 0.5958 - val_loss: 1.4260 - val_acc: 0.5069\n",
      "Epoch 21/100\n",
      "50000/50000 [==============================] - 2s 47us/step - loss: 1.1118 - acc: 0.6008 - val_loss: 1.3952 - val_acc: 0.5164\n",
      "Epoch 22/100\n",
      "50000/50000 [==============================] - 2s 47us/step - loss: 1.0999 - acc: 0.6061 - val_loss: 1.4087 - val_acc: 0.5098\n",
      "Epoch 23/100\n",
      "50000/50000 [==============================] - 2s 47us/step - loss: 1.0784 - acc: 0.6137 - val_loss: 1.4307 - val_acc: 0.5151\n",
      "Epoch 24/100\n",
      "50000/50000 [==============================] - 2s 47us/step - loss: 1.0591 - acc: 0.6197 - val_loss: 1.3818 - val_acc: 0.5207\n",
      "Epoch 25/100\n",
      "50000/50000 [==============================] - 2s 47us/step - loss: 1.0478 - acc: 0.6262 - val_loss: 1.4050 - val_acc: 0.5205\n",
      "Epoch 26/100\n",
      "50000/50000 [==============================] - 2s 46us/step - loss: 1.0210 - acc: 0.6353 - val_loss: 1.4243 - val_acc: 0.5114\n",
      "Epoch 27/100\n",
      "50000/50000 [==============================] - 2s 46us/step - loss: 1.0046 - acc: 0.6388 - val_loss: 1.4071 - val_acc: 0.5243\n",
      "Epoch 28/100\n",
      "50000/50000 [==============================] - 2s 46us/step - loss: 0.9835 - acc: 0.6489 - val_loss: 1.3950 - val_acc: 0.5279\n",
      "Epoch 29/100\n",
      "50000/50000 [==============================] - 2s 47us/step - loss: 0.9787 - acc: 0.6486 - val_loss: 1.3889 - val_acc: 0.5337\n",
      "Epoch 30/100\n",
      "50000/50000 [==============================] - 2s 46us/step - loss: 0.9472 - acc: 0.6609 - val_loss: 1.4189 - val_acc: 0.5266\n",
      "Epoch 31/100\n",
      "50000/50000 [==============================] - 2s 46us/step - loss: 0.9433 - acc: 0.6626 - val_loss: 1.4220 - val_acc: 0.5245\n",
      "Epoch 32/100\n",
      "50000/50000 [==============================] - 2s 47us/step - loss: 0.9172 - acc: 0.6718 - val_loss: 1.4450 - val_acc: 0.5189\n",
      "Epoch 33/100\n",
      "50000/50000 [==============================] - 2s 46us/step - loss: 0.8917 - acc: 0.6804 - val_loss: 1.4865 - val_acc: 0.5219\n",
      "Epoch 34/100\n",
      "50000/50000 [==============================] - 2s 46us/step - loss: 0.8901 - acc: 0.6787 - val_loss: 1.4662 - val_acc: 0.5189\n",
      "Epoch 35/100\n",
      "50000/50000 [==============================] - 2s 47us/step - loss: 0.8691 - acc: 0.6894 - val_loss: 1.4792 - val_acc: 0.5222\n",
      "Epoch 36/100\n",
      "50000/50000 [==============================] - 2s 47us/step - loss: 0.8584 - acc: 0.6907 - val_loss: 1.4667 - val_acc: 0.5262\n",
      "Epoch 37/100\n",
      "50000/50000 [==============================] - 3s 50us/step - loss: 0.8334 - acc: 0.7002 - val_loss: 1.4801 - val_acc: 0.5287\n",
      "Epoch 38/100\n",
      "50000/50000 [==============================] - 2s 47us/step - loss: 0.8202 - acc: 0.7046 - val_loss: 1.5385 - val_acc: 0.5282\n",
      "Epoch 39/100\n",
      "50000/50000 [==============================] - 2s 47us/step - loss: 0.8048 - acc: 0.7117 - val_loss: 1.5572 - val_acc: 0.5254\n",
      "Epoch 40/100\n",
      "50000/50000 [==============================] - 2s 47us/step - loss: 0.7996 - acc: 0.7142 - val_loss: 1.5759 - val_acc: 0.5225\n",
      "Epoch 41/100\n",
      "50000/50000 [==============================] - 2s 46us/step - loss: 0.7744 - acc: 0.7211 - val_loss: 1.5510 - val_acc: 0.5304\n",
      "Epoch 42/100\n",
      "50000/50000 [==============================] - 2s 46us/step - loss: 0.7609 - acc: 0.7271 - val_loss: 1.5863 - val_acc: 0.5288\n",
      "Epoch 43/100\n",
      "50000/50000 [==============================] - 2s 47us/step - loss: 0.7413 - acc: 0.7356 - val_loss: 1.6444 - val_acc: 0.5122\n",
      "Epoch 44/100\n",
      "50000/50000 [==============================] - 2s 47us/step - loss: 0.7383 - acc: 0.7353 - val_loss: 1.6104 - val_acc: 0.5205\n",
      "Epoch 45/100\n",
      "50000/50000 [==============================] - 2s 46us/step - loss: 0.7227 - acc: 0.7403 - val_loss: 1.6726 - val_acc: 0.5083\n",
      "Epoch 46/100\n",
      "50000/50000 [==============================] - 2s 47us/step - loss: 0.7156 - acc: 0.7433 - val_loss: 1.6747 - val_acc: 0.5185\n",
      "Epoch 47/100\n",
      "50000/50000 [==============================] - 2s 47us/step - loss: 0.6927 - acc: 0.7525 - val_loss: 1.6887 - val_acc: 0.5245\n",
      "Epoch 48/100\n",
      "50000/50000 [==============================] - 2s 46us/step - loss: 0.6873 - acc: 0.7541 - val_loss: 1.6913 - val_acc: 0.5273\n",
      "Epoch 49/100\n",
      "50000/50000 [==============================] - 2s 46us/step - loss: 0.6675 - acc: 0.7602 - val_loss: 1.7043 - val_acc: 0.5231\n",
      "Epoch 50/100\n",
      "50000/50000 [==============================] - 2s 46us/step - loss: 0.6488 - acc: 0.7682 - val_loss: 1.7674 - val_acc: 0.5193\n",
      "Epoch 51/100\n",
      "50000/50000 [==============================] - 2s 47us/step - loss: 0.6531 - acc: 0.7653 - val_loss: 1.8254 - val_acc: 0.4987\n",
      "Epoch 52/100\n",
      "50000/50000 [==============================] - 2s 47us/step - loss: 0.6474 - acc: 0.7667 - val_loss: 1.8002 - val_acc: 0.5243\n",
      "Epoch 53/100\n",
      "50000/50000 [==============================] - 2s 48us/step - loss: 0.6256 - acc: 0.7753 - val_loss: 1.8048 - val_acc: 0.5173\n",
      "Epoch 54/100\n",
      "50000/50000 [==============================] - 2s 48us/step - loss: 0.6010 - acc: 0.7852 - val_loss: 1.8231 - val_acc: 0.5253\n",
      "Epoch 55/100\n",
      "50000/50000 [==============================] - 2s 45us/step - loss: 0.5901 - acc: 0.7881 - val_loss: 1.8520 - val_acc: 0.5215\n",
      "Epoch 56/100\n",
      "50000/50000 [==============================] - 2s 47us/step - loss: 0.5822 - acc: 0.7912 - val_loss: 1.8842 - val_acc: 0.5236\n",
      "Epoch 57/100\n",
      "50000/50000 [==============================] - 2s 48us/step - loss: 0.5804 - acc: 0.7909 - val_loss: 1.9221 - val_acc: 0.5133\n",
      "Epoch 58/100\n",
      "50000/50000 [==============================] - 2s 47us/step - loss: 0.5600 - acc: 0.7993 - val_loss: 1.9075 - val_acc: 0.5175\n",
      "Epoch 59/100\n"
     ]
    },
    {
     "name": "stdout",
     "output_type": "stream",
     "text": [
      "50000/50000 [==============================] - 2s 47us/step - loss: 0.5519 - acc: 0.8002 - val_loss: 1.9708 - val_acc: 0.5151\n",
      "Epoch 60/100\n",
      "50000/50000 [==============================] - 2s 46us/step - loss: 0.5498 - acc: 0.8013 - val_loss: 2.0046 - val_acc: 0.5153\n",
      "Epoch 61/100\n",
      "50000/50000 [==============================] - 2s 46us/step - loss: 0.5527 - acc: 0.8009 - val_loss: 2.0445 - val_acc: 0.5092\n",
      "Epoch 62/100\n",
      "50000/50000 [==============================] - 3s 52us/step - loss: 0.5147 - acc: 0.8170 - val_loss: 2.0320 - val_acc: 0.5175\n",
      "Epoch 63/100\n",
      "50000/50000 [==============================] - 2s 48us/step - loss: 0.5102 - acc: 0.8172 - val_loss: 2.0423 - val_acc: 0.5130\n",
      "Epoch 64/100\n",
      "50000/50000 [==============================] - 2s 47us/step - loss: 0.5177 - acc: 0.8128 - val_loss: 2.0710 - val_acc: 0.5109\n",
      "Epoch 65/100\n",
      "50000/50000 [==============================] - 2s 46us/step - loss: 0.4902 - acc: 0.8256 - val_loss: 2.0931 - val_acc: 0.5168\n",
      "Epoch 66/100\n",
      "50000/50000 [==============================] - 2s 47us/step - loss: 0.4864 - acc: 0.8250 - val_loss: 2.1288 - val_acc: 0.5105\n",
      "Epoch 67/100\n",
      "50000/50000 [==============================] - 2s 47us/step - loss: 0.4750 - acc: 0.8284 - val_loss: 2.1647 - val_acc: 0.5162\n",
      "Epoch 68/100\n",
      "50000/50000 [==============================] - 2s 46us/step - loss: 0.4743 - acc: 0.8312 - val_loss: 2.1687 - val_acc: 0.5109\n",
      "Epoch 69/100\n",
      "50000/50000 [==============================] - 2s 47us/step - loss: 0.4730 - acc: 0.8294 - val_loss: 2.2722 - val_acc: 0.5118\n",
      "Epoch 70/100\n",
      "50000/50000 [==============================] - 2s 46us/step - loss: 0.4465 - acc: 0.8390 - val_loss: 2.2163 - val_acc: 0.5169\n",
      "Epoch 71/100\n",
      "50000/50000 [==============================] - 2s 47us/step - loss: 0.4547 - acc: 0.8364 - val_loss: 2.2726 - val_acc: 0.5002\n",
      "Epoch 72/100\n",
      "50000/50000 [==============================] - 2s 47us/step - loss: 0.4527 - acc: 0.8396 - val_loss: 2.2756 - val_acc: 0.5114\n",
      "Epoch 73/100\n",
      "50000/50000 [==============================] - 2s 46us/step - loss: 0.4438 - acc: 0.8404 - val_loss: 2.2979 - val_acc: 0.5037\n",
      "Epoch 74/100\n",
      "50000/50000 [==============================] - 2s 46us/step - loss: 0.4213 - acc: 0.8472 - val_loss: 2.3399 - val_acc: 0.5074\n",
      "Epoch 75/100\n",
      "50000/50000 [==============================] - 2s 46us/step - loss: 0.4303 - acc: 0.8456 - val_loss: 2.3907 - val_acc: 0.5097\n",
      "Epoch 76/100\n",
      "50000/50000 [==============================] - 2s 47us/step - loss: 0.4055 - acc: 0.8548 - val_loss: 2.3757 - val_acc: 0.5132\n",
      "Epoch 77/100\n",
      "50000/50000 [==============================] - 2s 47us/step - loss: 0.4035 - acc: 0.8553 - val_loss: 2.4630 - val_acc: 0.5125\n",
      "Epoch 78/100\n",
      "50000/50000 [==============================] - 2s 46us/step - loss: 0.4038 - acc: 0.8545 - val_loss: 2.4257 - val_acc: 0.5133\n",
      "Epoch 79/100\n",
      "50000/50000 [==============================] - 2s 47us/step - loss: 0.3947 - acc: 0.8597 - val_loss: 2.4958 - val_acc: 0.5072\n",
      "Epoch 80/100\n",
      "50000/50000 [==============================] - 2s 47us/step - loss: 0.4163 - acc: 0.8486 - val_loss: 2.4839 - val_acc: 0.5074\n",
      "Epoch 81/100\n",
      "50000/50000 [==============================] - 2s 47us/step - loss: 0.3763 - acc: 0.8648 - val_loss: 2.5446 - val_acc: 0.5040\n",
      "Epoch 82/100\n",
      "50000/50000 [==============================] - 2s 46us/step - loss: 0.3780 - acc: 0.8629 - val_loss: 2.6511 - val_acc: 0.5003\n",
      "Epoch 83/100\n",
      "50000/50000 [==============================] - 2s 46us/step - loss: 0.3537 - acc: 0.8744 - val_loss: 2.6004 - val_acc: 0.5056\n",
      "Epoch 84/100\n",
      "50000/50000 [==============================] - 2s 47us/step - loss: 0.3557 - acc: 0.8726 - val_loss: 2.6599 - val_acc: 0.5124\n",
      "Epoch 85/100\n",
      "50000/50000 [==============================] - 2s 47us/step - loss: 0.3451 - acc: 0.8750 - val_loss: 2.5860 - val_acc: 0.5087\n",
      "Epoch 86/100\n",
      "50000/50000 [==============================] - 2s 46us/step - loss: 0.3492 - acc: 0.8744 - val_loss: 2.6593 - val_acc: 0.5064\n",
      "Epoch 87/100\n",
      "50000/50000 [==============================] - 2s 46us/step - loss: 0.3703 - acc: 0.8655 - val_loss: 2.7280 - val_acc: 0.4912\n",
      "Epoch 88/100\n",
      "50000/50000 [==============================] - 2s 50us/step - loss: 0.3710 - acc: 0.8642 - val_loss: 2.7502 - val_acc: 0.5048\n",
      "Epoch 89/100\n",
      "50000/50000 [==============================] - 2s 46us/step - loss: 0.3357 - acc: 0.8780 - val_loss: 2.7441 - val_acc: 0.4963\n",
      "Epoch 90/100\n",
      "50000/50000 [==============================] - 2s 46us/step - loss: 0.3580 - acc: 0.8693 - val_loss: 2.7556 - val_acc: 0.5075\n",
      "Epoch 91/100\n",
      "50000/50000 [==============================] - 2s 47us/step - loss: 0.3312 - acc: 0.8809 - val_loss: 2.7454 - val_acc: 0.5006\n",
      "Epoch 92/100\n",
      "50000/50000 [==============================] - 2s 47us/step - loss: 0.3256 - acc: 0.8838 - val_loss: 2.7105 - val_acc: 0.5037\n",
      "Epoch 93/100\n",
      "50000/50000 [==============================] - 2s 47us/step - loss: 0.3105 - acc: 0.8877 - val_loss: 2.8478 - val_acc: 0.5077\n",
      "Epoch 94/100\n",
      "50000/50000 [==============================] - 2s 46us/step - loss: 0.3348 - acc: 0.8789 - val_loss: 2.8136 - val_acc: 0.5055\n",
      "Epoch 95/100\n",
      "50000/50000 [==============================] - 2s 47us/step - loss: 0.3294 - acc: 0.8820 - val_loss: 2.8320 - val_acc: 0.5042\n",
      "Epoch 96/100\n",
      "50000/50000 [==============================] - 2s 46us/step - loss: 0.3009 - acc: 0.8920 - val_loss: 2.8935 - val_acc: 0.5071\n",
      "Epoch 97/100\n",
      "50000/50000 [==============================] - 2s 47us/step - loss: 0.3234 - acc: 0.8841 - val_loss: 2.9997 - val_acc: 0.5006\n",
      "Epoch 98/100\n",
      "50000/50000 [==============================] - 2s 46us/step - loss: 0.3199 - acc: 0.8846 - val_loss: 3.0079 - val_acc: 0.4910\n",
      "Epoch 99/100\n",
      "50000/50000 [==============================] - 2s 47us/step - loss: 0.3154 - acc: 0.8861 - val_loss: 2.9522 - val_acc: 0.5082\n",
      "Epoch 100/100\n",
      "50000/50000 [==============================] - 2s 49us/step - loss: 0.3064 - acc: 0.8885 - val_loss: 2.9752 - val_acc: 0.5047\n"
     ]
    },
    {
     "data": {
      "text/plain": [
       "<keras.callbacks.History at 0x256938147b8>"
      ]
     },
     "execution_count": 9,
     "metadata": {},
     "output_type": "execute_result"
    }
   ],
   "source": [
    "model.fit(x_train, y_train, \n",
    "          epochs=EPOCHS, \n",
    "          batch_size=BATCH_SIZE, \n",
    "          validation_data=(x_test, y_test), \n",
    "          shuffle=True)"
   ]
  },
  {
   "cell_type": "code",
   "execution_count": 11,
   "metadata": {},
   "outputs": [
    {
     "data": {
      "image/png": "[encoded data removed]",
      "text/plain": [
       "<Figure size 432x288 with 1 Axes>"
      ]
     },
     "metadata": {
      "needs_background": "light"
     },
     "output_type": "display_data"
    },
    {
     "data": {
      "image/png": "[encoded data removed]",
      "text/plain": [
       "<Figure size 432x288 with 1 Axes>"
      ]
     },
     "metadata": {
      "needs_background": "light"
     },
     "output_type": "display_data"
    }
   ],
   "source": [
    "import matplotlib.pyplot as plt\n",
    "%matplotlib inline\n",
    "\n",
    "train_loss = model.history.history[\"loss\"]\n",
    "valid_loss = model.history.history[\"val_loss\"]\n",
    "\n",
    "train_acc = model.history.history[\"acc\"]\n",
    "valid_acc = model.history.history[\"val_acc\"]\n",
    "\n",
    "plt.plot(range(len(train_loss)), train_loss, label=\"train loss\")\n",
    "plt.plot(range(len(valid_loss)), valid_loss, label=\"valid loss\")\n",
    "plt.legend()\n",
    "plt.title(\"Loss\")\n",
    "plt.show()\n",
    "\n",
    "plt.plot(range(len(train_acc)), train_acc, label=\"train accuracy\")\n",
    "plt.plot(range(len(valid_acc)), valid_acc, label=\"valid accuracy\")\n",
    "plt.legend()\n",
    "plt.title(\"Accuracy\")\n",
    "plt.show()"
   ]
  },
  {
   "cell_type": "markdown",
   "metadata": {},
   "source": [
    "## Work\n",
    "1. 請嘗試將 preproc_x 替換成以每筆資料的 min/max 進行標準化至 -1 ~ 1 間，再進行訓練\n",
    "2. 請嘗試將 mlp 疊更深 (e.g 5~10 層)，進行訓練後觀察 learning curve 的走勢\n",
    "3. (optional) 請改用 GPU 進行訓練 (如果你有 GPU 的話)，比較使用 CPU 與 GPU 的訓練速度"
   ]
  }
 ],
 "metadata": {
  "kernelspec": {
   "display_name": "Python 3",
   "language": "python",
   "name": "python3"
  },
  "language_info": {
   "codemirror_mode": {
    "name": "ipython",
    "version": 3
   },
   "file_extension": ".py",
   "mimetype": "text/x-python",
   "name": "python",
   "nbconvert_exporter": "python",
   "pygments_lexer": "ipython3",
   "version": "3.6.8"
  }
 },
 "nbformat": 4,
 "nbformat_minor": 2
}
